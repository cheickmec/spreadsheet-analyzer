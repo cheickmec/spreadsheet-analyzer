{
 "cells": [
  {
   "cell_type": "markdown",
   "id": "5a902fba1716",
   "metadata": {},
   "source": [
    "# Test Output Saving"
   ]
  },
  {
   "cell_type": "code",
   "execution_count": null,
   "id": "e1c40027c896",
   "metadata": {},
   "outputs": [],
   "source": [
    "print(\"Hello from first cell!\")"
   ]
  },
  {
   "cell_type": "code",
   "execution_count": null,
   "id": "a18d070c035f",
   "metadata": {},
   "outputs": [],
   "source": [
    "x = 2 + 2\n",
    "print(f\"2 + 2 = {x}\")"
   ]
  },
  {
   "cell_type": "code",
   "execution_count": null,
   "id": "d7d505b7c8a9",
   "metadata": {},
   "outputs": [],
   "source": [
    "import pandas as pd\n",
    "\n",
    "print(f\"Pandas version: {pd.__version__}\")"
   ]
  }
 ],
 "metadata": {
  "kernelspec": {
   "display_name": "Python 3",
   "language": "python",
   "name": "python3"
  },
  "language_info": {
   "name": "python"
  }
 },
 "nbformat": 4,
 "nbformat_minor": 5
}
