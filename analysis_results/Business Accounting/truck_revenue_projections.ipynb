{
  "cells": [
    {
      "cell_type": "markdown",
      "metadata": {
        "cell_type": "overview"
      },
      "source": [
        "# Excel Sheet Analysis: Truck Revenue Projections\n",
        "\n",
        "## File Information\n",
        "- **File**: Business Accounting.xlsx\n",
        "- **Sheet**: Truck Revenue Projections\n",
        "- **Analysis Date**: 2025-07-22 07:53:50\n",
        "\n",
        "## Analysis Plan\n",
        "1. Load sheet data into pandas DataFrame\n",
        "2. Explore sheet structure and statistics\n",
        "3. Analyze formulas and dependencies\n",
        "4. Identify patterns and anomalies\n",
        "5. Generate insights and recommendations\n",
        ""
      ],
      "outputs": null
    },
    {
      "cell_type": "code",
      "metadata": {
        "cell_type": "setup"
      },
      "source": [
        "# Import required libraries\n",
        "import pandas as pd\n",
        "import numpy as np\n",
        "from pathlib import Path\n",
        "import warnings\n",
        "warnings.filterwarnings('ignore')\n",
        "\n",
        "# Excel file path\n",
        "excel_file = Path('test-files/business-accounting/Business Accounting.xlsx')\n",
        "sheet_name = 'Truck Revenue Projections'\n",
        "\n",
        "print(f\"Analyzing sheet '{sheet_name}' from {excel_file.name}\")\n",
        ""
      ],
      "outputs": null
    },
    {
      "cell_type": "code",
      "metadata": {
        "cell_type": "data_loading"
      },
      "source": [
        "# Load the sheet data\n",
        "try:\n",
        "    # Read with all data types preserved\n",
        "    df = pd.read_excel(excel_file, sheet_name=sheet_name, header=None)\n",
        "    print(f\"Successfully loaded sheet: {df.shape[0]} rows \u00d7 {df.shape[1]} columns\")\n",
        "    \n",
        "    # Also load to check formulas\n",
        "    from openpyxl import load_workbook\n",
        "    wb = load_workbook(excel_file, data_only=False)\n",
        "    ws = wb[sheet_name]\n",
        "    print(f\"Sheet dimensions from openpyxl: {ws.max_row} rows \u00d7 {ws.max_column} columns\")\n",
        "    \n",
        "except Exception as e:\n",
        "    print(f\"Error loading sheet: {e}\")\n",
        "    df = None\n",
        ""
      ],
      "outputs": null
    },
    {
      "cell_type": "code",
      "metadata": {
        "cell_type": "exploration"
      },
      "source": [
        "# Initial data exploration\n",
        "if df is not None:\n",
        "    print(\"\\n=== Data Overview ===\")\n",
        "    print(f\"Shape: {df.shape}\")\n",
        "    print(f\"Memory usage: {df.memory_usage().sum() / 1024:.1f} KB\")\n",
        "    \n",
        "    # Check for headers\n",
        "    potential_header_row = None\n",
        "    for i in range(min(5, len(df))):\n",
        "        row = df.iloc[i]\n",
        "        non_null = row.notna().sum()\n",
        "        if non_null > len(df.columns) * 0.5:  # More than 50% non-null\n",
        "            string_count = sum(isinstance(val, str) for val in row if pd.notna(val))\n",
        "            if string_count > len(df.columns) * 0.5:  # More than 50% strings\n",
        "                potential_header_row = i\n",
        "                break\n",
        "    \n",
        "    if potential_header_row is not None:\n",
        "        print(f\"\\nPotential header row detected at row {potential_header_row}\")\n",
        "        print(\"Headers:\", list(df.iloc[potential_header_row]))\n",
        "    \n",
        "    # Display first few rows\n",
        "    print(\"\\n=== First 10 rows ===\")\n",
        "    display(df.head(10))\n",
        ""
      ],
      "outputs": null
    },
    {
      "cell_type": "markdown",
      "metadata": {
        "analysis_type": "deterministic"
      },
      "source": [
        "## Deterministic Analysis Results\n",
        "\n",
        "### Summary\n",
        "- **Execution Time**: 0.498893s\n",
        "- **Success**: True\n",
        "\n",
        "- **Total Sheets**: 10\n",
        "- **Total Formulas**: 877\n",
        "- **Security Risk**: MEDIUM\n",
        ""
      ],
      "outputs": null
    },
    {
      "cell_type": "markdown",
      "metadata": {
        "analysis_type": "llm",
        "strategy": "hierarchical"
      },
      "source": [
        "## LLM Analysis (Hierarchical)\n",
        "\n",
        "\n",
        ""
      ],
      "outputs": null
    }
  ],
  "metadata": {
    "excel_file": "test-files/business-accounting/Business Accounting.xlsx",
    "sheet_name": "Truck Revenue Projections",
    "kernelspec": {
      "name": "python3",
      "display_name": "Python 3"
    },
    "language_info": {
      "name": "python",
      "version": "3.12"
    }
  },
  "nbformat": 4,
  "nbformat_minor": 5
}
