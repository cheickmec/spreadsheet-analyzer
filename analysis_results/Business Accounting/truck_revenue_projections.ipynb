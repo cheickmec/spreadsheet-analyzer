{
 "cells": [
  {
   "cell_type": "markdown",
   "id": "1ff28974",
   "metadata": {},
   "source": [
    "# Excel Sheet Analysis: Truck Revenue Projections\n",
    "\n",
    "## File Information\n",
    "- **File**: Business Accounting.xlsx\n",
    "- **Sheet**: Truck Revenue Projections\n",
    "- **Analysis Date**: 2025-07-22 07:53:50\n",
    "\n",
    "## Analysis Plan\n",
    "1. Load sheet data into pandas DataFrame\n",
    "2. Explore sheet structure and statistics\n",
    "3. Analyze formulas and dependencies\n",
    "4. Identify patterns and anomalies\n",
    "5. Generate insights and recommendations\n"
   ]
  },
  {
   "cell_type": "code",
   "execution_count": null,
   "id": "65ba0586",
   "metadata": {},
   "outputs": [],
   "source": [
    "# Import required libraries\n",
    "import warnings\n",
    "from pathlib import Path\n",
    "\n",
    "import pandas as pd\n",
    "\n",
    "warnings.filterwarnings(\"ignore\")\n",
    "\n",
    "# Excel file path\n",
    "excel_file = Path(\"test-files/business-accounting/Business Accounting.xlsx\")\n",
    "sheet_name = \"Truck Revenue Projections\"\n",
    "\n",
    "print(f\"Analyzing sheet '{sheet_name}' from {excel_file.name}\")"
   ]
  },
  {
   "cell_type": "code",
   "execution_count": null,
   "id": "fcf7b0d0",
   "metadata": {},
   "outputs": [],
   "source": [
    "# Load the sheet data\n",
    "try:\n",
    "    # Read with all data types preserved\n",
    "    df = pd.read_excel(excel_file, sheet_name=sheet_name, header=None)\n",
    "    print(f\"Successfully loaded sheet: {df.shape[0]} rows × {df.shape[1]} columns\")\n",
    "\n",
    "    # Also load to check formulas\n",
    "    from openpyxl import load_workbook\n",
    "\n",
    "    wb = load_workbook(excel_file, data_only=False)\n",
    "    ws = wb[sheet_name]\n",
    "    print(f\"Sheet dimensions from openpyxl: {ws.max_row} rows × {ws.max_column} columns\")\n",
    "\n",
    "except Exception as e:\n",
    "    print(f\"Error loading sheet: {e}\")\n",
    "    df = None"
   ]
  },
  {
   "cell_type": "code",
   "execution_count": null,
   "id": "fa8aa710",
   "metadata": {},
   "outputs": [],
   "source": [
    "# Initial data exploration\n",
    "if df is not None:\n",
    "    print(\"\\n=== Data Overview ===\")\n",
    "    print(f\"Shape: {df.shape}\")\n",
    "    print(f\"Memory usage: {df.memory_usage().sum() / 1024:.1f} KB\")\n",
    "\n",
    "    # Check for headers\n",
    "    potential_header_row = None\n",
    "    for i in range(min(5, len(df))):\n",
    "        row = df.iloc[i]\n",
    "        non_null = row.notna().sum()\n",
    "        if non_null > len(df.columns) * 0.5:  # More than 50% non-null\n",
    "            string_count = sum(isinstance(val, str) for val in row if pd.notna(val))\n",
    "            if string_count > len(df.columns) * 0.5:  # More than 50% strings\n",
    "                potential_header_row = i\n",
    "                break\n",
    "\n",
    "    if potential_header_row is not None:\n",
    "        print(f\"\\nPotential header row detected at row {potential_header_row}\")\n",
    "        print(\"Headers:\", list(df.iloc[potential_header_row]))\n",
    "\n",
    "    # Display first few rows\n",
    "    print(\"\\n=== First 10 rows ===\")\n",
    "    display(df.head(10))"
   ]
  },
  {
   "cell_type": "markdown",
   "id": "23e0ed96",
   "metadata": {},
   "source": [
    "## Deterministic Analysis Results\n",
    "\n",
    "### Summary\n",
    "- **Execution Time**: 0.498893s\n",
    "- **Success**: True\n",
    "\n",
    "- **Total Sheets**: 10\n",
    "- **Total Formulas**: 877\n",
    "- **Security Risk**: MEDIUM\n"
   ]
  },
  {
   "cell_type": "markdown",
   "id": "9f85975e",
   "metadata": {},
   "source": [
    "## LLM Analysis (Hierarchical)\n",
    "\n",
    "\n"
   ]
  }
 ],
 "metadata": {
  "excel_file": "test-files/business-accounting/Business Accounting.xlsx",
  "kernelspec": {
   "display_name": "Python 3",
   "name": "python3"
  },
  "language_info": {
   "name": "python"
  },
  "sheet_name": "Truck Revenue Projections"
 },
 "nbformat": 4,
 "nbformat_minor": 5
}
