{
 "cells": [
  {
   "cell_type": "code",
   "execution_count": 1,
   "id": "165a25d6",
   "metadata": {
    "cell_id": "a1e8aa1b-7997-4553-b06d-6687f09280bf"
   },
   "outputs": [
    {
     "name": "stdout",
     "output_type": "stream",
     "text": [
      "Loaded sheet with shape: (10, 9)\n\nFirst 10 rows:\n        Date                                   Description   USD Amount  Transaction type   Category   TOTAL REVENUES   0   TOTAL EXPENSES  -2031.63\n0 2025-01-03                  Mali Apartment work - Cement       -43.51               EXP        NaN              NaN NaN              NaN       NaN\n1 2025-01-15            Rebtel International Phone charges        -9.49               EXP        NaN              NaN NaN              NaN       NaN\n2 2025-01-21                  Mali Apartment work - Cement        -8.57               EXP        NaN              NaN NaN              NaN       NaN\n3 2025-01-22  Mali Apartment Work - Tile Install (Kitchen)       -48.78               EXP        NaN              NaN NaN              NaN       NaN\n4 2025-01-23              Aluminum fabricator - Issa Maiga      -424.34               EXP        NaN              NaN NaN              NaN       NaN\n5 2025-01-23  Mali Apartment work - Kitchen Wall Crepisage       -57.75               EXP        NaN              NaN NaN              NaN       NaN\n6 2025-01-23                  Mali Apartment work - Cement       -25.90               EXP        NaN              NaN NaN              NaN       NaN\n7 2025-01-26            Rebtel International Phone charges        -4.99               EXP        NaN              NaN NaN              NaN       NaN\n8 2025-01-14                      Toyota Prado - 4 x tires     -1095.34               EXP        NaN              NaN NaN              NaN       NaN\n9 2025-01-14        Toyota Prado - 4 x rims and spare tire      -312.96               EXP        NaN              NaN NaN              NaN       NaN\n\nLast 5 rows:\n        Date                                   Description   USD Amount  Transaction type   Category   TOTAL REVENUES   0   TOTAL EXPENSES  -2031.63\n5 2025-01-23  Mali Apartment work - Kitchen Wall Crepisage       -57.75               EXP        NaN              NaN NaN              NaN       NaN\n6 2025-01-23                  Mali Apartment work - Cement       -25.90               EXP        NaN              NaN NaN              NaN       NaN\n7 2025-01-26            Rebtel International Phone charges        -4.99               EXP        NaN              NaN NaN              NaN       NaN\n8 2025-01-14                      Toyota Prado - 4 x tires     -1095.34               EXP        NaN              NaN NaN              NaN       NaN\n9 2025-01-14        Toyota Prado - 4 x rims and spare tire      -312.96               EXP        NaN              NaN NaN              NaN       NaN\n"
     ]
    }
   ],
   "source": [
    "\n",
    "import pandas as pd\n",
    "from pathlib import Path\n",
    "\n",
    "excel_path = Path(r\"/Users/cheickberthe/PycharmProjects/spreadsheet-analyzer/test_assets/collection/business-accounting/Business Accounting.xlsx\")\n",
    "df = pd.read_excel(excel_path, sheet_name=0)\n",
    "print(f\"Loaded sheet with shape: {df.shape}\")\n",
    "\n",
    "# Quick preview for LLM context\n",
    "print(\"\\nFirst 10 rows:\")\n",
    "print(df.head(10).to_string())\n",
    "print(\"\\nLast 5 rows:\")\n",
    "print(df.tail(5).to_string())\n",
    "\n",
    "# Get basic info\n",
    "sheet_name = \"None\"\n",
    "sheet_dimensions = f\"{df.shape[0]} rows x {df.shape[1]} columns\"\n"
   ]
  },
  {
   "cell_type": "code",
   "execution_count": 2,
   "id": "7bc70301",
   "metadata": {
    "cell_id": "dac04d54-ad3d-47d4-b4e3-85ab293f80c6"
   },
   "outputs": [
    {
     "data": {
      "text/plain": [
       "'None'"
      ]
     },
     "execution_count": 2,
     "metadata": {},
     "output_type": "execute_result"
    }
   ],
   "source": [
    "\n",
    "excel_file_name = excel_path.name\n",
    "sheet_dimensions = f\"{df.shape[0]} rows x {df.shape[1]} columns\"\n",
    "sheet_name\n"
   ]
  },
  {
   "cell_type": "code",
   "execution_count": 3,
   "id": "62661379",
   "metadata": {
    "cell_id": "1f50191f-11cc-4aa1-937c-b986c7323977"
   },
   "outputs": [
    {
     "name": "stdout",
     "output_type": "stream",
     "text": [
      "=== DATA STRUCTURE ANALYSIS ===\nDataFrame shape: (10, 9)\nColumns: ['Date', 'Description', 'USD Amount', 'Transaction type', 'Category', 'TOTAL REVENUES', 0, 'TOTAL EXPENSES', -2031.6299999999999]\n\n=== FIRST 10 ROWS ===\n        Date                                   Description   USD Amount  Transaction type   Category   TOTAL REVENUES   0   TOTAL EXPENSES  -2031.63\n0 2025-01-03                  Mali Apartment work - Cement       -43.51               EXP        NaN              NaN NaN              NaN       NaN\n1 2025-01-15            Rebtel International Phone charges        -9.49               EXP        NaN              NaN NaN              NaN       NaN\n2 2025-01-21                  Mali Apartment work - Cement        -8.57               EXP        NaN              NaN NaN              NaN       NaN\n3 2025-01-22  Mali Apartment Work - Tile Install (Kitchen)       -48.78               EXP        NaN              NaN NaN              NaN       NaN\n4 2025-01-23              Aluminum fabricator - Issa Maiga      -424.34               EXP        NaN              NaN NaN              NaN       NaN\n5 2025-01-23  Mali Apartment work - Kitchen Wall Crepisage       -57.75               EXP        NaN              NaN NaN              NaN       NaN\n6 2025-01-23                  Mali Apartment work - Cement       -25.90               EXP        NaN              NaN NaN              NaN       NaN\n7 2025-01-26            Rebtel International Phone charges        -4.99               EXP        NaN              NaN NaN              NaN       NaN\n8 2025-01-14                      Toyota Prado - 4 x tires     -1095.34               EXP        NaN              NaN NaN              NaN       NaN\n9 2025-01-14        Toyota Prado - 4 x rims and spare tire      -312.96               EXP        NaN              NaN NaN              NaN       NaN\n\n=== LAST 5 ROWS ===\n        Date                                   Description   USD Amount  Transaction type   Category   TOTAL REVENUES   0   TOTAL EXPENSES  -2031.63\n5 2025-01-23  Mali Apartment work - Kitchen Wall Crepisage       -57.75               EXP        NaN              NaN NaN              NaN       NaN\n6 2025-01-23                  Mali Apartment work - Cement       -25.90               EXP        NaN              NaN NaN              NaN       NaN\n7 2025-01-26            Rebtel International Phone charges        -4.99               EXP        NaN              NaN NaN              NaN       NaN\n8 2025-01-14                      Toyota Prado - 4 x tires     -1095.34               EXP        NaN              NaN NaN              NaN       NaN\n9 2025-01-14        Toyota Prado - 4 x rims and spare tire      -312.96               EXP        NaN              NaN NaN              NaN       NaN\n\n=== COLUMN ANALYSIS ===\nColumn 0 ('Date'): 10/10 non-null values\nColumn 1 ('Description'): 10/10 non-null values\nColumn 2 ('USD Amount'): 10/10 non-null values\nColumn 3 ('Transaction type'): 10/10 non-null values\nColumn 4 ('Category'): 0/10 non-null values\nColumn 5 ('TOTAL REVENUES'): 0/10 non-null values\nColumn 6 ('0'): 0/10 non-null values\nColumn 7 ('TOTAL EXPENSES'): 0/10 non-null values\nColumn 8 ('-2031.6299999999999'): 0/10 non-null values\n\n=== EMPTY ROW ANALYSIS ===\nNo completely empty rows found\n\n=== SIDE-BY-SIDE ANALYSIS ===\nLeft section shape: (10, 7)\nRight section shape: (10, 2)\nLeft section non-null density: 0.57\nRight section non-null density: 0.00\n"
     ]
    }
   ],
   "source": [
    "\n",
    "# Table Detection Analysis\n",
    "print(\"=== DATA STRUCTURE ANALYSIS ===\")\n",
    "print(f\"DataFrame shape: {df.shape}\")\n",
    "print(f\"Columns: {list(df.columns)}\")\n",
    "print(\"\\n=== FIRST 10 ROWS ===\")\n",
    "print(df.head(10).to_string())\n",
    "print(\"\\n=== LAST 5 ROWS ===\")\n",
    "print(df.tail(5).to_string())\n",
    "\n",
    "print(\"\\n=== COLUMN ANALYSIS ===\")\n",
    "# Check for empty columns that might separate tables\n",
    "for i, col in enumerate(df.columns):\n",
    "    non_null_count = df[col].notna().sum()\n",
    "    print(f\"Column {i} ('{col}'): {non_null_count}/{len(df)} non-null values\")\n",
    "\n",
    "print(\"\\n=== EMPTY ROW ANALYSIS ===\")\n",
    "# Check for empty rows that might separate tables\n",
    "empty_rows = df.isnull().all(axis=1)\n",
    "if empty_rows.any():\n",
    "    empty_row_indices = empty_rows[empty_rows].index.tolist()\n",
    "    print(f\"Empty rows found at indices: {empty_row_indices[:10]}\")\n",
    "else:\n",
    "    print(\"No completely empty rows found\")\n",
    "\n",
    "print(\"\\n=== SIDE-BY-SIDE ANALYSIS ===\")\n",
    "# Check for potential side-by-side tables by examining column groups\n",
    "left_cols = df.iloc[:, 0:7]  # First 7 columns\n",
    "right_cols = df.iloc[:, 7:]  # Remaining columns\n",
    "print(f\"Left section shape: {left_cols.shape}\")\n",
    "print(f\"Right section shape: {right_cols.shape}\")\n",
    "print(f\"Left section non-null density: {left_cols.notna().sum().sum() / (left_cols.shape[0] * left_cols.shape[1]):.2f}\")\n",
    "print(f\"Right section non-null density: {right_cols.notna().sum().sum() / (right_cols.shape[0] * right_cols.shape[1]):.2f}\")\n"
   ]
  },
  {
   "cell_type": "code",
   "execution_count": 4,
   "id": "f9324649",
   "metadata": {
    "cell_id": "8a7dae13-d0d8-4817-9ca6-5cf07a2f880a"
   },
   "outputs": [
    {
     "name": "stdout",
     "output_type": "stream",
     "text": [
      "Column data types:\n Date                datetime64[ns]\n Description                 object\n USD Amount                 float64\n Transaction type            object\n Category                   float64\n TOTAL REVENUES             float64\n 0                          float64\n TOTAL EXPENSES             float64\n-2031.63                    float64\ndtype: object\n\nFirst 5 rows of columns 0-4:\n        Date                                   Description  USD Amount  \\\n0 2025-01-03                  Mali Apartment work - Cement      -43.51   \n1 2025-01-15            Rebtel International Phone charges       -9.49   \n2 2025-01-21                  Mali Apartment work - Cement       -8.57   \n3 2025-01-22  Mali Apartment Work - Tile Install (Kitchen)      -48.78   \n4 2025-01-23              Aluminum fabricator - Issa Maiga     -424.34   \n\n  Transaction type  Category  \n0              EXP       NaN  \n1              EXP       NaN  \n2              EXP       NaN  \n3              EXP       NaN  \n4              EXP       NaN  \n\nFirst 5 rows of columns 5-8:\n    TOTAL REVENUES   0   TOTAL EXPENSES  -2031.63\n0              NaN NaN              NaN       NaN\n1              NaN NaN              NaN       NaN\n2              NaN NaN              NaN       NaN\n3              NaN NaN              NaN       NaN\n4              NaN NaN              NaN       NaN\n\nValue in TOTAL EXPENSES column header:\nTOTAL EXPENSES = -2031.6299999999999\n\nUnique transaction types:\n['EXP']\n\nSum of USD Amount column: -2031.63\nValue in TOTAL EXPENSES column: -2031.6299999999999\n"
     ]
    }
   ],
   "source": [
    "# Further analyze the data to detect table boundaries\n",
    "import pandas as pd\n",
    "import numpy as np\n",
    "\n",
    "# Examine columns more closely to identify tables\n",
    "print(\"Column data types:\")\n",
    "print(df.dtypes)\n",
    "\n",
    "# Check pattern of data in left vs right sections\n",
    "print(\"\\nFirst 5 rows of columns 0-4:\")\n",
    "print(df.iloc[:5, 0:5])\n",
    "\n",
    "print(\"\\nFirst 5 rows of columns 5-8:\")\n",
    "print(df.iloc[:5, 5:])\n",
    "\n",
    "# Check if right section columns represent summary/totals\n",
    "print(\"\\nValue in TOTAL EXPENSES column header:\")\n",
    "print(df.columns[7], \"=\", df.columns[8])\n",
    "\n",
    "# Analyze transaction types\n",
    "print(\"\\nUnique transaction types:\")\n",
    "print(df['Transaction type'].unique())\n",
    "\n",
    "# Calculate sum of expenses to see if it matches total\n",
    "total_expenses = df['USD Amount'].sum()\n",
    "print(f\"\\nSum of USD Amount column: {total_expenses}\")\n",
    "print(f\"Value in TOTAL EXPENSES column: {df.columns[8]}\")"
   ]
  },
  {
   "cell_type": "code",
   "execution_count": 5,
   "id": "b9539395",
   "metadata": {
    "cell_id": "c71905f5-c402-4a12-aa4b-56a3f21f7308"
   },
   "outputs": [
    {
     "name": "stdout",
     "output_type": "stream",
     "text": [
      "Data pattern (X=value, .=NaN):\nXXXX.....\nXXXX.....\nXXXX.....\nXXXX.....\nXXXX.....\nXXXX.....\nXXXX.....\nXXXX.....\nXXXX.....\nXXXX.....\n\n\nLeft side columns:\n['Date', 'Description', 'USD Amount', 'Transaction type', 'Category']\n\nRight side columns:\n['TOTAL REVENUES', 0, 'TOTAL EXPENSES', -2031.6299999999999]\n\nSum of all expenses: -2031.63\nValue in column header: -2031.6299999999999\n\nTable layout visualization:\nCol 0: Date\nCol 1: Description\nCol 2: USD Amount\nCol 3: Transaction type\nCol 4: Category\nCol 5: TOTAL REVENUES\nCol 6: 0\nCol 7: TOTAL EXPENSES\nCol 8: -2031.6299999999999\n"
     ]
    }
   ],
   "source": [
    "# Look for visual patterns in the data\n",
    "# Print out a simplified representation of non-null vs null values\n",
    "\n",
    "def get_data_pattern(df):\n",
    "    \"\"\"Create a visual representation of data patterns with X for data and . for NaN\"\"\"\n",
    "    pattern = \"\"\n",
    "    for i in range(min(10, len(df))):\n",
    "        row = \"\"\n",
    "        for j in range(len(df.columns)):\n",
    "            if pd.isna(df.iloc[i, j]):\n",
    "                row += \".\"\n",
    "            else:\n",
    "                row += \"X\"\n",
    "        pattern += row + \"\\n\"\n",
    "    return pattern\n",
    "\n",
    "print(\"Data pattern (X=value, .=NaN):\")\n",
    "print(get_data_pattern(df))\n",
    "\n",
    "# Check if the right side (columns 5-8) contains a summary\n",
    "# Extract column names for analysis\n",
    "print(\"\\nLeft side columns:\")\n",
    "print(df.columns[0:5].tolist())\n",
    "print(\"\\nRight side columns:\")\n",
    "print(df.columns[5:].tolist())\n",
    "\n",
    "# Investigate if the second table is a summary of the first\n",
    "expense_sum = df[\"USD Amount\"].sum()\n",
    "print(f\"\\nSum of all expenses: {expense_sum}\")\n",
    "print(f\"Value in column header: {df.columns[8]}\")\n",
    "\n",
    "# Create a visual of the layout\n",
    "print(\"\\nTable layout visualization:\")\n",
    "for i, col in enumerate(df.columns):\n",
    "    print(f\"Col {i}: {col}\")"
   ]
  },
  {
   "cell_type": "code",
   "execution_count": 6,
   "id": "7cca09cc",
   "metadata": {
    "cell_id": "78bd90ba-05de-4da8-abcd-9736faf36442"
   },
   "outputs": [
    {
     "name": "stdout",
     "output_type": "stream",
     "text": [
      "Detected 2 tables\nTable 1: Expense transactions with 10 records at rows 0-9, cols 0-4\nTable 2: Expense summary totals at rows 0-0, cols 5-8\n\nTable 1 (Main expense details):\n        Date                         Description  USD Amount Transaction type  \\\n0 2025-01-03        Mali Apartment work - Cement      -43.51              EXP   \n1 2025-01-15  Rebtel International Phone charges       -9.49              EXP   \n2 2025-01-21        Mali Apartment work - Cement       -8.57              EXP   \n\n   Category  \n0       NaN  \n1       NaN  \n2       NaN  \n\nTable 2 (Summary totals - headers only):\n['TOTAL REVENUES', 0, 'TOTAL EXPENSES', -2031.6299999999999]\n"
     ]
    }
   ],
   "source": [
    "# Create the detected_tables list with our findings\n",
    "detected_tables = [\n",
    "    {\n",
    "        \"table_id\": \"table_1\",\n",
    "        \"description\": \"Expense transactions with 10 records\",\n",
    "        \"start_row\": 0,\n",
    "        \"end_row\": 9,\n",
    "        \"start_col\": 0,\n",
    "        \"end_col\": 4,\n",
    "        \"confidence\": 0.95,\n",
    "        \"table_type\": \"DETAIL\",\n",
    "        \"entity_type\": \"expenses\"\n",
    "    },\n",
    "    {\n",
    "        \"table_id\": \"table_2\",\n",
    "        \"description\": \"Expense summary totals\",\n",
    "        \"start_row\": 0,\n",
    "        \"end_row\": 0,  # Only the header row contains data\n",
    "        \"start_col\": 5,\n",
    "        \"end_col\": 8,\n",
    "        \"confidence\": 0.85,\n",
    "        \"table_type\": \"SUMMARY\",\n",
    "        \"entity_type\": \"summary\"\n",
    "    }\n",
    "]\n",
    "\n",
    "# Print out the detected tables\n",
    "print(f\"Detected {len(detected_tables)} tables\")\n",
    "for i, table in enumerate(detected_tables, 1):\n",
    "    print(f\"Table {i}: {table['description']} at rows {table['start_row']}-{table['end_row']}, cols {table['start_col']}-{table['end_col']}\")\n",
    "    \n",
    "# Additional verification - let's look at the content of each detected table\n",
    "print(\"\\nTable 1 (Main expense details):\")\n",
    "print(df.iloc[0:10, 0:5].head(3))\n",
    "\n",
    "print(\"\\nTable 2 (Summary totals - headers only):\")\n",
    "print(df.columns[5:9].tolist())"
   ]
  },
  {
   "cell_type": "code",
   "execution_count": 7,
   "id": "2de723fc",
   "metadata": {
    "cell_id": "69146d94-3618-4c8e-8b5d-e57d67876e9d"
   },
   "outputs": [
    {
     "name": "stdout",
     "output_type": "stream",
     "text": [
      "Found 2 tables from LLM detection\n"
     ]
    },
    {
     "data": {
      "text/plain": [
       "[{'table_id': 'table_1',\n",
       "  'description': 'Expense transactions with 10 records',\n",
       "  'start_row': 0,\n",
       "  'end_row': 9,\n",
       "  'start_col': 0,\n",
       "  'end_col': 4,\n",
       "  'confidence': 0.95,\n",
       "  'table_type': 'DETAIL',\n",
       "  'entity_type': 'expenses'},\n",
       " {'table_id': 'table_2',\n",
       "  'description': 'Expense summary totals',\n",
       "  'start_row': 0,\n",
       "  'end_row': 0,\n",
       "  'start_col': 5,\n",
       "  'end_col': 8,\n",
       "  'confidence': 0.85,\n",
       "  'table_type': 'SUMMARY',\n",
       "  'entity_type': 'summary'}]"
      ]
     },
     "execution_count": 7,
     "metadata": {},
     "output_type": "execute_result"
    }
   ],
   "source": [
    "\n",
    "# Extract detection results created by LLM\n",
    "# The detector should have created a 'detected_tables' variable with the results\n",
    "\n",
    "# Check if the LLM created the expected variable\n",
    "if 'detected_tables' in globals():\n",
    "    # Return the detected tables\n",
    "    detection_results = detected_tables\n",
    "    print(f\"Found {len(detection_results)} tables from LLM detection\")\n",
    "else:\n",
    "    # If no detection was made, return empty list to trigger fallback\n",
    "    print(\"No 'detected_tables' variable found - LLM may not have completed detection\")\n",
    "    detection_results = []\n",
    "\n",
    "detection_results\n"
   ]
  },
  {
   "cell_type": "markdown",
   "id": "1bf90b05",
   "metadata": {},
   "source": [
    "\n",
    "# Table Detection Results\n",
    "\n",
    "Detected 2 tables:\n",
    "\n",
    "\n",
    "## Table 1: Expense transactions with 10 records\n",
    "- Location: Rows 0-9, Columns 0-4\n",
    "- Type: detail\n",
    "- Entity: expenses\n",
    "- Confidence: 0.95\n",
    "\n",
    "## Table 2: Expense summary totals\n",
    "- Location: Rows 0-0, Columns 5-8\n",
    "- Type: summary\n",
    "- Entity: summary\n",
    "- Confidence: 0.85\n"
   ]
  }
 ],
 "metadata": {
  "kernelspec": {
   "display_name": "Python 3",
   "name": "python3"
  }
 },
 "nbformat": 4,
 "nbformat_minor": 5
}
