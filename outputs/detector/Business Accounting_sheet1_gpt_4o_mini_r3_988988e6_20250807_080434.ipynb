{
 "cells": [
  {
   "cell_type": "code",
   "execution_count": 1,
   "id": "1df911f5",
   "metadata": {
    "cell_id": "4bbe2dae-ae3a-46c1-aadf-141f0571305b"
   },
   "outputs": [
    {
     "name": "stdout",
     "output_type": "stream",
     "text": [
      "Loaded sheet with shape: (769, 11)\n\nFirst 10 rows:\n        Date                           Description  Transaction type   USD Amount     XOF Amount   Unnamed: 5              Category   TOTAL REVENUES   84202.53   TOTAL EXPENSES  -385526.333434\n0 2023-01-03                        iCloud Storage               EXP        -9.99   -6214.329474   622.055002                   NaN              NaN        NaN              NaN             NaN\n1 2023-01-03                   Amazon web services               EXP      -284.83 -177179.926325   622.055002                   NaN              NaN        NaN              NaN             NaN\n2 2023-01-03                Diesel for return trip               EXP      -526.48    -327,500CFA          NaN                  Fuel              NaN        NaN              NaN             NaN\n3 2023-01-03                         Road expenses               EXP      -120.57     -75,000CFA          NaN             Toll Fees              NaN        NaN              NaN             NaN\n4 2023-01-03                  Technical Inspection               EXP       -80.38     -50,000CFA          NaN       Regulatory Fees              NaN        NaN              NaN             NaN\n5 2023-01-03                 2 x Shell oil bottles               EXP      -176.83    -110,000CFA          NaN  Maintenance Supplies              NaN        NaN              NaN             NaN\n6 2023-01-03                    3 x oil cartridges               EXP       -48.23     -30,000CFA          NaN  Maintenance Supplies              NaN        NaN              NaN             NaN\n7 2023-01-03  Discount on oil bottle and cartridge               REV        16.08      10,000CFA          NaN  Discount on Supplies              NaN        NaN              NaN             NaN\n8 2023-01-03                          Travel bonus               EXP       -24.11     -15,000CFA          NaN               Bonuses              NaN        NaN              NaN             NaN\n9 2023-01-03           Issiaka Diallo debt payment               EXP       -80.38     -50,000CFA          NaN       Debt Repayments              NaN        NaN              NaN             NaN\n\nLast 5 rows:\n          Date                        Description  Transaction type   USD Amount    XOF Amount   Unnamed: 5         Category   TOTAL REVENUES   84202.53   TOTAL EXPENSES  -385526.333434\n764 2023-12-31  NY Doordash dinner - Woke Noodles               EXP       -57.77 -34293.788136   593.626244              NaN              NaN        NaN              NaN             NaN\n765 2023-12-31               JFK Cart rental fees               EXP        -6.53  -3876.379376   593.626244              NaN              NaN        NaN              NaN             NaN\n766 2023-12-31      Purchase of Mercedes SK Truck               EXP     -7580.53           NaN          NaN   Truck Purchase              NaN        NaN              NaN             NaN\n767 2023-12-31               Yaya December salary               EXP      -168.46           NaN          NaN  Salary Payments              NaN        NaN              NaN             NaN\n768 2023-12-31               2 x 150Amp batteries               EXP      -286.38           NaN          NaN     Repair Parts              NaN        NaN              NaN             NaN\n"
     ]
    }
   ],
   "source": [
    "\n",
    "import pandas as pd\n",
    "from pathlib import Path\n",
    "\n",
    "excel_path = Path(r\"/Users/cheickberthe/PycharmProjects/spreadsheet-analyzer/test_assets/collection/business-accounting/Business Accounting.xlsx\")\n",
    "df = pd.read_excel(excel_path, sheet_name=1)\n",
    "print(f\"Loaded sheet with shape: {df.shape}\")\n",
    "\n",
    "# Quick preview for LLM context\n",
    "print(\"\\nFirst 10 rows:\")\n",
    "print(df.head(10).to_string())\n",
    "print(\"\\nLast 5 rows:\")\n",
    "print(df.tail(5).to_string())\n",
    "\n",
    "# Get basic info\n",
    "sheet_name = \"None\"\n",
    "sheet_dimensions = f\"{df.shape[0]} rows x {df.shape[1]} columns\"\n"
   ]
  },
  {
   "cell_type": "code",
   "execution_count": 2,
   "id": "86eeddb9",
   "metadata": {
    "cell_id": "3321cc97-8e6b-456a-8b41-556ca76c4856"
   },
   "outputs": [
    {
     "data": {
      "text/plain": [
       "'None'"
      ]
     },
     "execution_count": 2,
     "metadata": {},
     "output_type": "execute_result"
    }
   ],
   "source": [
    "\n",
    "excel_file_name = excel_path.name\n",
    "sheet_dimensions = f\"{df.shape[0]} rows x {df.shape[1]} columns\"\n",
    "sheet_name\n"
   ]
  },
  {
   "cell_type": "code",
   "execution_count": 3,
   "id": "f2a54504",
   "metadata": {
    "cell_id": "9b453f4d-ebea-4524-8802-50f4407178a3"
   },
   "outputs": [
    {
     "name": "stdout",
     "output_type": "stream",
     "text": [
      "=== DATA STRUCTURE ANALYSIS ===\nDataFrame shape: (769, 11)\nColumns: ['Date', 'Description', 'Transaction type', 'USD Amount', 'XOF Amount', 'Unnamed: 5', 'Category', 'TOTAL REVENUES', 84202.53000000001, 'TOTAL EXPENSES', -385526.33343393693]\n\n=== FIRST 10 ROWS ===\n        Date                           Description  Transaction type   USD Amount     XOF Amount   Unnamed: 5              Category   TOTAL REVENUES   84202.53   TOTAL EXPENSES  -385526.333434\n0 2023-01-03                        iCloud Storage               EXP        -9.99   -6214.329474   622.055002                   NaN              NaN        NaN              NaN             NaN\n1 2023-01-03                   Amazon web services               EXP      -284.83 -177179.926325   622.055002                   NaN              NaN        NaN              NaN             NaN\n2 2023-01-03                Diesel for return trip               EXP      -526.48    -327,500CFA          NaN                  Fuel              NaN        NaN              NaN             NaN\n3 2023-01-03                         Road expenses               EXP      -120.57     -75,000CFA          NaN             Toll Fees              NaN        NaN              NaN             NaN\n4 2023-01-03                  Technical Inspection               EXP       -80.38     -50,000CFA          NaN       Regulatory Fees              NaN        NaN              NaN             NaN\n5 2023-01-03                 2 x Shell oil bottles               EXP      -176.83    -110,000CFA          NaN  Maintenance Supplies              NaN        NaN              NaN             NaN\n6 2023-01-03                    3 x oil cartridges               EXP       -48.23     -30,000CFA          NaN  Maintenance Supplies              NaN        NaN              NaN             NaN\n7 2023-01-03  Discount on oil bottle and cartridge               REV        16.08      10,000CFA          NaN  Discount on Supplies              NaN        NaN              NaN             NaN\n8 2023-01-03                          Travel bonus               EXP       -24.11     -15,000CFA          NaN               Bonuses              NaN        NaN              NaN             NaN\n9 2023-01-03           Issiaka Diallo debt payment               EXP       -80.38     -50,000CFA          NaN       Debt Repayments              NaN        NaN              NaN             NaN\n\n=== LAST 5 ROWS ===\n          Date                        Description  Transaction type   USD Amount    XOF Amount   Unnamed: 5         Category   TOTAL REVENUES   84202.53   TOTAL EXPENSES  -385526.333434\n764 2023-12-31  NY Doordash dinner - Woke Noodles               EXP       -57.77 -34293.788136   593.626244              NaN              NaN        NaN              NaN             NaN\n765 2023-12-31               JFK Cart rental fees               EXP        -6.53  -3876.379376   593.626244              NaN              NaN        NaN              NaN             NaN\n766 2023-12-31      Purchase of Mercedes SK Truck               EXP     -7580.53           NaN          NaN   Truck Purchase              NaN        NaN              NaN             NaN\n767 2023-12-31               Yaya December salary               EXP      -168.46           NaN          NaN  Salary Payments              NaN        NaN              NaN             NaN\n768 2023-12-31               2 x 150Amp batteries               EXP      -286.38           NaN          NaN     Repair Parts              NaN        NaN              NaN             NaN\n\n=== COLUMN ANALYSIS ===\nColumn 0 ('Date'): 769/769 non-null values\nColumn 1 ('Description'): 769/769 non-null values\nColumn 2 ('Transaction type'): 769/769 non-null values\nColumn 3 ('USD Amount'): 769/769 non-null values\nColumn 4 ('XOF Amount'): 698/769 non-null values\nColumn 5 ('Unnamed: 5'): 264/769 non-null values\nColumn 6 ('Category'): 477/769 non-null values\nColumn 7 ('TOTAL REVENUES'): 0/769 non-null values\nColumn 8 ('84202.53000000001'): 0/769 non-null values\nColumn 9 ('TOTAL EXPENSES'): 0/769 non-null values\nColumn 10 ('-385526.33343393693'): 0/769 non-null values\n\n=== EMPTY ROW ANALYSIS ===\nNo completely empty rows found\n\n=== SIDE-BY-SIDE ANALYSIS ===\nLeft section shape: (769, 7)\nRight section shape: (769, 4)\nLeft section non-null density: 0.84\nRight section non-null density: 0.00\n"
     ]
    }
   ],
   "source": [
    "\n",
    "# Table Detection Analysis\n",
    "print(\"=== DATA STRUCTURE ANALYSIS ===\")\n",
    "print(f\"DataFrame shape: {df.shape}\")\n",
    "print(f\"Columns: {list(df.columns)}\")\n",
    "print(\"\\n=== FIRST 10 ROWS ===\")\n",
    "print(df.head(10).to_string())\n",
    "print(\"\\n=== LAST 5 ROWS ===\")\n",
    "print(df.tail(5).to_string())\n",
    "\n",
    "print(\"\\n=== COLUMN ANALYSIS ===\")\n",
    "# Check for empty columns that might separate tables\n",
    "for i, col in enumerate(df.columns):\n",
    "    non_null_count = df[col].notna().sum()\n",
    "    print(f\"Column {i} ('{col}'): {non_null_count}/{len(df)} non-null values\")\n",
    "\n",
    "print(\"\\n=== EMPTY ROW ANALYSIS ===\")\n",
    "# Check for empty rows that might separate tables\n",
    "empty_rows = df.isnull().all(axis=1)\n",
    "if empty_rows.any():\n",
    "    empty_row_indices = empty_rows[empty_rows].index.tolist()\n",
    "    print(f\"Empty rows found at indices: {empty_row_indices[:10]}\")\n",
    "else:\n",
    "    print(\"No completely empty rows found\")\n",
    "\n",
    "print(\"\\n=== SIDE-BY-SIDE ANALYSIS ===\")\n",
    "# Check for potential side-by-side tables by examining column groups\n",
    "left_cols = df.iloc[:, 0:7]  # First 7 columns\n",
    "right_cols = df.iloc[:, 7:]  # Remaining columns\n",
    "print(f\"Left section shape: {left_cols.shape}\")\n",
    "print(f\"Right section shape: {right_cols.shape}\")\n",
    "print(f\"Left section non-null density: {left_cols.notna().sum().sum() / (left_cols.shape[0] * left_cols.shape[1]):.2f}\")\n",
    "print(f\"Right section non-null density: {right_cols.notna().sum().sum() / (right_cols.shape[0] * right_cols.shape[1]):.2f}\")\n"
   ]
  },
  {
   "cell_type": "code",
   "execution_count": 4,
   "id": "09a1a94f",
   "metadata": {
    "cell_id": "729bcb23-3d7b-4714-81e8-9b06fbaabb3d"
   },
   "outputs": [
    {
     "data": {
      "text/html": [
       "<div>\n",
       "<style scoped>\n",
       "    .dataframe tbody tr th:only-of-type {\n",
       "        vertical-align: middle;\n",
       "    }\n",
       "\n",
       "    .dataframe tbody tr th {\n",
       "        vertical-align: top;\n",
       "    }\n",
       "\n",
       "    .dataframe thead th {\n",
       "        text-align: right;\n",
       "    }\n",
       "</style>\n",
       "<table border=\"1\" class=\"dataframe\">\n",
       "  <thead>\n",
       "    <tr style=\"text-align: right;\">\n",
       "      <th></th>\n",
       "      <th>Date</th>\n",
       "      <th>Description</th>\n",
       "      <th>Transaction type</th>\n",
       "      <th>USD Amount</th>\n",
       "      <th>XOF Amount</th>\n",
       "      <th>Unnamed: 5</th>\n",
       "      <th>Category</th>\n",
       "      <th>TOTAL REVENUES</th>\n",
       "      <th>84202.53</th>\n",
       "      <th>TOTAL EXPENSES</th>\n",
       "      <th>-385526.333434</th>\n",
       "    </tr>\n",
       "  </thead>\n",
       "  <tbody>\n",
       "    <tr>\n",
       "      <th>0</th>\n",
       "      <td>2023-01-03</td>\n",
       "      <td>iCloud Storage</td>\n",
       "      <td>EXP</td>\n",
       "      <td>-9.99</td>\n",
       "      <td>-6214.329474</td>\n",
       "      <td>622.055002</td>\n",
       "      <td>NaN</td>\n",
       "      <td>NaN</td>\n",
       "      <td>NaN</td>\n",
       "      <td>NaN</td>\n",
       "      <td>NaN</td>\n",
       "    </tr>\n",
       "    <tr>\n",
       "      <th>1</th>\n",
       "      <td>2023-01-03</td>\n",
       "      <td>Amazon web services</td>\n",
       "      <td>EXP</td>\n",
       "      <td>-284.83</td>\n",
       "      <td>-177179.926325</td>\n",
       "      <td>622.055002</td>\n",
       "      <td>NaN</td>\n",
       "      <td>NaN</td>\n",
       "      <td>NaN</td>\n",
       "      <td>NaN</td>\n",
       "      <td>NaN</td>\n",
       "    </tr>\n",
       "    <tr>\n",
       "      <th>2</th>\n",
       "      <td>2023-01-03</td>\n",
       "      <td>Diesel for return trip</td>\n",
       "      <td>EXP</td>\n",
       "      <td>-526.48</td>\n",
       "      <td>-327,500CFA</td>\n",
       "      <td>NaN</td>\n",
       "      <td>Fuel</td>\n",
       "      <td>NaN</td>\n",
       "      <td>NaN</td>\n",
       "      <td>NaN</td>\n",
       "      <td>NaN</td>\n",
       "    </tr>\n",
       "    <tr>\n",
       "      <th>3</th>\n",
       "      <td>2023-01-03</td>\n",
       "      <td>Road expenses</td>\n",
       "      <td>EXP</td>\n",
       "      <td>-120.57</td>\n",
       "      <td>-75,000CFA</td>\n",
       "      <td>NaN</td>\n",
       "      <td>Toll Fees</td>\n",
       "      <td>NaN</td>\n",
       "      <td>NaN</td>\n",
       "      <td>NaN</td>\n",
       "      <td>NaN</td>\n",
       "    </tr>\n",
       "    <tr>\n",
       "      <th>4</th>\n",
       "      <td>2023-01-03</td>\n",
       "      <td>Technical Inspection</td>\n",
       "      <td>EXP</td>\n",
       "      <td>-80.38</td>\n",
       "      <td>-50,000CFA</td>\n",
       "      <td>NaN</td>\n",
       "      <td>Regulatory Fees</td>\n",
       "      <td>NaN</td>\n",
       "      <td>NaN</td>\n",
       "      <td>NaN</td>\n",
       "      <td>NaN</td>\n",
       "    </tr>\n",
       "  </tbody>\n",
       "</table>\n",
       "</div>"
      ],
      "text/plain": [
       "        Date             Description  Transaction type   USD Amount  \\\n",
       "0 2023-01-03          iCloud Storage               EXP        -9.99   \n",
       "1 2023-01-03     Amazon web services               EXP      -284.83   \n",
       "2 2023-01-03  Diesel for return trip               EXP      -526.48   \n",
       "3 2023-01-03           Road expenses               EXP      -120.57   \n",
       "4 2023-01-03    Technical Inspection               EXP       -80.38   \n",
       "\n",
       "      XOF Amount   Unnamed: 5         Category   TOTAL REVENUES   84202.53  \\\n",
       "0   -6214.329474   622.055002              NaN              NaN        NaN   \n",
       "1 -177179.926325   622.055002              NaN              NaN        NaN   \n",
       "2    -327,500CFA          NaN             Fuel              NaN        NaN   \n",
       "3     -75,000CFA          NaN        Toll Fees              NaN        NaN   \n",
       "4     -50,000CFA          NaN  Regulatory Fees              NaN        NaN   \n",
       "\n",
       "    TOTAL EXPENSES  -385526.333434  \n",
       "0              NaN             NaN  \n",
       "1              NaN             NaN  \n",
       "2              NaN             NaN  \n",
       "3              NaN             NaN  \n",
       "4              NaN             NaN  "
      ]
     },
     "execution_count": 4,
     "metadata": {},
     "output_type": "execute_result"
    }
   ],
   "source": [
    "df.head()"
   ]
  },
  {
   "cell_type": "code",
   "execution_count": 5,
   "id": "cea34bc6",
   "metadata": {
    "cell_id": "89a45625-635c-4f14-8a7c-d00e91ca2412"
   },
   "outputs": [
    {
     "data": {
      "text/html": [
       "<div>\n",
       "<style scoped>\n",
       "    .dataframe tbody tr th:only-of-type {\n",
       "        vertical-align: middle;\n",
       "    }\n",
       "\n",
       "    .dataframe tbody tr th {\n",
       "        vertical-align: top;\n",
       "    }\n",
       "\n",
       "    .dataframe thead th {\n",
       "        text-align: right;\n",
       "    }\n",
       "</style>\n",
       "<table border=\"1\" class=\"dataframe\">\n",
       "  <thead>\n",
       "    <tr style=\"text-align: right;\">\n",
       "      <th></th>\n",
       "      <th>Date</th>\n",
       "      <th>Description</th>\n",
       "      <th>Transaction type</th>\n",
       "      <th>USD Amount</th>\n",
       "      <th>XOF Amount</th>\n",
       "      <th>Unnamed: 5</th>\n",
       "      <th>Category</th>\n",
       "      <th>TOTAL REVENUES</th>\n",
       "      <th>84202.53</th>\n",
       "      <th>TOTAL EXPENSES</th>\n",
       "      <th>-385526.333434</th>\n",
       "    </tr>\n",
       "  </thead>\n",
       "  <tbody>\n",
       "    <tr>\n",
       "      <th>764</th>\n",
       "      <td>2023-12-31</td>\n",
       "      <td>NY Doordash dinner - Woke Noodles</td>\n",
       "      <td>EXP</td>\n",
       "      <td>-57.77</td>\n",
       "      <td>-34293.788136</td>\n",
       "      <td>593.626244</td>\n",
       "      <td>NaN</td>\n",
       "      <td>NaN</td>\n",
       "      <td>NaN</td>\n",
       "      <td>NaN</td>\n",
       "      <td>NaN</td>\n",
       "    </tr>\n",
       "    <tr>\n",
       "      <th>765</th>\n",
       "      <td>2023-12-31</td>\n",
       "      <td>JFK Cart rental fees</td>\n",
       "      <td>EXP</td>\n",
       "      <td>-6.53</td>\n",
       "      <td>-3876.379376</td>\n",
       "      <td>593.626244</td>\n",
       "      <td>NaN</td>\n",
       "      <td>NaN</td>\n",
       "      <td>NaN</td>\n",
       "      <td>NaN</td>\n",
       "      <td>NaN</td>\n",
       "    </tr>\n",
       "    <tr>\n",
       "      <th>766</th>\n",
       "      <td>2023-12-31</td>\n",
       "      <td>Purchase of Mercedes SK Truck</td>\n",
       "      <td>EXP</td>\n",
       "      <td>-7580.53</td>\n",
       "      <td>NaN</td>\n",
       "      <td>NaN</td>\n",
       "      <td>Truck Purchase</td>\n",
       "      <td>NaN</td>\n",
       "      <td>NaN</td>\n",
       "      <td>NaN</td>\n",
       "      <td>NaN</td>\n",
       "    </tr>\n",
       "    <tr>\n",
       "      <th>767</th>\n",
       "      <td>2023-12-31</td>\n",
       "      <td>Yaya December salary</td>\n",
       "      <td>EXP</td>\n",
       "      <td>-168.46</td>\n",
       "      <td>NaN</td>\n",
       "      <td>NaN</td>\n",
       "      <td>Salary Payments</td>\n",
       "      <td>NaN</td>\n",
       "      <td>NaN</td>\n",
       "      <td>NaN</td>\n",
       "      <td>NaN</td>\n",
       "    </tr>\n",
       "    <tr>\n",
       "      <th>768</th>\n",
       "      <td>2023-12-31</td>\n",
       "      <td>2 x 150Amp batteries</td>\n",
       "      <td>EXP</td>\n",
       "      <td>-286.38</td>\n",
       "      <td>NaN</td>\n",
       "      <td>NaN</td>\n",
       "      <td>Repair Parts</td>\n",
       "      <td>NaN</td>\n",
       "      <td>NaN</td>\n",
       "      <td>NaN</td>\n",
       "      <td>NaN</td>\n",
       "    </tr>\n",
       "  </tbody>\n",
       "</table>\n",
       "</div>"
      ],
      "text/plain": [
       "          Date                        Description  Transaction type  \\\n",
       "764 2023-12-31  NY Doordash dinner - Woke Noodles               EXP   \n",
       "765 2023-12-31               JFK Cart rental fees               EXP   \n",
       "766 2023-12-31      Purchase of Mercedes SK Truck               EXP   \n",
       "767 2023-12-31               Yaya December salary               EXP   \n",
       "768 2023-12-31               2 x 150Amp batteries               EXP   \n",
       "\n",
       "      USD Amount    XOF Amount   Unnamed: 5         Category   TOTAL REVENUES  \\\n",
       "764       -57.77 -34293.788136   593.626244              NaN              NaN   \n",
       "765        -6.53  -3876.379376   593.626244              NaN              NaN   \n",
       "766     -7580.53           NaN          NaN   Truck Purchase              NaN   \n",
       "767      -168.46           NaN          NaN  Salary Payments              NaN   \n",
       "768      -286.38           NaN          NaN     Repair Parts              NaN   \n",
       "\n",
       "      84202.53   TOTAL EXPENSES  -385526.333434  \n",
       "764        NaN              NaN             NaN  \n",
       "765        NaN              NaN             NaN  \n",
       "766        NaN              NaN             NaN  \n",
       "767        NaN              NaN             NaN  \n",
       "768        NaN              NaN             NaN  "
      ]
     },
     "execution_count": 5,
     "metadata": {},
     "output_type": "execute_result"
    }
   ],
   "source": [
    "df.tail()"
   ]
  },
  {
   "cell_type": "code",
   "execution_count": 6,
   "id": "8dcc6929",
   "metadata": {
    "cell_id": "3cff533b-1fc6-429b-a558-de3cd89bda46"
   },
   "outputs": [
    {
     "name": "stdout",
     "output_type": "stream",
     "text": [
      "<class 'pandas.core.frame.DataFrame'>\nRangeIndex: 769 entries, 0 to 768\nData columns (total 11 columns):\n #   Column               Non-Null Count  Dtype         \n---  ------               --------------  -----         \n 0   Date                 769 non-null    datetime64[ns]\n 1   Description          769 non-null    object        \n 2   Transaction type     769 non-null    object        \n 3   USD Amount           769 non-null    float64       \n 4   XOF Amount           698 non-null    object        \n 5   Unnamed: 5           264 non-null    float64       \n 6   Category             477 non-null    object        \n 7   TOTAL REVENUES       0 non-null      float64       \n 8   84202.53000000001    0 non-null      float64       \n 9   TOTAL EXPENSES       0 non-null      float64       \n 10  -385526.33343393693  0 non-null      float64       \ndtypes: datetime64[ns](1), float64(6), object(4)\nmemory usage: 66.2+ KB\n"
     ]
    }
   ],
   "source": [
    "df.info()"
   ]
  },
  {
   "cell_type": "code",
   "execution_count": 7,
   "id": "5c0bcd1e",
   "metadata": {
    "cell_id": "e22660f3-836e-4d12-8565-98caece5a97b"
   },
   "outputs": [],
   "source": [
    "# Identify blocks separated by empty rows\n",
    "empty_rows = df.isnull().all(axis=1)\n",
    "empty_row_indices = empty_rows[empty_rows].index.tolist()\n",
    "\n",
    "# Look for consecutive empty rows (2+ indicate table boundary)\n",
    "# Empty columns can also indicate horizontal table separation\n"
   ]
  },
  {
   "cell_type": "code",
   "execution_count": 8,
   "id": "d6b8ff2c",
   "metadata": {
    "cell_id": "f8ec465e-18fb-4976-a9c9-78c20df46aab"
   },
   "outputs": [
    {
     "data": {
      "text/plain": [
       "(Date                datetime64[ns]\n",
       " Description                 object\n",
       " Transaction type            object\n",
       " USD Amount                 float64\n",
       " XOF Amount                  object\n",
       " Unnamed: 5                 float64\n",
       " Category                    object\n",
       " dtype: object,\n",
       "  TOTAL REVENUES    float64\n",
       "  84202.53          float64\n",
       "  TOTAL EXPENSES    float64\n",
       " -385526.333434     float64\n",
       " dtype: object)"
      ]
     },
     "execution_count": 8,
     "metadata": {},
     "output_type": "execute_result"
    }
   ],
   "source": [
    "# Analyze column patterns and entity types\n",
    "left_cols = df.iloc[:, 0:7]  # First potential table\n",
    "right_cols = df.iloc[:, 7:]  # Second potential table\n",
    "\n",
    "# Check for different header patterns or data types\n",
    "left_cols_info = left_cols.dtypes\n",
    "right_cols_info = right_cols.dtypes\n",
    "\n",
    "left_cols_info, right_cols_info"
   ]
  },
  {
   "cell_type": "code",
   "execution_count": 9,
   "id": "329c52a3",
   "metadata": {
    "cell_id": "74a8dfc5-ae80-4ac6-b6e9-3429b1fbb429"
   },
   "outputs": [
    {
     "name": "stdout",
     "output_type": "stream",
     "text": [
      "No 'detected_tables' variable found - LLM may not have completed detection\n"
     ]
    },
    {
     "data": {
      "text/plain": [
       "[]"
      ]
     },
     "execution_count": 9,
     "metadata": {},
     "output_type": "execute_result"
    }
   ],
   "source": [
    "\n",
    "# Extract detection results created by LLM\n",
    "# The detector should have created a 'detected_tables' variable with the results\n",
    "\n",
    "# Check if the LLM created the expected variable\n",
    "if 'detected_tables' in globals():\n",
    "    # Return the detected tables\n",
    "    detection_results = detected_tables\n",
    "    print(f\"Found {len(detection_results)} tables from LLM detection\")\n",
    "else:\n",
    "    # If no detection was made, return empty list to trigger fallback\n",
    "    print(\"No 'detected_tables' variable found - LLM may not have completed detection\")\n",
    "    detection_results = []\n",
    "\n",
    "detection_results\n"
   ]
  },
  {
   "cell_type": "code",
   "execution_count": 10,
   "id": "80b6bbf1",
   "metadata": {
    "cell_id": "44ba8ce3-2962-42f4-b3c8-f657bf04bc07"
   },
   "outputs": [
    {
     "data": {
      "text/plain": [
       "(769, 11)"
      ]
     },
     "execution_count": 10,
     "metadata": {},
     "output_type": "execute_result"
    }
   ],
   "source": [
    "df_shape = df.shape; df_shape"
   ]
  },
  {
   "cell_type": "markdown",
   "id": "3151fe5f",
   "metadata": {},
   "source": [
    "\n",
    "# Table Detection Results\n",
    "\n",
    "Detected 1 tables:\n",
    "\n",
    "\n",
    "## Table 1: Full spreadsheet (fallback)\n",
    "- Location: Rows 0-768, Columns 0-10\n",
    "- Type: detail\n",
    "- Entity: data\n",
    "- Confidence: 0.50\n"
   ]
  }
 ],
 "metadata": {
  "kernelspec": {
   "display_name": "Python 3",
   "name": "python3"
  }
 },
 "nbformat": 4,
 "nbformat_minor": 5
}
