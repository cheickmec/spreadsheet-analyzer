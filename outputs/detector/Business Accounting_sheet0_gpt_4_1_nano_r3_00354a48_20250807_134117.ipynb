{
 "cells": [
  {
   "cell_type": "code",
   "execution_count": 1,
   "id": "162e5c0a",
   "metadata": {
    "cell_id": "f05a9de8-1a7c-4c00-a222-a1ccdb4e1b3f"
   },
   "outputs": [
    {
     "name": "stdout",
     "output_type": "stream",
     "text": [
      "Loaded sheet with shape: (10, 9)\n\nFirst 10 rows:\n        Date                                   Description   USD Amount  Transaction type   Category   TOTAL REVENUES   0   TOTAL EXPENSES  -2031.63\n0 2025-01-03                  Mali Apartment work - Cement       -43.51               EXP        NaN              NaN NaN              NaN       NaN\n1 2025-01-15            Rebtel International Phone charges        -9.49               EXP        NaN              NaN NaN              NaN       NaN\n2 2025-01-21                  Mali Apartment work - Cement        -8.57               EXP        NaN              NaN NaN              NaN       NaN\n3 2025-01-22  Mali Apartment Work - Tile Install (Kitchen)       -48.78               EXP        NaN              NaN NaN              NaN       NaN\n4 2025-01-23              Aluminum fabricator - Issa Maiga      -424.34               EXP        NaN              NaN NaN              NaN       NaN\n5 2025-01-23  Mali Apartment work - Kitchen Wall Crepisage       -57.75               EXP        NaN              NaN NaN              NaN       NaN\n6 2025-01-23                  Mali Apartment work - Cement       -25.90               EXP        NaN              NaN NaN              NaN       NaN\n7 2025-01-26            Rebtel International Phone charges        -4.99               EXP        NaN              NaN NaN              NaN       NaN\n8 2025-01-14                      Toyota Prado - 4 x tires     -1095.34               EXP        NaN              NaN NaN              NaN       NaN\n9 2025-01-14        Toyota Prado - 4 x rims and spare tire      -312.96               EXP        NaN              NaN NaN              NaN       NaN\n\nLast 5 rows:\n        Date                                   Description   USD Amount  Transaction type   Category   TOTAL REVENUES   0   TOTAL EXPENSES  -2031.63\n5 2025-01-23  Mali Apartment work - Kitchen Wall Crepisage       -57.75               EXP        NaN              NaN NaN              NaN       NaN\n6 2025-01-23                  Mali Apartment work - Cement       -25.90               EXP        NaN              NaN NaN              NaN       NaN\n7 2025-01-26            Rebtel International Phone charges        -4.99               EXP        NaN              NaN NaN              NaN       NaN\n8 2025-01-14                      Toyota Prado - 4 x tires     -1095.34               EXP        NaN              NaN NaN              NaN       NaN\n9 2025-01-14        Toyota Prado - 4 x rims and spare tire      -312.96               EXP        NaN              NaN NaN              NaN       NaN\n"
     ]
    }
   ],
   "source": [
    "\n",
    "import pandas as pd\n",
    "from pathlib import Path\n",
    "\n",
    "excel_path = Path(r\"/Users/cheickberthe/PycharmProjects/spreadsheet-analyzer/test_assets/collection/business-accounting/Business Accounting.xlsx\")\n",
    "df = pd.read_excel(excel_path, sheet_name=0)\n",
    "print(f\"Loaded sheet with shape: {df.shape}\")\n",
    "\n",
    "# Quick preview for LLM context\n",
    "print(\"\\nFirst 10 rows:\")\n",
    "print(df.head(10).to_string())\n",
    "print(\"\\nLast 5 rows:\")\n",
    "print(df.tail(5).to_string())\n",
    "\n",
    "# Get basic info\n",
    "sheet_name = \"None\"\n",
    "sheet_dimensions = f\"{df.shape[0]} rows x {df.shape[1]} columns\"\n"
   ]
  },
  {
   "cell_type": "code",
   "execution_count": 2,
   "id": "67494342",
   "metadata": {
    "cell_id": "9a0ce3fc-d5f2-4994-b538-4c81ba8a7c8c"
   },
   "outputs": [
    {
     "data": {
      "text/plain": [
       "'None'"
      ]
     },
     "execution_count": 2,
     "metadata": {},
     "output_type": "execute_result"
    }
   ],
   "source": [
    "\n",
    "excel_file_name = excel_path.name\n",
    "sheet_dimensions = f\"{df.shape[0]} rows x {df.shape[1]} columns\"\n",
    "sheet_name\n"
   ]
  },
  {
   "cell_type": "code",
   "execution_count": 3,
   "id": "4643317e",
   "metadata": {
    "cell_id": "715f64ae-6a13-45cd-9df6-9295dd1f93b8"
   },
   "outputs": [
    {
     "name": "stdout",
     "output_type": "stream",
     "text": [
      "=== DATA STRUCTURE ANALYSIS ===\nDataFrame shape: (10, 9)\nColumns: ['Date', 'Description', 'USD Amount', 'Transaction type', 'Category', 'TOTAL REVENUES', 0, 'TOTAL EXPENSES', -2031.6299999999999]\n\n=== FIRST 10 ROWS ===\n        Date                                   Description   USD Amount  Transaction type   Category   TOTAL REVENUES   0   TOTAL EXPENSES  -2031.63\n0 2025-01-03                  Mali Apartment work - Cement       -43.51               EXP        NaN              NaN NaN              NaN       NaN\n1 2025-01-15            Rebtel International Phone charges        -9.49               EXP        NaN              NaN NaN              NaN       NaN\n2 2025-01-21                  Mali Apartment work - Cement        -8.57               EXP        NaN              NaN NaN              NaN       NaN\n3 2025-01-22  Mali Apartment Work - Tile Install (Kitchen)       -48.78               EXP        NaN              NaN NaN              NaN       NaN\n4 2025-01-23              Aluminum fabricator - Issa Maiga      -424.34               EXP        NaN              NaN NaN              NaN       NaN\n5 2025-01-23  Mali Apartment work - Kitchen Wall Crepisage       -57.75               EXP        NaN              NaN NaN              NaN       NaN\n6 2025-01-23                  Mali Apartment work - Cement       -25.90               EXP        NaN              NaN NaN              NaN       NaN\n7 2025-01-26            Rebtel International Phone charges        -4.99               EXP        NaN              NaN NaN              NaN       NaN\n8 2025-01-14                      Toyota Prado - 4 x tires     -1095.34               EXP        NaN              NaN NaN              NaN       NaN\n9 2025-01-14        Toyota Prado - 4 x rims and spare tire      -312.96               EXP        NaN              NaN NaN              NaN       NaN\n\n=== LAST 5 ROWS ===\n        Date                                   Description   USD Amount  Transaction type   Category   TOTAL REVENUES   0   TOTAL EXPENSES  -2031.63\n5 2025-01-23  Mali Apartment work - Kitchen Wall Crepisage       -57.75               EXP        NaN              NaN NaN              NaN       NaN\n6 2025-01-23                  Mali Apartment work - Cement       -25.90               EXP        NaN              NaN NaN              NaN       NaN\n7 2025-01-26            Rebtel International Phone charges        -4.99               EXP        NaN              NaN NaN              NaN       NaN\n8 2025-01-14                      Toyota Prado - 4 x tires     -1095.34               EXP        NaN              NaN NaN              NaN       NaN\n9 2025-01-14        Toyota Prado - 4 x rims and spare tire      -312.96               EXP        NaN              NaN NaN              NaN       NaN\n\n=== COLUMN ANALYSIS ===\nColumn 0 ('Date'): 10/10 non-null values\nColumn 1 ('Description'): 10/10 non-null values\nColumn 2 ('USD Amount'): 10/10 non-null values\nColumn 3 ('Transaction type'): 10/10 non-null values\nColumn 4 ('Category'): 0/10 non-null values\nColumn 5 ('TOTAL REVENUES'): 0/10 non-null values\nColumn 6 ('0'): 0/10 non-null values\nColumn 7 ('TOTAL EXPENSES'): 0/10 non-null values\nColumn 8 ('-2031.6299999999999'): 0/10 non-null values\n\n=== EMPTY ROW ANALYSIS ===\nNo completely empty rows found\n\n=== SIDE-BY-SIDE ANALYSIS ===\nLeft section shape: (10, 7)\nRight section shape: (10, 2)\nLeft section non-null density: 0.57\nRight section non-null density: 0.00\n"
     ]
    }
   ],
   "source": [
    "\n",
    "# Table Detection Analysis\n",
    "print(\"=== DATA STRUCTURE ANALYSIS ===\")\n",
    "print(f\"DataFrame shape: {df.shape}\")\n",
    "print(f\"Columns: {list(df.columns)}\")\n",
    "print(\"\\n=== FIRST 10 ROWS ===\")\n",
    "print(df.head(10).to_string())\n",
    "print(\"\\n=== LAST 5 ROWS ===\")\n",
    "print(df.tail(5).to_string())\n",
    "\n",
    "print(\"\\n=== COLUMN ANALYSIS ===\")\n",
    "# Check for empty columns that might separate tables\n",
    "for i, col in enumerate(df.columns):\n",
    "    non_null_count = df[col].notna().sum()\n",
    "    print(f\"Column {i} ('{col}'): {non_null_count}/{len(df)} non-null values\")\n",
    "\n",
    "print(\"\\n=== EMPTY ROW ANALYSIS ===\")\n",
    "# Check for empty rows that might separate tables\n",
    "empty_rows = df.isnull().all(axis=1)\n",
    "if empty_rows.any():\n",
    "    empty_row_indices = empty_rows[empty_rows].index.tolist()\n",
    "    print(f\"Empty rows found at indices: {empty_row_indices[:10]}\")\n",
    "else:\n",
    "    print(\"No completely empty rows found\")\n",
    "\n",
    "print(\"\\n=== SIDE-BY-SIDE ANALYSIS ===\")\n",
    "# Check for potential side-by-side tables by examining column groups\n",
    "left_cols = df.iloc[:, 0:7]  # First 7 columns\n",
    "right_cols = df.iloc[:, 7:]  # Remaining columns\n",
    "print(f\"Left section shape: {left_cols.shape}\")\n",
    "print(f\"Right section shape: {right_cols.shape}\")\n",
    "print(f\"Left section non-null density: {left_cols.notna().sum().sum() / (left_cols.shape[0] * left_cols.shape[1]):.2f}\")\n",
    "print(f\"Right section non-null density: {right_cols.notna().sum().sum() / (right_cols.shape[0] * right_cols.shape[1]):.2f}\")\n"
   ]
  },
  {
   "cell_type": "code",
   "execution_count": 4,
   "id": "eaf3a1a0",
   "metadata": {
    "cell_id": "fc6e359e-8d22-4963-b0cd-c7af3464cb40"
   },
   "outputs": [],
   "source": [
    "detected_tables = []\n",
    "\n",
    "# Main table: Financial transactions\n",
    "# Based on the shape and data, the main table appears to be in the top part of the sheet, covering most of the data.\n",
    "# It includes columns from 0 to 8, with header in row 0 and data till row 9.\n",
    "detected_tables.append({\n",
    "    \"table_id\": \"table_1\",\n",
    "    \"description\": \"Main financial transactions table\",\n",
    "    \"start_row\": 0,\n",
    "    \"end_row\": 9,\n",
    "    \"start_col\": 0,\n",
    "    \"end_col\": 8,\n",
    "    \"confidence\": 0.95,\n",
    "    \"table_type\": \"DETAIL\",\n",
    "    \"entity_type\": \"transactions\"\n",
    "})\n",
    "\n",
    "# Additional note: The right section (columns 8-9) shows no non-null data, indicating no separate table there.\n",
    "# The left section (columns 0-6) contains the main data, and the right section (columns 7-8) is mostly empty.\n",
    "# No other distinct tables are detected based on the current analysis.\n",
    "detected_tables = []"
   ]
  },
  {
   "cell_type": "code",
   "execution_count": 5,
   "id": "432f0761",
   "metadata": {
    "cell_id": "cd4319b2-afec-4320-a987-4e59ac4c3146"
   },
   "outputs": [
    {
     "name": "stdout",
     "output_type": "stream",
     "text": [
      "✅ Found 0 tables from LLM detection\n"
     ]
    },
    {
     "data": {
      "text/plain": [
       "[]"
      ]
     },
     "execution_count": 5,
     "metadata": {},
     "output_type": "execute_result"
    }
   ],
   "source": [
    "\n",
    "# Extract detection results created by LLM\n",
    "# The detector should have created a 'detected_tables' variable with the results\n",
    "\n",
    "# CLAUDE-TEST-WORKAROUND: Validate that detected_tables exists and is properly formatted\n",
    "if 'detected_tables' in globals():\n",
    "    # Validate it's a list\n",
    "    if isinstance(detected_tables, list):\n",
    "        detection_results = detected_tables\n",
    "        print(f\"✅ Found {len(detection_results)} tables from LLM detection\")\n",
    "        # Validate first table has required fields (if any tables exist)\n",
    "        if detection_results:\n",
    "            required_fields = ['table_id', 'description', 'start_row', 'end_row', 'start_col', 'end_col']\n",
    "            first_table = detection_results[0]\n",
    "            missing_fields = [f for f in required_fields if f not in first_table]\n",
    "            if missing_fields:\n",
    "                print(f\"⚠️ Warning: First table missing fields: {missing_fields}\")\n",
    "    else:\n",
    "        print(f\"❌ Error: detected_tables is not a list, it's a {type(detected_tables)}\")\n",
    "        detection_results = []\n",
    "else:\n",
    "    # CLAUDE-GOTCHA: Gemini sometimes fails to create the variable even after multiple prompts\n",
    "    print(\"❌ No 'detected_tables' variable found - LLM failed to complete detection\")\n",
    "    detection_results = []\n",
    "\n",
    "detection_results\n"
   ]
  },
  {
   "cell_type": "code",
   "execution_count": 6,
   "id": "442cfa74",
   "metadata": {
    "cell_id": "9e04e898-2294-4450-adb8-fd0fc69215a0"
   },
   "outputs": [
    {
     "data": {
      "text/plain": [
       "(10, 9)"
      ]
     },
     "execution_count": 6,
     "metadata": {},
     "output_type": "execute_result"
    }
   ],
   "source": [
    "df_shape = df.shape; df_shape"
   ]
  },
  {
   "cell_type": "markdown",
   "id": "b86878d0",
   "metadata": {},
   "source": [
    "\n",
    "# Table Detection Results\n",
    "\n",
    "Detected 1 tables:\n",
    "\n",
    "\n",
    "## Table 1: Full spreadsheet (fallback)\n",
    "- Location: Rows 0-9, Columns 0-8\n",
    "- Type: detail\n",
    "- Entity: data\n",
    "- Confidence: 0.50\n"
   ]
  }
 ],
 "metadata": {
  "kernelspec": {
   "display_name": "Python 3",
   "name": "python3"
  }
 },
 "nbformat": 4,
 "nbformat_minor": 5
}
