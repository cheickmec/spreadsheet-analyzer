{
 "cells": [
  {
   "cell_type": "code",
   "execution_count": 1,
   "id": "c9f0686d",
   "metadata": {
    "cell_id": "a250aff1-a0ea-410c-a6b0-a5b9ef83707a"
   },
   "outputs": [
    {
     "name": "stdout",
     "output_type": "stream",
     "text": [
      "Loaded sheet with shape: (18, 7)\n\nFirst 10 rows:\n        Date            Item   Amount   Note  Unnamed: 4  Total  12530.45\n0 2022-02-22     Animal Feed   971.47    NaN         NaN    NaN       NaN\n1 2022-02-22     Animal Feed    72.11    NaN         NaN    NaN       NaN\n2 2022-02-08     Animal Feed   992.89    NaN         NaN    NaN       NaN\n3 2022-03-03     Animal Feed   712.30    NaN         NaN    NaN       NaN\n4 2022-03-09     Animal Feed   194.90    NaN         NaN    NaN       NaN\n5 2022-03-07   Workshop Shed  2662.81    NaN         NaN    NaN       NaN\n6 2022-02-18  Tractor Supply   317.01    NaN         NaN    NaN       NaN\n7 2022-02-21  Tractor Supply   202.09    NaN         NaN    NaN       NaN\n8 2022-03-05  Tractor Supply   386.61    NaN         NaN    NaN       NaN\n9 2022-03-11       Livestock   342.65  Ducks         NaN    NaN       NaN\n\nLast 5 rows:\n         Date                           Item   Amount Note  Unnamed: 4  Total  12530.45\n13 2022-02-23                 Tractor Supply   300.76  NaN         NaN    NaN       NaN\n14 2022-02-22                 Tractor Supply   293.43  NaN         NaN    NaN       NaN\n15 2022-01-17            Truck Purchase Fees  1150.47  NaN         NaN    NaN       NaN\n16 2022-01-21  Truck Paperwork Shipping Fees    96.38  NaN         NaN    NaN       NaN\n17 2022-03-10                Truck Port Fees  3057.00  NaN         NaN    NaN       NaN\n"
     ]
    }
   ],
   "source": [
    "\n",
    "import pandas as pd\n",
    "from pathlib import Path\n",
    "\n",
    "excel_path = Path(r\"/Users/cheickberthe/PycharmProjects/spreadsheet-analyzer/test_assets/collection/business-accounting/Business Accounting.xlsx\")\n",
    "df = pd.read_excel(excel_path, sheet_name=8)\n",
    "print(f\"Loaded sheet with shape: {df.shape}\")\n",
    "\n",
    "# Quick preview for LLM context\n",
    "print(\"\\nFirst 10 rows:\")\n",
    "print(df.head(10).to_string())\n",
    "print(\"\\nLast 5 rows:\")\n",
    "print(df.tail(5).to_string())\n",
    "\n",
    "# Get basic info\n",
    "sheet_name = \"None\"\n",
    "sheet_dimensions = f\"{df.shape[0]} rows x {df.shape[1]} columns\"\n"
   ]
  },
  {
   "cell_type": "code",
   "execution_count": 2,
   "id": "ac849d64",
   "metadata": {
    "cell_id": "338fb852-2169-4fb9-891c-aa3f9af41473"
   },
   "outputs": [
    {
     "data": {
      "text/plain": [
       "'None'"
      ]
     },
     "execution_count": 2,
     "metadata": {},
     "output_type": "execute_result"
    }
   ],
   "source": [
    "\n",
    "excel_file_name = excel_path.name\n",
    "sheet_dimensions = f\"{df.shape[0]} rows x {df.shape[1]} columns\"\n",
    "sheet_name\n"
   ]
  },
  {
   "cell_type": "code",
   "execution_count": 3,
   "id": "691fde31",
   "metadata": {
    "cell_id": "cfa40f55-d3e7-435f-bf16-207baae5e21d"
   },
   "outputs": [
    {
     "name": "stdout",
     "output_type": "stream",
     "text": [
      "=== DATA STRUCTURE ANALYSIS ===\nDataFrame shape: (18, 7)\nColumns: ['Date', 'Item', 'Amount', 'Note', 'Unnamed: 4', 'Total', 12530.449999999999]\n\n=== FIRST 10 ROWS ===\n        Date            Item   Amount   Note  Unnamed: 4  Total  12530.45\n0 2022-02-22     Animal Feed   971.47    NaN         NaN    NaN       NaN\n1 2022-02-22     Animal Feed    72.11    NaN         NaN    NaN       NaN\n2 2022-02-08     Animal Feed   992.89    NaN         NaN    NaN       NaN\n3 2022-03-03     Animal Feed   712.30    NaN         NaN    NaN       NaN\n4 2022-03-09     Animal Feed   194.90    NaN         NaN    NaN       NaN\n5 2022-03-07   Workshop Shed  2662.81    NaN         NaN    NaN       NaN\n6 2022-02-18  Tractor Supply   317.01    NaN         NaN    NaN       NaN\n7 2022-02-21  Tractor Supply   202.09    NaN         NaN    NaN       NaN\n8 2022-03-05  Tractor Supply   386.61    NaN         NaN    NaN       NaN\n9 2022-03-11       Livestock   342.65  Ducks         NaN    NaN       NaN\n\n=== LAST 5 ROWS ===\n         Date                           Item   Amount Note  Unnamed: 4  Total  12530.45\n13 2022-02-23                 Tractor Supply   300.76  NaN         NaN    NaN       NaN\n14 2022-02-22                 Tractor Supply   293.43  NaN         NaN    NaN       NaN\n15 2022-01-17            Truck Purchase Fees  1150.47  NaN         NaN    NaN       NaN\n16 2022-01-21  Truck Paperwork Shipping Fees    96.38  NaN         NaN    NaN       NaN\n17 2022-03-10                Truck Port Fees  3057.00  NaN         NaN    NaN       NaN\n\n=== COLUMN ANALYSIS ===\nColumn 0 ('Date'): 18/18 non-null values\nColumn 1 ('Item'): 18/18 non-null values\nColumn 2 ('Amount'): 18/18 non-null values\nColumn 3 ('Note'): 2/18 non-null values\nColumn 4 ('Unnamed: 4'): 0/18 non-null values\nColumn 5 ('Total'): 0/18 non-null values\nColumn 6 ('12530.449999999999'): 0/18 non-null values\n\n=== EMPTY ROW ANALYSIS ===\nNo completely empty rows found\n\n=== SIDE-BY-SIDE ANALYSIS ===\nLeft section shape: (18, 7)\nRight section shape: (18, 0)\nLeft section non-null density: 0.44\nRight section non-null density: nan\n"
     ]
    },
    {
     "name": "stderr",
     "output_type": "stream",
     "text": [
      "/var/folders/cj/jrpb86t115g40v7zwc3d5znw0000gn/T/ipykernel_16702/2689435735.py:32: RuntimeWarning: invalid value encountered in scalar divide\n  print(f\"Right section non-null density: {right_cols.notna().sum().sum() / (right_cols.shape[0] * right_cols.shape[1]):.2f}\")\n"
     ]
    }
   ],
   "source": [
    "\n",
    "# Table Detection Analysis\n",
    "print(\"=== DATA STRUCTURE ANALYSIS ===\")\n",
    "print(f\"DataFrame shape: {df.shape}\")\n",
    "print(f\"Columns: {list(df.columns)}\")\n",
    "print(\"\\n=== FIRST 10 ROWS ===\")\n",
    "print(df.head(10).to_string())\n",
    "print(\"\\n=== LAST 5 ROWS ===\")\n",
    "print(df.tail(5).to_string())\n",
    "\n",
    "print(\"\\n=== COLUMN ANALYSIS ===\")\n",
    "# Check for empty columns that might separate tables\n",
    "for i, col in enumerate(df.columns):\n",
    "    non_null_count = df[col].notna().sum()\n",
    "    print(f\"Column {i} ('{col}'): {non_null_count}/{len(df)} non-null values\")\n",
    "\n",
    "print(\"\\n=== EMPTY ROW ANALYSIS ===\")\n",
    "# Check for empty rows that might separate tables\n",
    "empty_rows = df.isnull().all(axis=1)\n",
    "if empty_rows.any():\n",
    "    empty_row_indices = empty_rows[empty_rows].index.tolist()\n",
    "    print(f\"Empty rows found at indices: {empty_row_indices[:10]}\")\n",
    "else:\n",
    "    print(\"No completely empty rows found\")\n",
    "\n",
    "print(\"\\n=== SIDE-BY-SIDE ANALYSIS ===\")\n",
    "# Check for potential side-by-side tables by examining column groups\n",
    "left_cols = df.iloc[:, 0:7]  # First 7 columns\n",
    "right_cols = df.iloc[:, 7:]  # Remaining columns\n",
    "print(f\"Left section shape: {left_cols.shape}\")\n",
    "print(f\"Right section shape: {right_cols.shape}\")\n",
    "print(f\"Left section non-null density: {left_cols.notna().sum().sum() / (left_cols.shape[0] * left_cols.shape[1]):.2f}\")\n",
    "print(f\"Right section non-null density: {right_cols.notna().sum().sum() / (right_cols.shape[0] * right_cols.shape[1]):.2f}\")\n"
   ]
  },
  {
   "cell_type": "code",
   "execution_count": 4,
   "id": "90668a3a",
   "metadata": {
    "cell_id": "1402b407-64d5-4d5b-937d-b7cc8fb92766"
   },
   "outputs": [
    {
     "name": "stdout",
     "output_type": "stream",
     "text": [
      "<class 'pandas.core.frame.DataFrame'>\nRangeIndex: 18 entries, 0 to 17\nData columns (total 7 columns):\n #   Column              Non-Null Count  Dtype         \n---  ------              --------------  -----         \n 0   Date                18 non-null     datetime64[ns]\n 1   Item                18 non-null     object        \n 2   Amount              18 non-null     float64       \n 3   Note                2 non-null      object        \n 4   Unnamed: 4          0 non-null      float64       \n 5   Total               0 non-null      float64       \n 6   12530.449999999999  0 non-null      float64       \ndtypes: datetime64[ns](1), float64(4), object(2)\nmemory usage: 1.1+ KB\n"
     ]
    },
    {
     "data": {
      "text/plain": [
       "(        Date         Item  Amount Note  Unnamed: 4  Total  12530.45\n",
       " 0 2022-02-22  Animal Feed  971.47  NaN         NaN    NaN       NaN\n",
       " 1 2022-02-22  Animal Feed   72.11  NaN         NaN    NaN       NaN\n",
       " 2 2022-02-08  Animal Feed  992.89  NaN         NaN    NaN       NaN\n",
       " 3 2022-03-03  Animal Feed  712.30  NaN         NaN    NaN       NaN\n",
       " 4 2022-03-09  Animal Feed  194.90  NaN         NaN    NaN       NaN,\n",
       " None)"
      ]
     },
     "execution_count": 4,
     "metadata": {},
     "output_type": "execute_result"
    }
   ],
   "source": [
    "# Load the first few rows and info to understand the structure\n",
    "head = df.head()\n",
    "info = df.info()\n",
    "head, info"
   ]
  },
  {
   "cell_type": "code",
   "execution_count": 5,
   "id": "5ee01a25",
   "metadata": {
    "cell_id": "566abb3e-9511-4666-b8cc-812d6164b6e7"
   },
   "outputs": [
    {
     "data": {
      "text/plain": [
       "([], ['Unnamed: 4', 'Total', 12530.449999999999])"
      ]
     },
     "execution_count": 5,
     "metadata": {},
     "output_type": "execute_result"
    }
   ],
   "source": [
    "# Check for empty rows and columns to identify potential table boundaries\n",
    "empty_rows = df.isnull().all(axis=1)\n",
    "empty_row_indices = empty_rows[empty_rows].index.tolist()\n",
    "empty_cols = df.isnull().all(axis=0)\n",
    "empty_col_indices = empty_cols[empty_cols].index.tolist()\n",
    "empty_row_indices, empty_col_indices"
   ]
  },
  {
   "cell_type": "code",
   "execution_count": 6,
   "id": "96973c3d",
   "metadata": {
    "cell_id": "3e764b5e-096e-43dd-b1df-f51e17acf471"
   },
   "outputs": [
    {
     "data": {
      "text/plain": [
       "[{'table_id': 'table_1',\n",
       "  'description': 'Expenses for Animal Feed in February and March 2022',\n",
       "  'start_row': 0,\n",
       "  'end_row': 4,\n",
       "  'start_col': 0,\n",
       "  'end_col': 5,\n",
       "  'confidence': 0.95,\n",
       "  'table_type': 'DETAIL',\n",
       "  'entity_type': 'expenses'}]"
      ]
     },
     "execution_count": 6,
     "metadata": {},
     "output_type": "execute_result"
    }
   ],
   "source": [
    "# Based on the info, the main data table likely spans from row 0 to 4 and columns 0 to 5\n",
    "# The last row seems to be a summary or total, so consider only up to row 4 for the main table\n",
    "# The columns of interest are from 0 to 5\n",
    "# Check for other potential tables by examining empty rows/columns\n",
    "# Since no other clear boundaries are indicated, focus on this main table\n",
    "\n",
    "# Define the main table boundaries\n",
    "detected_tables = [\n",
    "    {\n",
    "        \"table_id\": \"table_1\",\n",
    "        \"description\": \"Expenses for Animal Feed in February and March 2022\",\n",
    "        \"start_row\": 0,\n",
    "        \"end_row\": 4,\n",
    "        \"start_col\": 0,\n",
    "        \"end_col\": 5,\n",
    "        \"confidence\": 0.95,\n",
    "        \"table_type\": \"DETAIL\",\n",
    "        \"entity_type\": \"expenses\"\n",
    "    }\n",
    "]\n",
    "\n",
    "# Output the detected tables\n",
    "detected_tables"
   ]
  },
  {
   "cell_type": "code",
   "execution_count": 7,
   "id": "09de23ed",
   "metadata": {
    "cell_id": "392eb459-0392-4abc-8977-5914edec02fd"
   },
   "outputs": [
    {
     "name": "stdout",
     "output_type": "stream",
     "text": [
      "✅ Found 1 tables from LLM detection\n"
     ]
    },
    {
     "data": {
      "text/plain": [
       "[{'table_id': 'table_1',\n",
       "  'description': 'Expenses for Animal Feed in February and March 2022',\n",
       "  'start_row': 0,\n",
       "  'end_row': 4,\n",
       "  'start_col': 0,\n",
       "  'end_col': 5,\n",
       "  'confidence': 0.95,\n",
       "  'table_type': 'DETAIL',\n",
       "  'entity_type': 'expenses'}]"
      ]
     },
     "execution_count": 7,
     "metadata": {},
     "output_type": "execute_result"
    }
   ],
   "source": [
    "\n",
    "# Extract detection results created by LLM\n",
    "# The detector should have created a 'detected_tables' variable with the results\n",
    "\n",
    "# CLAUDE-TEST-WORKAROUND: Validate that detected_tables exists and is properly formatted\n",
    "if 'detected_tables' in globals():\n",
    "    # Validate it's a list\n",
    "    if isinstance(detected_tables, list):\n",
    "        detection_results = detected_tables\n",
    "        print(f\"✅ Found {len(detection_results)} tables from LLM detection\")\n",
    "        # Validate first table has required fields (if any tables exist)\n",
    "        if detection_results:\n",
    "            required_fields = ['table_id', 'description', 'start_row', 'end_row', 'start_col', 'end_col']\n",
    "            first_table = detection_results[0]\n",
    "            missing_fields = [f for f in required_fields if f not in first_table]\n",
    "            if missing_fields:\n",
    "                print(f\"⚠️ Warning: First table missing fields: {missing_fields}\")\n",
    "    else:\n",
    "        print(f\"❌ Error: detected_tables is not a list, it's a {type(detected_tables)}\")\n",
    "        detection_results = []\n",
    "else:\n",
    "    # CLAUDE-GOTCHA: Gemini sometimes fails to create the variable even after multiple prompts\n",
    "    print(\"❌ No 'detected_tables' variable found - LLM failed to complete detection\")\n",
    "    detection_results = []\n",
    "\n",
    "detection_results\n"
   ]
  },
  {
   "cell_type": "markdown",
   "id": "de32c7bf",
   "metadata": {},
   "source": [
    "\n",
    "# Table Detection Results\n",
    "\n",
    "Detected 1 tables:\n",
    "\n",
    "\n",
    "## Table 1: Expenses for Animal Feed in February and March 2022\n",
    "- Location: Rows 0-4, Columns 0-5\n",
    "- Type: detail\n",
    "- Entity: expenses\n",
    "- Confidence: 0.95\n"
   ]
  }
 ],
 "metadata": {
  "kernelspec": {
   "display_name": "Python 3",
   "name": "python3"
  }
 },
 "nbformat": 4,
 "nbformat_minor": 5
}
