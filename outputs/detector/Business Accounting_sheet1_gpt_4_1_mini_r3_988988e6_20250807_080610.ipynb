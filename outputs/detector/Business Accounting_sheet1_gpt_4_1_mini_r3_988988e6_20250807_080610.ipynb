{
 "cells": [
  {
   "cell_type": "code",
   "execution_count": 1,
   "id": "d231ea0c",
   "metadata": {
    "cell_id": "22b3ef3e-ca20-4677-97c0-18eea9ac6873"
   },
   "outputs": [
    {
     "name": "stdout",
     "output_type": "stream",
     "text": [
      "Loaded sheet with shape: (769, 11)\n\nFirst 10 rows:\n        Date                           Description  Transaction type   USD Amount     XOF Amount   Unnamed: 5              Category   TOTAL REVENUES   84202.53   TOTAL EXPENSES  -385526.333434\n0 2023-01-03                        iCloud Storage               EXP        -9.99   -6214.329474   622.055002                   NaN              NaN        NaN              NaN             NaN\n1 2023-01-03                   Amazon web services               EXP      -284.83 -177179.926325   622.055002                   NaN              NaN        NaN              NaN             NaN\n2 2023-01-03                Diesel for return trip               EXP      -526.48    -327,500CFA          NaN                  Fuel              NaN        NaN              NaN             NaN\n3 2023-01-03                         Road expenses               EXP      -120.57     -75,000CFA          NaN             Toll Fees              NaN        NaN              NaN             NaN\n4 2023-01-03                  Technical Inspection               EXP       -80.38     -50,000CFA          NaN       Regulatory Fees              NaN        NaN              NaN             NaN\n5 2023-01-03                 2 x Shell oil bottles               EXP      -176.83    -110,000CFA          NaN  Maintenance Supplies              NaN        NaN              NaN             NaN\n6 2023-01-03                    3 x oil cartridges               EXP       -48.23     -30,000CFA          NaN  Maintenance Supplies              NaN        NaN              NaN             NaN\n7 2023-01-03  Discount on oil bottle and cartridge               REV        16.08      10,000CFA          NaN  Discount on Supplies              NaN        NaN              NaN             NaN\n8 2023-01-03                          Travel bonus               EXP       -24.11     -15,000CFA          NaN               Bonuses              NaN        NaN              NaN             NaN\n9 2023-01-03           Issiaka Diallo debt payment               EXP       -80.38     -50,000CFA          NaN       Debt Repayments              NaN        NaN              NaN             NaN\n\nLast 5 rows:\n          Date                        Description  Transaction type   USD Amount    XOF Amount   Unnamed: 5         Category   TOTAL REVENUES   84202.53   TOTAL EXPENSES  -385526.333434\n764 2023-12-31  NY Doordash dinner - Woke Noodles               EXP       -57.77 -34293.788136   593.626244              NaN              NaN        NaN              NaN             NaN\n765 2023-12-31               JFK Cart rental fees               EXP        -6.53  -3876.379376   593.626244              NaN              NaN        NaN              NaN             NaN\n766 2023-12-31      Purchase of Mercedes SK Truck               EXP     -7580.53           NaN          NaN   Truck Purchase              NaN        NaN              NaN             NaN\n767 2023-12-31               Yaya December salary               EXP      -168.46           NaN          NaN  Salary Payments              NaN        NaN              NaN             NaN\n768 2023-12-31               2 x 150Amp batteries               EXP      -286.38           NaN          NaN     Repair Parts              NaN        NaN              NaN             NaN\n"
     ]
    }
   ],
   "source": [
    "\n",
    "import pandas as pd\n",
    "from pathlib import Path\n",
    "\n",
    "excel_path = Path(r\"/Users/cheickberthe/PycharmProjects/spreadsheet-analyzer/test_assets/collection/business-accounting/Business Accounting.xlsx\")\n",
    "df = pd.read_excel(excel_path, sheet_name=1)\n",
    "print(f\"Loaded sheet with shape: {df.shape}\")\n",
    "\n",
    "# Quick preview for LLM context\n",
    "print(\"\\nFirst 10 rows:\")\n",
    "print(df.head(10).to_string())\n",
    "print(\"\\nLast 5 rows:\")\n",
    "print(df.tail(5).to_string())\n",
    "\n",
    "# Get basic info\n",
    "sheet_name = \"None\"\n",
    "sheet_dimensions = f\"{df.shape[0]} rows x {df.shape[1]} columns\"\n"
   ]
  },
  {
   "cell_type": "code",
   "execution_count": 2,
   "id": "7686046f",
   "metadata": {
    "cell_id": "c3686d89-ecab-4281-a88e-316f01d32db0"
   },
   "outputs": [
    {
     "data": {
      "text/plain": [
       "'None'"
      ]
     },
     "execution_count": 2,
     "metadata": {},
     "output_type": "execute_result"
    }
   ],
   "source": [
    "\n",
    "excel_file_name = excel_path.name\n",
    "sheet_dimensions = f\"{df.shape[0]} rows x {df.shape[1]} columns\"\n",
    "sheet_name\n"
   ]
  },
  {
   "cell_type": "code",
   "execution_count": 3,
   "id": "80d1f4cc",
   "metadata": {
    "cell_id": "f70a112d-823f-4b1a-a8ca-2fe49a0883f4"
   },
   "outputs": [
    {
     "name": "stdout",
     "output_type": "stream",
     "text": [
      "=== DATA STRUCTURE ANALYSIS ===\nDataFrame shape: (769, 11)\nColumns: ['Date', 'Description', 'Transaction type', 'USD Amount', 'XOF Amount', 'Unnamed: 5', 'Category', 'TOTAL REVENUES', 84202.53000000001, 'TOTAL EXPENSES', -385526.33343393693]\n\n=== FIRST 10 ROWS ===\n        Date                           Description  Transaction type   USD Amount     XOF Amount   Unnamed: 5              Category   TOTAL REVENUES   84202.53   TOTAL EXPENSES  -385526.333434\n0 2023-01-03                        iCloud Storage               EXP        -9.99   -6214.329474   622.055002                   NaN              NaN        NaN              NaN             NaN\n1 2023-01-03                   Amazon web services               EXP      -284.83 -177179.926325   622.055002                   NaN              NaN        NaN              NaN             NaN\n2 2023-01-03                Diesel for return trip               EXP      -526.48    -327,500CFA          NaN                  Fuel              NaN        NaN              NaN             NaN\n3 2023-01-03                         Road expenses               EXP      -120.57     -75,000CFA          NaN             Toll Fees              NaN        NaN              NaN             NaN\n4 2023-01-03                  Technical Inspection               EXP       -80.38     -50,000CFA          NaN       Regulatory Fees              NaN        NaN              NaN             NaN\n5 2023-01-03                 2 x Shell oil bottles               EXP      -176.83    -110,000CFA          NaN  Maintenance Supplies              NaN        NaN              NaN             NaN\n6 2023-01-03                    3 x oil cartridges               EXP       -48.23     -30,000CFA          NaN  Maintenance Supplies              NaN        NaN              NaN             NaN\n7 2023-01-03  Discount on oil bottle and cartridge               REV        16.08      10,000CFA          NaN  Discount on Supplies              NaN        NaN              NaN             NaN\n8 2023-01-03                          Travel bonus               EXP       -24.11     -15,000CFA          NaN               Bonuses              NaN        NaN              NaN             NaN\n9 2023-01-03           Issiaka Diallo debt payment               EXP       -80.38     -50,000CFA          NaN       Debt Repayments              NaN        NaN              NaN             NaN\n\n=== LAST 5 ROWS ===\n          Date                        Description  Transaction type   USD Amount    XOF Amount   Unnamed: 5         Category   TOTAL REVENUES   84202.53   TOTAL EXPENSES  -385526.333434\n764 2023-12-31  NY Doordash dinner - Woke Noodles               EXP       -57.77 -34293.788136   593.626244              NaN              NaN        NaN              NaN             NaN\n765 2023-12-31               JFK Cart rental fees               EXP        -6.53  -3876.379376   593.626244              NaN              NaN        NaN              NaN             NaN\n766 2023-12-31      Purchase of Mercedes SK Truck               EXP     -7580.53           NaN          NaN   Truck Purchase              NaN        NaN              NaN             NaN\n767 2023-12-31               Yaya December salary               EXP      -168.46           NaN          NaN  Salary Payments              NaN        NaN              NaN             NaN\n768 2023-12-31               2 x 150Amp batteries               EXP      -286.38           NaN          NaN     Repair Parts              NaN        NaN              NaN             NaN\n\n=== COLUMN ANALYSIS ===\nColumn 0 ('Date'): 769/769 non-null values\nColumn 1 ('Description'): 769/769 non-null values\nColumn 2 ('Transaction type'): 769/769 non-null values\nColumn 3 ('USD Amount'): 769/769 non-null values\nColumn 4 ('XOF Amount'): 698/769 non-null values\nColumn 5 ('Unnamed: 5'): 264/769 non-null values\nColumn 6 ('Category'): 477/769 non-null values\nColumn 7 ('TOTAL REVENUES'): 0/769 non-null values\nColumn 8 ('84202.53000000001'): 0/769 non-null values\nColumn 9 ('TOTAL EXPENSES'): 0/769 non-null values\nColumn 10 ('-385526.33343393693'): 0/769 non-null values\n\n=== EMPTY ROW ANALYSIS ===\nNo completely empty rows found\n\n=== SIDE-BY-SIDE ANALYSIS ===\nLeft section shape: (769, 7)\nRight section shape: (769, 4)\nLeft section non-null density: 0.84\nRight section non-null density: 0.00\n"
     ]
    }
   ],
   "source": [
    "\n",
    "# Table Detection Analysis\n",
    "print(\"=== DATA STRUCTURE ANALYSIS ===\")\n",
    "print(f\"DataFrame shape: {df.shape}\")\n",
    "print(f\"Columns: {list(df.columns)}\")\n",
    "print(\"\\n=== FIRST 10 ROWS ===\")\n",
    "print(df.head(10).to_string())\n",
    "print(\"\\n=== LAST 5 ROWS ===\")\n",
    "print(df.tail(5).to_string())\n",
    "\n",
    "print(\"\\n=== COLUMN ANALYSIS ===\")\n",
    "# Check for empty columns that might separate tables\n",
    "for i, col in enumerate(df.columns):\n",
    "    non_null_count = df[col].notna().sum()\n",
    "    print(f\"Column {i} ('{col}'): {non_null_count}/{len(df)} non-null values\")\n",
    "\n",
    "print(\"\\n=== EMPTY ROW ANALYSIS ===\")\n",
    "# Check for empty rows that might separate tables\n",
    "empty_rows = df.isnull().all(axis=1)\n",
    "if empty_rows.any():\n",
    "    empty_row_indices = empty_rows[empty_rows].index.tolist()\n",
    "    print(f\"Empty rows found at indices: {empty_row_indices[:10]}\")\n",
    "else:\n",
    "    print(\"No completely empty rows found\")\n",
    "\n",
    "print(\"\\n=== SIDE-BY-SIDE ANALYSIS ===\")\n",
    "# Check for potential side-by-side tables by examining column groups\n",
    "left_cols = df.iloc[:, 0:7]  # First 7 columns\n",
    "right_cols = df.iloc[:, 7:]  # Remaining columns\n",
    "print(f\"Left section shape: {left_cols.shape}\")\n",
    "print(f\"Right section shape: {right_cols.shape}\")\n",
    "print(f\"Left section non-null density: {left_cols.notna().sum().sum() / (left_cols.shape[0] * left_cols.shape[1]):.2f}\")\n",
    "print(f\"Right section non-null density: {right_cols.notna().sum().sum() / (right_cols.shape[0] * right_cols.shape[1]):.2f}\")\n"
   ]
  },
  {
   "cell_type": "code",
   "execution_count": 4,
   "id": "9df9742e",
   "metadata": {
    "cell_id": "a684f2a8-a8f5-4c37-ae51-531081a8e314"
   },
   "outputs": [
    {
     "name": "stdout",
     "output_type": "stream",
     "text": [
      "Detected 1 tables\nTable 1: Detailed transaction records including date, description, transaction type, amounts, and categories at rows 0-768, cols 0-6\n"
     ]
    }
   ],
   "source": [
    "# Based on the analysis, the data appears to have one main table spanning all rows and columns 0-6\n",
    "# Columns 7-10 are completely empty and do not form a table\n",
    "\n",
    "# Define the detected table boundaries and details\n",
    "\n",
    "detected_tables = [\n",
    "    {\n",
    "        \"table_id\": \"table_1\",\n",
    "        \"description\": \"Detailed transaction records including date, description, transaction type, amounts, and categories\",\n",
    "        \"start_row\": 0,\n",
    "        \"end_row\": 768,\n",
    "        \"start_col\": 0,\n",
    "        \"end_col\": 6,\n",
    "        \"confidence\": 0.95,\n",
    "        \"table_type\": \"DETAIL\",\n",
    "        \"entity_type\": \"transactions\"\n",
    "    }\n",
    "]\n",
    "\n",
    "print(f\"Detected {len(detected_tables)} tables\")\n",
    "for i, table in enumerate(detected_tables, 1):\n",
    "    print(f\"Table {i}: {table['description']} at rows {table['start_row']}-{table['end_row']}, cols {table['start_col']}-{table['end_col']}\")"
   ]
  },
  {
   "cell_type": "code",
   "execution_count": 5,
   "id": "a6213083",
   "metadata": {
    "cell_id": "7a0c5a05-0082-4216-9089-d49473c927c3"
   },
   "outputs": [
    {
     "name": "stdout",
     "output_type": "stream",
     "text": [
      "Found 1 tables from LLM detection\n"
     ]
    },
    {
     "data": {
      "text/plain": [
       "[{'table_id': 'table_1',\n",
       "  'description': 'Detailed transaction records including date, description, transaction type, amounts, and categories',\n",
       "  'start_row': 0,\n",
       "  'end_row': 768,\n",
       "  'start_col': 0,\n",
       "  'end_col': 6,\n",
       "  'confidence': 0.95,\n",
       "  'table_type': 'DETAIL',\n",
       "  'entity_type': 'transactions'}]"
      ]
     },
     "execution_count": 5,
     "metadata": {},
     "output_type": "execute_result"
    }
   ],
   "source": [
    "\n",
    "# Extract detection results created by LLM\n",
    "# The detector should have created a 'detected_tables' variable with the results\n",
    "\n",
    "# Check if the LLM created the expected variable\n",
    "if 'detected_tables' in globals():\n",
    "    # Return the detected tables\n",
    "    detection_results = detected_tables\n",
    "    print(f\"Found {len(detection_results)} tables from LLM detection\")\n",
    "else:\n",
    "    # If no detection was made, return empty list to trigger fallback\n",
    "    print(\"No 'detected_tables' variable found - LLM may not have completed detection\")\n",
    "    detection_results = []\n",
    "\n",
    "detection_results\n"
   ]
  },
  {
   "cell_type": "markdown",
   "id": "7630a835",
   "metadata": {},
   "source": [
    "\n",
    "# Table Detection Results\n",
    "\n",
    "Detected 1 tables:\n",
    "\n",
    "\n",
    "## Table 1: Detailed transaction records including date, description, transaction type, amounts, and categories\n",
    "- Location: Rows 0-768, Columns 0-6\n",
    "- Type: detail\n",
    "- Entity: transactions\n",
    "- Confidence: 0.95\n"
   ]
  }
 ],
 "metadata": {
  "kernelspec": {
   "display_name": "Python 3",
   "name": "python3"
  }
 },
 "nbformat": 4,
 "nbformat_minor": 5
}
