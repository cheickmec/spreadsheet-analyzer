{
 "cells": [
  {
   "cell_type": "code",
   "execution_count": 1,
   "id": "43526f42",
   "metadata": {
    "cell_id": "9e440b88-01ea-409d-a098-e6534e8667fb"
   },
   "outputs": [
    {
     "name": "stdout",
     "output_type": "stream",
     "text": [
      "Loaded sheet with shape: (121, 14)\n\nFirst 10 rows:\n                 Lender   Amount   Term    Rate  Payment Origination Date     Truck  Unnamed: 7 Unnamed: 8           Unnamed: 9 Unnamed: 10 Unnamed: 11 Unnamed: 12 Unnamed: 13\n0                   BHG  89395.0  120.0  0.1824  1624.60       2023-04-18  Actros 1         NaN  Payment #                 Date      Amount    Interest   Principal     Balance\n1  Fidelity 401(k) loan  36000.0   59.0  0.0925   350.63       2023-07-16  Actros 2         NaN          1  2023-05-20 00:00:00      1624.6         NaN         NaN         NaN\n2                   NaN      NaN    NaN     NaN      NaN              NaT       NaN         NaN          2  2023-06-20 00:00:00      1624.6         NaN         NaN         NaN\n3                   NaN      NaN    NaN     NaN      NaN              NaT       NaN         NaN          3  2023-07-20 00:00:00      1624.6         NaN         NaN         NaN\n4                   NaN      NaN    NaN     NaN      NaN              NaT       NaN         NaN          4  2023-08-20 00:00:00      1624.6         NaN         NaN         NaN\n5                   NaN      NaN    NaN     NaN      NaN              NaT       NaN         NaN          5  2023-09-20 00:00:00      1624.6         NaN         NaN         NaN\n6                   NaN      NaN    NaN     NaN      NaN              NaT       NaN         NaN          6  2023-10-20 00:00:00      1624.6         NaN         NaN         NaN\n7                   NaN      NaN    NaN     NaN      NaN              NaT       NaN         NaN          7  2023-11-20 00:00:00      1624.6         NaN         NaN         NaN\n8                   NaN      NaN    NaN     NaN      NaN              NaT       NaN         NaN          8  2023-12-20 00:00:00      1624.6         NaN         NaN         NaN\n9                   NaN      NaN    NaN     NaN      NaN              NaT       NaN         NaN          9  2024-01-20 00:00:00      1624.6         NaN         NaN         NaN\n\nLast 5 rows:\n    Lender  Amount  Term  Rate  Payment Origination Date Truck  Unnamed: 7 Unnamed: 8           Unnamed: 9 Unnamed: 10 Unnamed: 11 Unnamed: 12 Unnamed: 13\n116    NaN     NaN   NaN   NaN      NaN              NaT   NaN         NaN        116  2032-12-20 00:00:00      1624.6         NaN         NaN         NaN\n117    NaN     NaN   NaN   NaN      NaN              NaT   NaN         NaN        117  2033-01-20 00:00:00      1624.6         NaN         NaN         NaN\n118    NaN     NaN   NaN   NaN      NaN              NaT   NaN         NaN        118  2033-02-20 00:00:00      1624.6         NaN         NaN         NaN\n119    NaN     NaN   NaN   NaN      NaN              NaT   NaN         NaN        119  2033-03-20 00:00:00      1624.6         NaN         NaN         NaN\n120    NaN     NaN   NaN   NaN      NaN              NaT   NaN         NaN        120  2033-04-20 00:00:00      1624.6         NaN         NaN         NaN\n"
     ]
    }
   ],
   "source": [
    "\n",
    "import pandas as pd\n",
    "from pathlib import Path\n",
    "\n",
    "excel_path = Path(r\"/Users/cheickberthe/PycharmProjects/spreadsheet-analyzer/test_assets/collection/business-accounting/Business Accounting.xlsx\")\n",
    "df = pd.read_excel(excel_path, sheet_name=2)\n",
    "print(f\"Loaded sheet with shape: {df.shape}\")\n",
    "\n",
    "# Quick preview for LLM context\n",
    "print(\"\\nFirst 10 rows:\")\n",
    "print(df.head(10).to_string())\n",
    "print(\"\\nLast 5 rows:\")\n",
    "print(df.tail(5).to_string())\n",
    "\n",
    "# Get basic info\n",
    "sheet_name = \"None\"\n",
    "sheet_dimensions = f\"{df.shape[0]} rows x {df.shape[1]} columns\"\n"
   ]
  },
  {
   "cell_type": "code",
   "execution_count": 2,
   "id": "252bb2dd",
   "metadata": {
    "cell_id": "a0e77616-d3c3-4233-a407-231152ea3a90"
   },
   "outputs": [
    {
     "data": {
      "text/plain": [
       "'None'"
      ]
     },
     "execution_count": 2,
     "metadata": {},
     "output_type": "execute_result"
    }
   ],
   "source": [
    "\n",
    "excel_file_name = excel_path.name\n",
    "sheet_dimensions = f\"{df.shape[0]} rows x {df.shape[1]} columns\"\n",
    "sheet_name\n"
   ]
  },
  {
   "cell_type": "code",
   "execution_count": 3,
   "id": "0691be93",
   "metadata": {
    "cell_id": "eeb14a0c-4dae-4f48-b711-f92499d1e63c"
   },
   "outputs": [
    {
     "name": "stdout",
     "output_type": "stream",
     "text": [
      "=== DATA STRUCTURE ANALYSIS ===\nDataFrame shape: (121, 14)\nColumns: ['Lender', 'Amount', 'Term', 'Rate', 'Payment', 'Origination Date', 'Truck', 'Unnamed: 7', 'Unnamed: 8', 'Unnamed: 9', 'Unnamed: 10', 'Unnamed: 11', 'Unnamed: 12', 'Unnamed: 13']\n\n=== FIRST 10 ROWS ===\n                 Lender   Amount   Term    Rate  Payment Origination Date     Truck  Unnamed: 7 Unnamed: 8           Unnamed: 9 Unnamed: 10 Unnamed: 11 Unnamed: 12 Unnamed: 13\n0                   BHG  89395.0  120.0  0.1824  1624.60       2023-04-18  Actros 1         NaN  Payment #                 Date      Amount    Interest   Principal     Balance\n1  Fidelity 401(k) loan  36000.0   59.0  0.0925   350.63       2023-07-16  Actros 2         NaN          1  2023-05-20 00:00:00      1624.6         NaN         NaN         NaN\n2                   NaN      NaN    NaN     NaN      NaN              NaT       NaN         NaN          2  2023-06-20 00:00:00      1624.6         NaN         NaN         NaN\n3                   NaN      NaN    NaN     NaN      NaN              NaT       NaN         NaN          3  2023-07-20 00:00:00      1624.6         NaN         NaN         NaN\n4                   NaN      NaN    NaN     NaN      NaN              NaT       NaN         NaN          4  2023-08-20 00:00:00      1624.6         NaN         NaN         NaN\n5                   NaN      NaN    NaN     NaN      NaN              NaT       NaN         NaN          5  2023-09-20 00:00:00      1624.6         NaN         NaN         NaN\n6                   NaN      NaN    NaN     NaN      NaN              NaT       NaN         NaN          6  2023-10-20 00:00:00      1624.6         NaN         NaN         NaN\n7                   NaN      NaN    NaN     NaN      NaN              NaT       NaN         NaN          7  2023-11-20 00:00:00      1624.6         NaN         NaN         NaN\n8                   NaN      NaN    NaN     NaN      NaN              NaT       NaN         NaN          8  2023-12-20 00:00:00      1624.6         NaN         NaN         NaN\n9                   NaN      NaN    NaN     NaN      NaN              NaT       NaN         NaN          9  2024-01-20 00:00:00      1624.6         NaN         NaN         NaN\n\n=== LAST 5 ROWS ===\n    Lender  Amount  Term  Rate  Payment Origination Date Truck  Unnamed: 7 Unnamed: 8           Unnamed: 9 Unnamed: 10 Unnamed: 11 Unnamed: 12 Unnamed: 13\n116    NaN     NaN   NaN   NaN      NaN              NaT   NaN         NaN        116  2032-12-20 00:00:00      1624.6         NaN         NaN         NaN\n117    NaN     NaN   NaN   NaN      NaN              NaT   NaN         NaN        117  2033-01-20 00:00:00      1624.6         NaN         NaN         NaN\n118    NaN     NaN   NaN   NaN      NaN              NaT   NaN         NaN        118  2033-02-20 00:00:00      1624.6         NaN         NaN         NaN\n119    NaN     NaN   NaN   NaN      NaN              NaT   NaN         NaN        119  2033-03-20 00:00:00      1624.6         NaN         NaN         NaN\n120    NaN     NaN   NaN   NaN      NaN              NaT   NaN         NaN        120  2033-04-20 00:00:00      1624.6         NaN         NaN         NaN\n\n=== COLUMN ANALYSIS ===\nColumn 0 ('Lender'): 2/121 non-null values\nColumn 1 ('Amount'): 2/121 non-null values\nColumn 2 ('Term'): 2/121 non-null values\nColumn 3 ('Rate'): 2/121 non-null values\nColumn 4 ('Payment'): 2/121 non-null values\nColumn 5 ('Origination Date'): 2/121 non-null values\nColumn 6 ('Truck'): 2/121 non-null values\nColumn 7 ('Unnamed: 7'): 0/121 non-null values\nColumn 8 ('Unnamed: 8'): 121/121 non-null values\nColumn 9 ('Unnamed: 9'): 121/121 non-null values\nColumn 10 ('Unnamed: 10'): 121/121 non-null values\nColumn 11 ('Unnamed: 11'): 1/121 non-null values\nColumn 12 ('Unnamed: 12'): 1/121 non-null values\nColumn 13 ('Unnamed: 13'): 1/121 non-null values\n\n=== EMPTY ROW ANALYSIS ===\nNo completely empty rows found\n\n=== SIDE-BY-SIDE ANALYSIS ===\nLeft section shape: (121, 7)\nRight section shape: (121, 7)\nLeft section non-null density: 0.02\nRight section non-null density: 0.43\n"
     ]
    }
   ],
   "source": [
    "\n",
    "# Table Detection Analysis\n",
    "print(\"=== DATA STRUCTURE ANALYSIS ===\")\n",
    "print(f\"DataFrame shape: {df.shape}\")\n",
    "print(f\"Columns: {list(df.columns)}\")\n",
    "print(\"\\n=== FIRST 10 ROWS ===\")\n",
    "print(df.head(10).to_string())\n",
    "print(\"\\n=== LAST 5 ROWS ===\")\n",
    "print(df.tail(5).to_string())\n",
    "\n",
    "print(\"\\n=== COLUMN ANALYSIS ===\")\n",
    "# Check for empty columns that might separate tables\n",
    "for i, col in enumerate(df.columns):\n",
    "    non_null_count = df[col].notna().sum()\n",
    "    print(f\"Column {i} ('{col}'): {non_null_count}/{len(df)} non-null values\")\n",
    "\n",
    "print(\"\\n=== EMPTY ROW ANALYSIS ===\")\n",
    "# Check for empty rows that might separate tables\n",
    "empty_rows = df.isnull().all(axis=1)\n",
    "if empty_rows.any():\n",
    "    empty_row_indices = empty_rows[empty_rows].index.tolist()\n",
    "    print(f\"Empty rows found at indices: {empty_row_indices[:10]}\")\n",
    "else:\n",
    "    print(\"No completely empty rows found\")\n",
    "\n",
    "print(\"\\n=== SIDE-BY-SIDE ANALYSIS ===\")\n",
    "# Check for potential side-by-side tables by examining column groups\n",
    "left_cols = df.iloc[:, 0:7]  # First 7 columns\n",
    "right_cols = df.iloc[:, 7:]  # Remaining columns\n",
    "print(f\"Left section shape: {left_cols.shape}\")\n",
    "print(f\"Right section shape: {right_cols.shape}\")\n",
    "print(f\"Left section non-null density: {left_cols.notna().sum().sum() / (left_cols.shape[0] * left_cols.shape[1]):.2f}\")\n",
    "print(f\"Right section non-null density: {right_cols.notna().sum().sum() / (right_cols.shape[0] * right_cols.shape[1]):.2f}\")\n"
   ]
  },
  {
   "cell_type": "code",
   "execution_count": 4,
   "id": "77138664",
   "metadata": {
    "cell_id": "a3505d6d-d233-4098-9f1e-76b6e18a3b0d"
   },
   "outputs": [
    {
     "data": {
      "text/html": [
       "<div>\n",
       "<style scoped>\n",
       "    .dataframe tbody tr th:only-of-type {\n",
       "        vertical-align: middle;\n",
       "    }\n",
       "\n",
       "    .dataframe tbody tr th {\n",
       "        vertical-align: top;\n",
       "    }\n",
       "\n",
       "    .dataframe thead th {\n",
       "        text-align: right;\n",
       "    }\n",
       "</style>\n",
       "<table border=\"1\" class=\"dataframe\">\n",
       "  <thead>\n",
       "    <tr style=\"text-align: right;\">\n",
       "      <th></th>\n",
       "      <th>Lender</th>\n",
       "      <th>Amount</th>\n",
       "      <th>Term</th>\n",
       "      <th>Rate</th>\n",
       "      <th>Payment</th>\n",
       "      <th>Origination Date</th>\n",
       "      <th>Truck</th>\n",
       "      <th>Unnamed: 7</th>\n",
       "      <th>Unnamed: 8</th>\n",
       "      <th>Unnamed: 9</th>\n",
       "      <th>Unnamed: 10</th>\n",
       "      <th>Unnamed: 11</th>\n",
       "      <th>Unnamed: 12</th>\n",
       "      <th>Unnamed: 13</th>\n",
       "    </tr>\n",
       "  </thead>\n",
       "  <tbody>\n",
       "    <tr>\n",
       "      <th>0</th>\n",
       "      <td>BHG</td>\n",
       "      <td>89395.0</td>\n",
       "      <td>120.0</td>\n",
       "      <td>0.1824</td>\n",
       "      <td>1624.60</td>\n",
       "      <td>2023-04-18</td>\n",
       "      <td>Actros 1</td>\n",
       "      <td>NaN</td>\n",
       "      <td>Payment #</td>\n",
       "      <td>Date</td>\n",
       "      <td>Amount</td>\n",
       "      <td>Interest</td>\n",
       "      <td>Principal</td>\n",
       "      <td>Balance</td>\n",
       "    </tr>\n",
       "    <tr>\n",
       "      <th>1</th>\n",
       "      <td>Fidelity 401(k) loan</td>\n",
       "      <td>36000.0</td>\n",
       "      <td>59.0</td>\n",
       "      <td>0.0925</td>\n",
       "      <td>350.63</td>\n",
       "      <td>2023-07-16</td>\n",
       "      <td>Actros 2</td>\n",
       "      <td>NaN</td>\n",
       "      <td>1</td>\n",
       "      <td>2023-05-20 00:00:00</td>\n",
       "      <td>1624.6</td>\n",
       "      <td>NaN</td>\n",
       "      <td>NaN</td>\n",
       "      <td>NaN</td>\n",
       "    </tr>\n",
       "    <tr>\n",
       "      <th>2</th>\n",
       "      <td>NaN</td>\n",
       "      <td>NaN</td>\n",
       "      <td>NaN</td>\n",
       "      <td>NaN</td>\n",
       "      <td>NaN</td>\n",
       "      <td>NaT</td>\n",
       "      <td>NaN</td>\n",
       "      <td>NaN</td>\n",
       "      <td>2</td>\n",
       "      <td>2023-06-20 00:00:00</td>\n",
       "      <td>1624.6</td>\n",
       "      <td>NaN</td>\n",
       "      <td>NaN</td>\n",
       "      <td>NaN</td>\n",
       "    </tr>\n",
       "    <tr>\n",
       "      <th>3</th>\n",
       "      <td>NaN</td>\n",
       "      <td>NaN</td>\n",
       "      <td>NaN</td>\n",
       "      <td>NaN</td>\n",
       "      <td>NaN</td>\n",
       "      <td>NaT</td>\n",
       "      <td>NaN</td>\n",
       "      <td>NaN</td>\n",
       "      <td>3</td>\n",
       "      <td>2023-07-20 00:00:00</td>\n",
       "      <td>1624.6</td>\n",
       "      <td>NaN</td>\n",
       "      <td>NaN</td>\n",
       "      <td>NaN</td>\n",
       "    </tr>\n",
       "    <tr>\n",
       "      <th>4</th>\n",
       "      <td>NaN</td>\n",
       "      <td>NaN</td>\n",
       "      <td>NaN</td>\n",
       "      <td>NaN</td>\n",
       "      <td>NaN</td>\n",
       "      <td>NaT</td>\n",
       "      <td>NaN</td>\n",
       "      <td>NaN</td>\n",
       "      <td>4</td>\n",
       "      <td>2023-08-20 00:00:00</td>\n",
       "      <td>1624.6</td>\n",
       "      <td>NaN</td>\n",
       "      <td>NaN</td>\n",
       "      <td>NaN</td>\n",
       "    </tr>\n",
       "  </tbody>\n",
       "</table>\n",
       "</div>"
      ],
      "text/plain": [
       "                 Lender   Amount   Term    Rate  Payment Origination Date  \\\n",
       "0                   BHG  89395.0  120.0  0.1824  1624.60       2023-04-18   \n",
       "1  Fidelity 401(k) loan  36000.0   59.0  0.0925   350.63       2023-07-16   \n",
       "2                   NaN      NaN    NaN     NaN      NaN              NaT   \n",
       "3                   NaN      NaN    NaN     NaN      NaN              NaT   \n",
       "4                   NaN      NaN    NaN     NaN      NaN              NaT   \n",
       "\n",
       "      Truck  Unnamed: 7 Unnamed: 8           Unnamed: 9 Unnamed: 10  \\\n",
       "0  Actros 1         NaN  Payment #                 Date      Amount   \n",
       "1  Actros 2         NaN          1  2023-05-20 00:00:00      1624.6   \n",
       "2       NaN         NaN          2  2023-06-20 00:00:00      1624.6   \n",
       "3       NaN         NaN          3  2023-07-20 00:00:00      1624.6   \n",
       "4       NaN         NaN          4  2023-08-20 00:00:00      1624.6   \n",
       "\n",
       "  Unnamed: 11 Unnamed: 12 Unnamed: 13  \n",
       "0    Interest   Principal     Balance  \n",
       "1         NaN         NaN         NaN  \n",
       "2         NaN         NaN         NaN  \n",
       "3         NaN         NaN         NaN  \n",
       "4         NaN         NaN         NaN  "
      ]
     },
     "execution_count": 4,
     "metadata": {},
     "output_type": "execute_result"
    }
   ],
   "source": [
    "df.head()"
   ]
  },
  {
   "cell_type": "code",
   "execution_count": 5,
   "id": "d9760801",
   "metadata": {
    "cell_id": "4b58ae3b-349f-4707-a8f9-b0ffdebeb34b"
   },
   "outputs": [
    {
     "data": {
      "text/html": [
       "<div>\n",
       "<style scoped>\n",
       "    .dataframe tbody tr th:only-of-type {\n",
       "        vertical-align: middle;\n",
       "    }\n",
       "\n",
       "    .dataframe tbody tr th {\n",
       "        vertical-align: top;\n",
       "    }\n",
       "\n",
       "    .dataframe thead th {\n",
       "        text-align: right;\n",
       "    }\n",
       "</style>\n",
       "<table border=\"1\" class=\"dataframe\">\n",
       "  <thead>\n",
       "    <tr style=\"text-align: right;\">\n",
       "      <th></th>\n",
       "      <th>Lender</th>\n",
       "      <th>Amount</th>\n",
       "      <th>Term</th>\n",
       "      <th>Rate</th>\n",
       "      <th>Payment</th>\n",
       "      <th>Origination Date</th>\n",
       "      <th>Truck</th>\n",
       "      <th>Unnamed: 7</th>\n",
       "      <th>Unnamed: 8</th>\n",
       "      <th>Unnamed: 9</th>\n",
       "      <th>Unnamed: 10</th>\n",
       "      <th>Unnamed: 11</th>\n",
       "      <th>Unnamed: 12</th>\n",
       "      <th>Unnamed: 13</th>\n",
       "    </tr>\n",
       "  </thead>\n",
       "  <tbody>\n",
       "    <tr>\n",
       "      <th>116</th>\n",
       "      <td>NaN</td>\n",
       "      <td>NaN</td>\n",
       "      <td>NaN</td>\n",
       "      <td>NaN</td>\n",
       "      <td>NaN</td>\n",
       "      <td>NaT</td>\n",
       "      <td>NaN</td>\n",
       "      <td>NaN</td>\n",
       "      <td>116</td>\n",
       "      <td>2032-12-20 00:00:00</td>\n",
       "      <td>1624.6</td>\n",
       "      <td>NaN</td>\n",
       "      <td>NaN</td>\n",
       "      <td>NaN</td>\n",
       "    </tr>\n",
       "    <tr>\n",
       "      <th>117</th>\n",
       "      <td>NaN</td>\n",
       "      <td>NaN</td>\n",
       "      <td>NaN</td>\n",
       "      <td>NaN</td>\n",
       "      <td>NaN</td>\n",
       "      <td>NaT</td>\n",
       "      <td>NaN</td>\n",
       "      <td>NaN</td>\n",
       "      <td>117</td>\n",
       "      <td>2033-01-20 00:00:00</td>\n",
       "      <td>1624.6</td>\n",
       "      <td>NaN</td>\n",
       "      <td>NaN</td>\n",
       "      <td>NaN</td>\n",
       "    </tr>\n",
       "    <tr>\n",
       "      <th>118</th>\n",
       "      <td>NaN</td>\n",
       "      <td>NaN</td>\n",
       "      <td>NaN</td>\n",
       "      <td>NaN</td>\n",
       "      <td>NaN</td>\n",
       "      <td>NaT</td>\n",
       "      <td>NaN</td>\n",
       "      <td>NaN</td>\n",
       "      <td>118</td>\n",
       "      <td>2033-02-20 00:00:00</td>\n",
       "      <td>1624.6</td>\n",
       "      <td>NaN</td>\n",
       "      <td>NaN</td>\n",
       "      <td>NaN</td>\n",
       "    </tr>\n",
       "    <tr>\n",
       "      <th>119</th>\n",
       "      <td>NaN</td>\n",
       "      <td>NaN</td>\n",
       "      <td>NaN</td>\n",
       "      <td>NaN</td>\n",
       "      <td>NaN</td>\n",
       "      <td>NaT</td>\n",
       "      <td>NaN</td>\n",
       "      <td>NaN</td>\n",
       "      <td>119</td>\n",
       "      <td>2033-03-20 00:00:00</td>\n",
       "      <td>1624.6</td>\n",
       "      <td>NaN</td>\n",
       "      <td>NaN</td>\n",
       "      <td>NaN</td>\n",
       "    </tr>\n",
       "    <tr>\n",
       "      <th>120</th>\n",
       "      <td>NaN</td>\n",
       "      <td>NaN</td>\n",
       "      <td>NaN</td>\n",
       "      <td>NaN</td>\n",
       "      <td>NaN</td>\n",
       "      <td>NaT</td>\n",
       "      <td>NaN</td>\n",
       "      <td>NaN</td>\n",
       "      <td>120</td>\n",
       "      <td>2033-04-20 00:00:00</td>\n",
       "      <td>1624.6</td>\n",
       "      <td>NaN</td>\n",
       "      <td>NaN</td>\n",
       "      <td>NaN</td>\n",
       "    </tr>\n",
       "  </tbody>\n",
       "</table>\n",
       "</div>"
      ],
      "text/plain": [
       "    Lender  Amount  Term  Rate  Payment Origination Date Truck  Unnamed: 7  \\\n",
       "116    NaN     NaN   NaN   NaN      NaN              NaT   NaN         NaN   \n",
       "117    NaN     NaN   NaN   NaN      NaN              NaT   NaN         NaN   \n",
       "118    NaN     NaN   NaN   NaN      NaN              NaT   NaN         NaN   \n",
       "119    NaN     NaN   NaN   NaN      NaN              NaT   NaN         NaN   \n",
       "120    NaN     NaN   NaN   NaN      NaN              NaT   NaN         NaN   \n",
       "\n",
       "    Unnamed: 8           Unnamed: 9 Unnamed: 10 Unnamed: 11 Unnamed: 12  \\\n",
       "116        116  2032-12-20 00:00:00      1624.6         NaN         NaN   \n",
       "117        117  2033-01-20 00:00:00      1624.6         NaN         NaN   \n",
       "118        118  2033-02-20 00:00:00      1624.6         NaN         NaN   \n",
       "119        119  2033-03-20 00:00:00      1624.6         NaN         NaN   \n",
       "120        120  2033-04-20 00:00:00      1624.6         NaN         NaN   \n",
       "\n",
       "    Unnamed: 13  \n",
       "116         NaN  \n",
       "117         NaN  \n",
       "118         NaN  \n",
       "119         NaN  \n",
       "120         NaN  "
      ]
     },
     "execution_count": 5,
     "metadata": {},
     "output_type": "execute_result"
    }
   ],
   "source": [
    "df.tail()"
   ]
  },
  {
   "cell_type": "code",
   "execution_count": 6,
   "id": "685c6588",
   "metadata": {
    "cell_id": "4744dc4d-7076-41fe-8ce4-e4af0317a88b"
   },
   "outputs": [
    {
     "name": "stdout",
     "output_type": "stream",
     "text": [
      "<class 'pandas.core.frame.DataFrame'>\nRangeIndex: 121 entries, 0 to 120\nData columns (total 14 columns):\n #   Column            Non-Null Count  Dtype         \n---  ------            --------------  -----         \n 0   Lender            2 non-null      object        \n 1   Amount            2 non-null      float64       \n 2   Term              2 non-null      float64       \n 3   Rate              2 non-null      float64       \n 4   Payment           2 non-null      float64       \n 5   Origination Date  2 non-null      datetime64[ns]\n 6   Truck             2 non-null      object        \n 7   Unnamed: 7        0 non-null      float64       \n 8   Unnamed: 8        121 non-null    object        \n 9   Unnamed: 9        121 non-null    object        \n 10  Unnamed: 10       121 non-null    object        \n 11  Unnamed: 11       1 non-null      object        \n 12  Unnamed: 12       1 non-null      object        \n 13  Unnamed: 13       1 non-null      object        \ndtypes: datetime64[ns](1), float64(5), object(8)\nmemory usage: 13.4+ KB\n"
     ]
    }
   ],
   "source": [
    "df.info()"
   ]
  },
  {
   "cell_type": "code",
   "execution_count": 7,
   "id": "a315dba1",
   "metadata": {
    "cell_id": "bfde4e3f-4c74-47a8-94bf-8a84cdce2d86"
   },
   "outputs": [
    {
     "data": {
      "text/plain": [
       "([], ['Unnamed: 7'])"
      ]
     },
     "execution_count": 7,
     "metadata": {},
     "output_type": "execute_result"
    }
   ],
   "source": [
    "# Identify blocks separated by empty rows\n",
    "empty_rows = df.isnull().all(axis=1)\n",
    "empty_row_indices = empty_rows[empty_rows].index.tolist()\n",
    "\n",
    "# Look for consecutive empty rows (2+ indicate table boundary)\n",
    "# Empty columns can also indicate horizontal table separation\n",
    "\n",
    "# Check for empty columns\n",
    "empty_columns = df.isnull().all(axis=0)\n",
    "empty_column_indices = empty_columns[empty_columns].index.tolist()\n",
    "\n",
    "empty_row_indices, empty_column_indices"
   ]
  },
  {
   "cell_type": "code",
   "execution_count": 8,
   "id": "a3b1c4b5",
   "metadata": {
    "cell_id": "5f87d394-354b-4d0b-92b6-298d41d1e072"
   },
   "outputs": [
    {
     "data": {
      "text/html": [
       "<div>\n",
       "<style scoped>\n",
       "    .dataframe tbody tr th:only-of-type {\n",
       "        vertical-align: middle;\n",
       "    }\n",
       "\n",
       "    .dataframe tbody tr th {\n",
       "        vertical-align: top;\n",
       "    }\n",
       "\n",
       "    .dataframe thead th {\n",
       "        text-align: right;\n",
       "    }\n",
       "</style>\n",
       "<table border=\"1\" class=\"dataframe\">\n",
       "  <thead>\n",
       "    <tr style=\"text-align: right;\">\n",
       "      <th></th>\n",
       "      <th>Lender</th>\n",
       "      <th>Amount</th>\n",
       "      <th>Term</th>\n",
       "      <th>Rate</th>\n",
       "      <th>Payment</th>\n",
       "      <th>Origination Date</th>\n",
       "      <th>Truck</th>\n",
       "    </tr>\n",
       "  </thead>\n",
       "  <tbody>\n",
       "    <tr>\n",
       "      <th>0</th>\n",
       "      <td>BHG</td>\n",
       "      <td>89395.0</td>\n",
       "      <td>120.0</td>\n",
       "      <td>0.1824</td>\n",
       "      <td>1624.60</td>\n",
       "      <td>2023-04-18</td>\n",
       "      <td>Actros 1</td>\n",
       "    </tr>\n",
       "    <tr>\n",
       "      <th>1</th>\n",
       "      <td>Fidelity 401(k) loan</td>\n",
       "      <td>36000.0</td>\n",
       "      <td>59.0</td>\n",
       "      <td>0.0925</td>\n",
       "      <td>350.63</td>\n",
       "      <td>2023-07-16</td>\n",
       "      <td>Actros 2</td>\n",
       "    </tr>\n",
       "    <tr>\n",
       "      <th>2</th>\n",
       "      <td>NaN</td>\n",
       "      <td>NaN</td>\n",
       "      <td>NaN</td>\n",
       "      <td>NaN</td>\n",
       "      <td>NaN</td>\n",
       "      <td>NaT</td>\n",
       "      <td>NaN</td>\n",
       "    </tr>\n",
       "    <tr>\n",
       "      <th>3</th>\n",
       "      <td>NaN</td>\n",
       "      <td>NaN</td>\n",
       "      <td>NaN</td>\n",
       "      <td>NaN</td>\n",
       "      <td>NaN</td>\n",
       "      <td>NaT</td>\n",
       "      <td>NaN</td>\n",
       "    </tr>\n",
       "    <tr>\n",
       "      <th>4</th>\n",
       "      <td>NaN</td>\n",
       "      <td>NaN</td>\n",
       "      <td>NaN</td>\n",
       "      <td>NaN</td>\n",
       "      <td>NaN</td>\n",
       "      <td>NaT</td>\n",
       "      <td>NaN</td>\n",
       "    </tr>\n",
       "    <tr>\n",
       "      <th>5</th>\n",
       "      <td>NaN</td>\n",
       "      <td>NaN</td>\n",
       "      <td>NaN</td>\n",
       "      <td>NaN</td>\n",
       "      <td>NaN</td>\n",
       "      <td>NaT</td>\n",
       "      <td>NaN</td>\n",
       "    </tr>\n",
       "    <tr>\n",
       "      <th>6</th>\n",
       "      <td>NaN</td>\n",
       "      <td>NaN</td>\n",
       "      <td>NaN</td>\n",
       "      <td>NaN</td>\n",
       "      <td>NaN</td>\n",
       "      <td>NaT</td>\n",
       "      <td>NaN</td>\n",
       "    </tr>\n",
       "    <tr>\n",
       "      <th>7</th>\n",
       "      <td>NaN</td>\n",
       "      <td>NaN</td>\n",
       "      <td>NaN</td>\n",
       "      <td>NaN</td>\n",
       "      <td>NaN</td>\n",
       "      <td>NaT</td>\n",
       "      <td>NaN</td>\n",
       "    </tr>\n",
       "    <tr>\n",
       "      <th>8</th>\n",
       "      <td>NaN</td>\n",
       "      <td>NaN</td>\n",
       "      <td>NaN</td>\n",
       "      <td>NaN</td>\n",
       "      <td>NaN</td>\n",
       "      <td>NaT</td>\n",
       "      <td>NaN</td>\n",
       "    </tr>\n",
       "    <tr>\n",
       "      <th>9</th>\n",
       "      <td>NaN</td>\n",
       "      <td>NaN</td>\n",
       "      <td>NaN</td>\n",
       "      <td>NaN</td>\n",
       "      <td>NaN</td>\n",
       "      <td>NaT</td>\n",
       "      <td>NaN</td>\n",
       "    </tr>\n",
       "  </tbody>\n",
       "</table>\n",
       "</div>"
      ],
      "text/plain": [
       "                 Lender   Amount   Term    Rate  Payment Origination Date  \\\n",
       "0                   BHG  89395.0  120.0  0.1824  1624.60       2023-04-18   \n",
       "1  Fidelity 401(k) loan  36000.0   59.0  0.0925   350.63       2023-07-16   \n",
       "2                   NaN      NaN    NaN     NaN      NaN              NaT   \n",
       "3                   NaN      NaN    NaN     NaN      NaN              NaT   \n",
       "4                   NaN      NaN    NaN     NaN      NaN              NaT   \n",
       "5                   NaN      NaN    NaN     NaN      NaN              NaT   \n",
       "6                   NaN      NaN    NaN     NaN      NaN              NaT   \n",
       "7                   NaN      NaN    NaN     NaN      NaN              NaT   \n",
       "8                   NaN      NaN    NaN     NaN      NaN              NaT   \n",
       "9                   NaN      NaN    NaN     NaN      NaN              NaT   \n",
       "\n",
       "      Truck  \n",
       "0  Actros 1  \n",
       "1  Actros 2  \n",
       "2       NaN  \n",
       "3       NaN  \n",
       "4       NaN  \n",
       "5       NaN  \n",
       "6       NaN  \n",
       "7       NaN  \n",
       "8       NaN  \n",
       "9       NaN  "
      ]
     },
     "execution_count": 8,
     "metadata": {},
     "output_type": "execute_result"
    }
   ],
   "source": [
    "# Analyze ID patterns and column content\n",
    "# Check the first few rows to identify entity types\n",
    "entity_patterns = df.iloc[:, :7].head(10)\n",
    "entity_patterns"
   ]
  },
  {
   "cell_type": "code",
   "execution_count": 9,
   "id": "ce4d8e9e",
   "metadata": {
    "cell_id": "d97adcf5-46b1-4eba-9ff9-0d3b9ab01474"
   },
   "outputs": [
    {
     "name": "stdout",
     "output_type": "stream",
     "text": [
      "No 'detected_tables' variable found - LLM may not have completed detection\n"
     ]
    },
    {
     "data": {
      "text/plain": [
       "[]"
      ]
     },
     "execution_count": 9,
     "metadata": {},
     "output_type": "execute_result"
    }
   ],
   "source": [
    "\n",
    "# Extract detection results created by LLM\n",
    "# The detector should have created a 'detected_tables' variable with the results\n",
    "\n",
    "# Check if the LLM created the expected variable\n",
    "if 'detected_tables' in globals():\n",
    "    # Return the detected tables\n",
    "    detection_results = detected_tables\n",
    "    print(f\"Found {len(detection_results)} tables from LLM detection\")\n",
    "else:\n",
    "    # If no detection was made, return empty list to trigger fallback\n",
    "    print(\"No 'detected_tables' variable found - LLM may not have completed detection\")\n",
    "    detection_results = []\n",
    "\n",
    "detection_results\n"
   ]
  },
  {
   "cell_type": "code",
   "execution_count": 10,
   "id": "a5071b08",
   "metadata": {
    "cell_id": "368554e4-7782-4136-a4e5-4af9ba23d9d6"
   },
   "outputs": [
    {
     "data": {
      "text/plain": [
       "(121, 14)"
      ]
     },
     "execution_count": 10,
     "metadata": {},
     "output_type": "execute_result"
    }
   ],
   "source": [
    "df_shape = df.shape; df_shape"
   ]
  },
  {
   "cell_type": "markdown",
   "id": "c62c5a47",
   "metadata": {},
   "source": [
    "\n",
    "# Table Detection Results\n",
    "\n",
    "Detected 1 tables:\n",
    "\n",
    "\n",
    "## Table 1: Full spreadsheet (fallback)\n",
    "- Location: Rows 0-120, Columns 0-13\n",
    "- Type: detail\n",
    "- Entity: data\n",
    "- Confidence: 0.50\n"
   ]
  }
 ],
 "metadata": {
  "kernelspec": {
   "display_name": "Python 3",
   "name": "python3"
  }
 },
 "nbformat": 4,
 "nbformat_minor": 5
}
