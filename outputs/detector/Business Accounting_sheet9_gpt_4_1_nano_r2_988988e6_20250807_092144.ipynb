{
 "cells": [
  {
   "cell_type": "code",
   "execution_count": 1,
   "id": "66c53df3",
   "metadata": {
    "cell_id": "a43938f7-9ef2-4d9d-aa2c-0dc1e14c8dd1"
   },
   "outputs": [
    {
     "name": "stdout",
     "output_type": "stream",
     "text": [
      "Loaded sheet with shape: (89, 8)\n\nFirst 10 rows:\n        Date                               Description    Amount  Column 1  Category   Tag   Total  -105863.94\n0 2024-04-07  Appraisal - BNKP Property Solutions, LLC   -199.00       EXP       Fee   NaN     NaN         NaN\n1 2024-04-11                              Down deposit -66999.89       EXP       NaN   NaN     NaN         NaN\n2 2024-04-11                         wire transfer fee    -30.00       EXP       Fee   NaN     NaN         NaN\n3 2024-04-30                                M3 Roofing -23500.00       EXP     Rehab   NaN     NaN         NaN\n4 2024-04-30                                   ACH Fee     -5.00       EXP       Fee   NaN     NaN         NaN\n5 2024-05-29                              Wildcat Draw  15487.00      LOAN       NaN   NaN     NaN         NaN\n6 2024-05-29           Inspection Fee for draw request   -125.00       EXP       Fee   NaN     NaN         NaN\n7 2024-05-29                                M3 Roofing  -8550.00       EXP     Rehab   NaN     NaN         NaN\n8 2024-05-29                                Checks fee    -10.00       EXP       Fee   NaN     NaN         NaN\n9 2024-06-01                     Bathroom hardware set    -59.10       EXP     Rehab   NaN     NaN         NaN\n\nLast 5 rows:\n         Date                                     Description   Amount  Column 1  Category   Tag   Total  -105863.94\n84 2024-12-16                                    Utility Bill   -32.49       EXP       NaN   NaN     NaN         NaN\n85 2024-12-16                              AT&T Internet Bill   -80.27       EXP       NaN   NaN     NaN         NaN\n86 2025-01-06                                    Cleaning Fee  -120.00       EXP       NaN   NaN     NaN         NaN\n87 2025-01-07  Nest Aware Plus (Security Camera subscription)   -15.00       EXP       NaN   NaN     NaN         NaN\n88 2025-02-07  Nest Aware Plus (Security Camera subscription)   -15.00       EXP       NaN   NaN     NaN         NaN\n"
     ]
    }
   ],
   "source": [
    "\n",
    "import pandas as pd\n",
    "from pathlib import Path\n",
    "\n",
    "excel_path = Path(r\"/Users/cheickberthe/PycharmProjects/spreadsheet-analyzer/test_assets/collection/business-accounting/Business Accounting.xlsx\")\n",
    "df = pd.read_excel(excel_path, sheet_name=9)\n",
    "print(f\"Loaded sheet with shape: {df.shape}\")\n",
    "\n",
    "# Quick preview for LLM context\n",
    "print(\"\\nFirst 10 rows:\")\n",
    "print(df.head(10).to_string())\n",
    "print(\"\\nLast 5 rows:\")\n",
    "print(df.tail(5).to_string())\n",
    "\n",
    "# Get basic info\n",
    "sheet_name = \"None\"\n",
    "sheet_dimensions = f\"{df.shape[0]} rows x {df.shape[1]} columns\"\n"
   ]
  },
  {
   "cell_type": "code",
   "execution_count": 2,
   "id": "8634d8ec",
   "metadata": {
    "cell_id": "c24dccf7-0ab0-4641-8ce9-ad38a216e152"
   },
   "outputs": [
    {
     "data": {
      "text/plain": [
       "'None'"
      ]
     },
     "execution_count": 2,
     "metadata": {},
     "output_type": "execute_result"
    }
   ],
   "source": [
    "\n",
    "excel_file_name = excel_path.name\n",
    "sheet_dimensions = f\"{df.shape[0]} rows x {df.shape[1]} columns\"\n",
    "sheet_name\n"
   ]
  },
  {
   "cell_type": "code",
   "execution_count": 3,
   "id": "dff5d8f4",
   "metadata": {
    "cell_id": "5ecf834c-3e5a-45de-97c9-5e3543fe836d"
   },
   "outputs": [
    {
     "name": "stdout",
     "output_type": "stream",
     "text": [
      "=== DATA STRUCTURE ANALYSIS ===\nDataFrame shape: (89, 8)\nColumns: ['Date', 'Description', 'Amount', 'Column 1', 'Category', 'Tag', 'Total', -105863.93999999999]\n\n=== FIRST 10 ROWS ===\n        Date                               Description    Amount  Column 1  Category   Tag   Total  -105863.94\n0 2024-04-07  Appraisal - BNKP Property Solutions, LLC   -199.00       EXP       Fee   NaN     NaN         NaN\n1 2024-04-11                              Down deposit -66999.89       EXP       NaN   NaN     NaN         NaN\n2 2024-04-11                         wire transfer fee    -30.00       EXP       Fee   NaN     NaN         NaN\n3 2024-04-30                                M3 Roofing -23500.00       EXP     Rehab   NaN     NaN         NaN\n4 2024-04-30                                   ACH Fee     -5.00       EXP       Fee   NaN     NaN         NaN\n5 2024-05-29                              Wildcat Draw  15487.00      LOAN       NaN   NaN     NaN         NaN\n6 2024-05-29           Inspection Fee for draw request   -125.00       EXP       Fee   NaN     NaN         NaN\n7 2024-05-29                                M3 Roofing  -8550.00       EXP     Rehab   NaN     NaN         NaN\n8 2024-05-29                                Checks fee    -10.00       EXP       Fee   NaN     NaN         NaN\n9 2024-06-01                     Bathroom hardware set    -59.10       EXP     Rehab   NaN     NaN         NaN\n\n=== LAST 5 ROWS ===\n         Date                                     Description   Amount  Column 1  Category   Tag   Total  -105863.94\n84 2024-12-16                                    Utility Bill   -32.49       EXP       NaN   NaN     NaN         NaN\n85 2024-12-16                              AT&T Internet Bill   -80.27       EXP       NaN   NaN     NaN         NaN\n86 2025-01-06                                    Cleaning Fee  -120.00       EXP       NaN   NaN     NaN         NaN\n87 2025-01-07  Nest Aware Plus (Security Camera subscription)   -15.00       EXP       NaN   NaN     NaN         NaN\n88 2025-02-07  Nest Aware Plus (Security Camera subscription)   -15.00       EXP       NaN   NaN     NaN         NaN\n\n=== COLUMN ANALYSIS ===\nColumn 0 ('Date'): 89/89 non-null values\nColumn 1 ('Description'): 89/89 non-null values\nColumn 2 ('Amount'): 89/89 non-null values\nColumn 3 ('Column 1'): 89/89 non-null values\nColumn 4 ('Category'): 74/89 non-null values\nColumn 5 ('Tag'): 0/89 non-null values\nColumn 6 ('Total'): 0/89 non-null values\nColumn 7 ('-105863.93999999999'): 0/89 non-null values\n\n=== EMPTY ROW ANALYSIS ===\nNo completely empty rows found\n\n=== SIDE-BY-SIDE ANALYSIS ===\nLeft section shape: (89, 7)\nRight section shape: (89, 1)\nLeft section non-null density: 0.69\nRight section non-null density: 0.00\n"
     ]
    }
   ],
   "source": [
    "\n",
    "# Table Detection Analysis\n",
    "print(\"=== DATA STRUCTURE ANALYSIS ===\")\n",
    "print(f\"DataFrame shape: {df.shape}\")\n",
    "print(f\"Columns: {list(df.columns)}\")\n",
    "print(\"\\n=== FIRST 10 ROWS ===\")\n",
    "print(df.head(10).to_string())\n",
    "print(\"\\n=== LAST 5 ROWS ===\")\n",
    "print(df.tail(5).to_string())\n",
    "\n",
    "print(\"\\n=== COLUMN ANALYSIS ===\")\n",
    "# Check for empty columns that might separate tables\n",
    "for i, col in enumerate(df.columns):\n",
    "    non_null_count = df[col].notna().sum()\n",
    "    print(f\"Column {i} ('{col}'): {non_null_count}/{len(df)} non-null values\")\n",
    "\n",
    "print(\"\\n=== EMPTY ROW ANALYSIS ===\")\n",
    "# Check for empty rows that might separate tables\n",
    "empty_rows = df.isnull().all(axis=1)\n",
    "if empty_rows.any():\n",
    "    empty_row_indices = empty_rows[empty_rows].index.tolist()\n",
    "    print(f\"Empty rows found at indices: {empty_row_indices[:10]}\")\n",
    "else:\n",
    "    print(\"No completely empty rows found\")\n",
    "\n",
    "print(\"\\n=== SIDE-BY-SIDE ANALYSIS ===\")\n",
    "# Check for potential side-by-side tables by examining column groups\n",
    "left_cols = df.iloc[:, 0:7]  # First 7 columns\n",
    "right_cols = df.iloc[:, 7:]  # Remaining columns\n",
    "print(f\"Left section shape: {left_cols.shape}\")\n",
    "print(f\"Right section shape: {right_cols.shape}\")\n",
    "print(f\"Left section non-null density: {left_cols.notna().sum().sum() / (left_cols.shape[0] * left_cols.shape[1]):.2f}\")\n",
    "print(f\"Right section non-null density: {right_cols.notna().sum().sum() / (right_cols.shape[0] * right_cols.shape[1]):.2f}\")\n"
   ]
  },
  {
   "cell_type": "code",
   "execution_count": 4,
   "id": "32b8f29b",
   "metadata": {
    "cell_id": "f95147a5-dfcc-442b-a6a6-e4748a26d4bf"
   },
   "outputs": [
    {
     "data": {
      "text/plain": [
       "[{'table_id': 'table_1',\n",
       "  'description': 'Financial transactions data',\n",
       "  'start_row': 0,\n",
       "  'end_row': 88,\n",
       "  'start_col': 0,\n",
       "  'end_col': 7,\n",
       "  'confidence': 0.95,\n",
       "  'table_type': 'DETAIL',\n",
       "  'entity_type': 'transactions'}]"
      ]
     },
     "execution_count": 4,
     "metadata": {},
     "output_type": "execute_result"
    }
   ],
   "source": [
    "detected_tables = []\n",
    "\n",
    "# Based on the analysis, the data appears to be a single table with no clear mechanical or side-by-side separation.\n",
    "# The shape is (89, 8), and no empty rows are found, indicating a continuous dataset.\n",
    "# The columns suggest a single structured table with some columns possibly less populated.\n",
    "\n",
    "# Define the main table boundaries:\n",
    "start_row = 0\n",
    "end_row = 88  # zero-indexed, inclusive\n",
    "start_col = 0\n",
    "end_col = 7  # zero-indexed, inclusive\n",
    "\n",
    "detected_tables.append({\n",
    "    \"table_id\": \"table_1\",\n",
    "    \"description\": \"Financial transactions data\",\n",
    "    \"start_row\": start_row,\n",
    "    \"end_row\": end_row,\n",
    "    \"start_col\": start_col,\n",
    "    \"end_col\": end_col,\n",
    "    \"confidence\": 0.95,\n",
    "    \"table_type\": \"DETAIL\",\n",
    "    \"entity_type\": \"transactions\"\n",
    "})\n",
    "\n",
    "# No additional tables detected based on the analysis, so return the list as is.\n",
    "detected_tables"
   ]
  },
  {
   "cell_type": "code",
   "execution_count": 5,
   "id": "c3091c8c",
   "metadata": {
    "cell_id": "8eca8a5d-ed48-494a-a21c-50edd7f19c0d"
   },
   "outputs": [
    {
     "name": "stdout",
     "output_type": "stream",
     "text": [
      "✅ Found 1 tables from LLM detection\n"
     ]
    },
    {
     "data": {
      "text/plain": [
       "[{'table_id': 'table_1',\n",
       "  'description': 'Financial transactions data',\n",
       "  'start_row': 0,\n",
       "  'end_row': 88,\n",
       "  'start_col': 0,\n",
       "  'end_col': 7,\n",
       "  'confidence': 0.95,\n",
       "  'table_type': 'DETAIL',\n",
       "  'entity_type': 'transactions'}]"
      ]
     },
     "execution_count": 5,
     "metadata": {},
     "output_type": "execute_result"
    }
   ],
   "source": [
    "\n",
    "# Extract detection results created by LLM\n",
    "# The detector should have created a 'detected_tables' variable with the results\n",
    "\n",
    "# CLAUDE-TEST-WORKAROUND: Validate that detected_tables exists and is properly formatted\n",
    "if 'detected_tables' in globals():\n",
    "    # Validate it's a list\n",
    "    if isinstance(detected_tables, list):\n",
    "        detection_results = detected_tables\n",
    "        print(f\"✅ Found {len(detection_results)} tables from LLM detection\")\n",
    "        # Validate first table has required fields (if any tables exist)\n",
    "        if detection_results:\n",
    "            required_fields = ['table_id', 'description', 'start_row', 'end_row', 'start_col', 'end_col']\n",
    "            first_table = detection_results[0]\n",
    "            missing_fields = [f for f in required_fields if f not in first_table]\n",
    "            if missing_fields:\n",
    "                print(f\"⚠️ Warning: First table missing fields: {missing_fields}\")\n",
    "    else:\n",
    "        print(f\"❌ Error: detected_tables is not a list, it's a {type(detected_tables)}\")\n",
    "        detection_results = []\n",
    "else:\n",
    "    # CLAUDE-GOTCHA: Gemini sometimes fails to create the variable even after multiple prompts\n",
    "    print(\"❌ No 'detected_tables' variable found - LLM failed to complete detection\")\n",
    "    detection_results = []\n",
    "\n",
    "detection_results\n"
   ]
  },
  {
   "cell_type": "markdown",
   "id": "39c088d0",
   "metadata": {},
   "source": [
    "\n",
    "# Table Detection Results\n",
    "\n",
    "Detected 1 tables:\n",
    "\n",
    "\n",
    "## Table 1: Financial transactions data\n",
    "- Location: Rows 0-88, Columns 0-7\n",
    "- Type: detail\n",
    "- Entity: transactions\n",
    "- Confidence: 0.95\n"
   ]
  }
 ],
 "metadata": {
  "kernelspec": {
   "display_name": "Python 3",
   "name": "python3"
  }
 },
 "nbformat": 4,
 "nbformat_minor": 5
}
