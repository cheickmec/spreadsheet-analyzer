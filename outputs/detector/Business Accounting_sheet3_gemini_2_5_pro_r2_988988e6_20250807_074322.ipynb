{
 "cells": [
  {
   "cell_type": "code",
   "execution_count": 1,
   "id": "f22e8376",
   "metadata": {
    "cell_id": "b0c10476-a590-4cd1-ad03-a629f8604003"
   },
   "outputs": [
    {
     "name": "stdout",
     "output_type": "stream",
     "text": [
      "Loaded sheet with shape: (167, 11)\n\nFirst 10 rows:\n        Date                                       Description  Transaction type   USD Amount   XOF Amount   Column 1   Category   TOTAL REVENUES   2102.62   TOTAL EXPENSES  -32937.32\n0 2024-01-01                              ChatGPT subscription               EXP      -240.00          NaN        NaN        NaN              NaN       NaN              NaN        NaN\n1 2024-01-01                             Apple Cloud (9.99/mo)               EXP      -119.88          NaN        NaN        NaN              NaN       NaN              NaN        NaN\n2 2024-01-01                                Squarespace (6/mo)               EXP       -72.00          NaN        NaN        NaN              NaN       NaN              NaN        NaN\n3 2024-01-03                             Whole cloves for soap               EXP       -30.10          NaN        NaN        NaN              NaN       NaN              NaN        NaN\n4 2024-01-03  3966kg Shea Butter Batch 7 (3010kg left 2/27/25)               EXP     -2617.56          NaN        NaN        NaN              NaN       NaN              NaN        NaN\n5 2024-01-05                          Turmeric Powder for Soap               EXP       -39.50          NaN        NaN        NaN              NaN       NaN              NaN        NaN\n6 2024-01-05                              Shopify subscription               EXP      -357.11          NaN        NaN        NaN              NaN       NaN              NaN        NaN\n7 2024-01-05           Canva Design Photo & Video Subscription               EXP      -128.99          NaN        NaN        NaN              NaN       NaN              NaN        NaN\n8 2024-01-08                                      UPS Shipping               EXP      -381.76          NaN        NaN        NaN              NaN       NaN              NaN        NaN\n9 2024-01-10                                    Shopify Payout               REV        81.73          NaN        NaN        NaN              NaN       NaN              NaN        NaN\n\nLast 5 rows:\n          Date                  Description  Transaction type   USD Amount   XOF Amount   Column 1   Category   TOTAL REVENUES   2102.62   TOTAL EXPENSES  -32937.32\n162 2024-12-16                 UPS Shipping               EXP      -214.49          NaN        NaN        NaN              NaN       NaN              NaN        NaN\n163 2024-12-18          UPS Domestic/Export               EXP        -6.36          NaN        NaN        NaN              NaN       NaN              NaN        NaN\n164 2024-12-20  Credit Card Interest Charge               EXP       -45.29          NaN        NaN        NaN              NaN       NaN              NaN        NaN\n165 2025-01-24      Ndomo - Segou (advance)               EXP       -81.96          NaN        NaN        NaN              NaN       NaN              NaN        NaN\n166 2025-01-27                Ndomo - Segou               EXP      -146.86          NaN        NaN        NaN              NaN       NaN              NaN        NaN\n"
     ]
    },
    {
     "name": "stderr",
     "output_type": "stream",
     "text": [
      "/Users/cheickberthe/PycharmProjects/spreadsheet-analyzer/.venv/lib/python3.12/site-packages/openpyxl/worksheet/_reader.py:329: UserWarning: Data Validation extension is not supported and will be removed\n  warn(msg)\n"
     ]
    }
   ],
   "source": [
    "\n",
    "import pandas as pd\n",
    "from pathlib import Path\n",
    "\n",
    "excel_path = Path(r\"/Users/cheickberthe/PycharmProjects/spreadsheet-analyzer/test_assets/collection/business-accounting/Business Accounting.xlsx\")\n",
    "df = pd.read_excel(excel_path, sheet_name=3)\n",
    "print(f\"Loaded sheet with shape: {df.shape}\")\n",
    "\n",
    "# Quick preview for LLM context\n",
    "print(\"\\nFirst 10 rows:\")\n",
    "print(df.head(10).to_string())\n",
    "print(\"\\nLast 5 rows:\")\n",
    "print(df.tail(5).to_string())\n",
    "\n",
    "# Get basic info\n",
    "sheet_name = \"None\"\n",
    "sheet_dimensions = f\"{df.shape[0]} rows x {df.shape[1]} columns\"\n"
   ]
  },
  {
   "cell_type": "code",
   "execution_count": 2,
   "id": "319ea11d",
   "metadata": {
    "cell_id": "e9a019d1-6f61-403d-9425-60245d2ea44c"
   },
   "outputs": [
    {
     "data": {
      "text/plain": [
       "'None'"
      ]
     },
     "execution_count": 2,
     "metadata": {},
     "output_type": "execute_result"
    }
   ],
   "source": [
    "\n",
    "excel_file_name = excel_path.name\n",
    "sheet_dimensions = f\"{df.shape[0]} rows x {df.shape[1]} columns\"\n",
    "sheet_name\n"
   ]
  },
  {
   "cell_type": "code",
   "execution_count": 3,
   "id": "90652e4a",
   "metadata": {
    "cell_id": "849cedac-bb72-4856-b92d-36eb6b61170d"
   },
   "outputs": [
    {
     "name": "stdout",
     "output_type": "stream",
     "text": [
      "=== DATA STRUCTURE ANALYSIS ===\nDataFrame shape: (167, 11)\nColumns: ['Date', 'Description', 'Transaction type', 'USD Amount', 'XOF Amount', 'Column 1', 'Category', 'TOTAL REVENUES', 2102.62, 'TOTAL EXPENSES', -32937.320000000014]\n\n=== FIRST 10 ROWS ===\n        Date                                       Description  Transaction type   USD Amount   XOF Amount   Column 1   Category   TOTAL REVENUES   2102.62   TOTAL EXPENSES  -32937.32\n0 2024-01-01                              ChatGPT subscription               EXP      -240.00          NaN        NaN        NaN              NaN       NaN              NaN        NaN\n1 2024-01-01                             Apple Cloud (9.99/mo)               EXP      -119.88          NaN        NaN        NaN              NaN       NaN              NaN        NaN\n2 2024-01-01                                Squarespace (6/mo)               EXP       -72.00          NaN        NaN        NaN              NaN       NaN              NaN        NaN\n3 2024-01-03                             Whole cloves for soap               EXP       -30.10          NaN        NaN        NaN              NaN       NaN              NaN        NaN\n4 2024-01-03  3966kg Shea Butter Batch 7 (3010kg left 2/27/25)               EXP     -2617.56          NaN        NaN        NaN              NaN       NaN              NaN        NaN\n5 2024-01-05                          Turmeric Powder for Soap               EXP       -39.50          NaN        NaN        NaN              NaN       NaN              NaN        NaN\n6 2024-01-05                              Shopify subscription               EXP      -357.11          NaN        NaN        NaN              NaN       NaN              NaN        NaN\n7 2024-01-05           Canva Design Photo & Video Subscription               EXP      -128.99          NaN        NaN        NaN              NaN       NaN              NaN        NaN\n8 2024-01-08                                      UPS Shipping               EXP      -381.76          NaN        NaN        NaN              NaN       NaN              NaN        NaN\n9 2024-01-10                                    Shopify Payout               REV        81.73          NaN        NaN        NaN              NaN       NaN              NaN        NaN\n\n=== LAST 5 ROWS ===\n          Date                  Description  Transaction type   USD Amount   XOF Amount   Column 1   Category   TOTAL REVENUES   2102.62   TOTAL EXPENSES  -32937.32\n162 2024-12-16                 UPS Shipping               EXP      -214.49          NaN        NaN        NaN              NaN       NaN              NaN        NaN\n163 2024-12-18          UPS Domestic/Export               EXP        -6.36          NaN        NaN        NaN              NaN       NaN              NaN        NaN\n164 2024-12-20  Credit Card Interest Charge               EXP       -45.29          NaN        NaN        NaN              NaN       NaN              NaN        NaN\n165 2025-01-24      Ndomo - Segou (advance)               EXP       -81.96          NaN        NaN        NaN              NaN       NaN              NaN        NaN\n166 2025-01-27                Ndomo - Segou               EXP      -146.86          NaN        NaN        NaN              NaN       NaN              NaN        NaN\n\n=== COLUMN ANALYSIS ===\nColumn 0 ('Date'): 167/167 non-null values\nColumn 1 ('Description'): 167/167 non-null values\nColumn 2 ('Transaction type'): 167/167 non-null values\nColumn 3 ('USD Amount'): 167/167 non-null values\nColumn 4 ('XOF Amount'): 0/167 non-null values\nColumn 5 ('Column 1'): 0/167 non-null values\nColumn 6 ('Category'): 0/167 non-null values\nColumn 7 ('TOTAL REVENUES'): 0/167 non-null values\nColumn 8 ('2102.62'): 0/167 non-null values\nColumn 9 ('TOTAL EXPENSES'): 0/167 non-null values\nColumn 10 ('-32937.320000000014'): 0/167 non-null values\n\n=== EMPTY ROW ANALYSIS ===\nNo completely empty rows found\n\n=== SIDE-BY-SIDE ANALYSIS ===\nLeft section shape: (167, 7)\nRight section shape: (167, 4)\nLeft section non-null density: 0.57\nRight section non-null density: 0.00\n"
     ]
    }
   ],
   "source": [
    "\n",
    "# Table Detection Analysis\n",
    "print(\"=== DATA STRUCTURE ANALYSIS ===\")\n",
    "print(f\"DataFrame shape: {df.shape}\")\n",
    "print(f\"Columns: {list(df.columns)}\")\n",
    "print(\"\\n=== FIRST 10 ROWS ===\")\n",
    "print(df.head(10).to_string())\n",
    "print(\"\\n=== LAST 5 ROWS ===\")\n",
    "print(df.tail(5).to_string())\n",
    "\n",
    "print(\"\\n=== COLUMN ANALYSIS ===\")\n",
    "# Check for empty columns that might separate tables\n",
    "for i, col in enumerate(df.columns):\n",
    "    non_null_count = df[col].notna().sum()\n",
    "    print(f\"Column {i} ('{col}'): {non_null_count}/{len(df)} non-null values\")\n",
    "\n",
    "print(\"\\n=== EMPTY ROW ANALYSIS ===\")\n",
    "# Check for empty rows that might separate tables\n",
    "empty_rows = df.isnull().all(axis=1)\n",
    "if empty_rows.any():\n",
    "    empty_row_indices = empty_rows[empty_rows].index.tolist()\n",
    "    print(f\"Empty rows found at indices: {empty_row_indices[:10]}\")\n",
    "else:\n",
    "    print(\"No completely empty rows found\")\n",
    "\n",
    "print(\"\\n=== SIDE-BY-SIDE ANALYSIS ===\")\n",
    "# Check for potential side-by-side tables by examining column groups\n",
    "left_cols = df.iloc[:, 0:7]  # First 7 columns\n",
    "right_cols = df.iloc[:, 7:]  # Remaining columns\n",
    "print(f\"Left section shape: {left_cols.shape}\")\n",
    "print(f\"Right section shape: {right_cols.shape}\")\n",
    "print(f\"Left section non-null density: {left_cols.notna().sum().sum() / (left_cols.shape[0] * left_cols.shape[1]):.2f}\")\n",
    "print(f\"Right section non-null density: {right_cols.notna().sum().sum() / (right_cols.shape[0] * right_cols.shape[1]):.2f}\")\n"
   ]
  },
  {
   "cell_type": "code",
   "execution_count": 4,
   "id": "f3c87dcb",
   "metadata": {
    "cell_id": "546fcd8e-b113-4b1d-8826-d6375839ef49"
   },
   "outputs": [
    {
     "name": "stdout",
     "output_type": "stream",
     "text": [
      "No 'detected_tables' variable found - LLM may not have completed detection\n"
     ]
    },
    {
     "data": {
      "text/plain": [
       "[]"
      ]
     },
     "execution_count": 4,
     "metadata": {},
     "output_type": "execute_result"
    }
   ],
   "source": [
    "\n",
    "# Extract detection results created by LLM\n",
    "# The detector should have created a 'detected_tables' variable with the results\n",
    "\n",
    "# Check if the LLM created the expected variable\n",
    "if 'detected_tables' in globals():\n",
    "    # Return the detected tables\n",
    "    detection_results = detected_tables\n",
    "    print(f\"Found {len(detection_results)} tables from LLM detection\")\n",
    "else:\n",
    "    # If no detection was made, return empty list to trigger fallback\n",
    "    print(\"No 'detected_tables' variable found - LLM may not have completed detection\")\n",
    "    detection_results = []\n",
    "\n",
    "detection_results\n"
   ]
  },
  {
   "cell_type": "code",
   "execution_count": 5,
   "id": "2bafa2dc",
   "metadata": {
    "cell_id": "c1fe004c-fb69-4f88-964d-90ba8bfbc6ec"
   },
   "outputs": [
    {
     "data": {
      "text/plain": [
       "(167, 11)"
      ]
     },
     "execution_count": 5,
     "metadata": {},
     "output_type": "execute_result"
    }
   ],
   "source": [
    "df_shape = df.shape; df_shape"
   ]
  },
  {
   "cell_type": "markdown",
   "id": "77c04d17",
   "metadata": {},
   "source": [
    "\n",
    "# Table Detection Results\n",
    "\n",
    "Detected 1 tables:\n",
    "\n",
    "\n",
    "## Table 1: Full spreadsheet (fallback)\n",
    "- Location: Rows 0-166, Columns 0-10\n",
    "- Type: detail\n",
    "- Entity: data\n",
    "- Confidence: 0.50\n"
   ]
  }
 ],
 "metadata": {
  "kernelspec": {
   "display_name": "Python 3",
   "name": "python3"
  }
 },
 "nbformat": 4,
 "nbformat_minor": 5
}
