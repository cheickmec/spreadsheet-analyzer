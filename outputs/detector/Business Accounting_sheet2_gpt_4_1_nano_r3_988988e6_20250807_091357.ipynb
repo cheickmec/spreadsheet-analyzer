{
 "cells": [
  {
   "cell_type": "code",
   "execution_count": 1,
   "id": "c1f8f10a",
   "metadata": {
    "cell_id": "31783c83-ed9a-4bb4-9131-cf33d002a67a"
   },
   "outputs": [
    {
     "name": "stdout",
     "output_type": "stream",
     "text": [
      "Loaded sheet with shape: (121, 14)\n\nFirst 10 rows:\n                 Lender   Amount   Term    Rate  Payment Origination Date     Truck  Unnamed: 7 Unnamed: 8           Unnamed: 9 Unnamed: 10 Unnamed: 11 Unnamed: 12 Unnamed: 13\n0                   BHG  89395.0  120.0  0.1824  1624.60       2023-04-18  Actros 1         NaN  Payment #                 Date      Amount    Interest   Principal     Balance\n1  Fidelity 401(k) loan  36000.0   59.0  0.0925   350.63       2023-07-16  Actros 2         NaN          1  2023-05-20 00:00:00      1624.6         NaN         NaN         NaN\n2                   NaN      NaN    NaN     NaN      NaN              NaT       NaN         NaN          2  2023-06-20 00:00:00      1624.6         NaN         NaN         NaN\n3                   NaN      NaN    NaN     NaN      NaN              NaT       NaN         NaN          3  2023-07-20 00:00:00      1624.6         NaN         NaN         NaN\n4                   NaN      NaN    NaN     NaN      NaN              NaT       NaN         NaN          4  2023-08-20 00:00:00      1624.6         NaN         NaN         NaN\n5                   NaN      NaN    NaN     NaN      NaN              NaT       NaN         NaN          5  2023-09-20 00:00:00      1624.6         NaN         NaN         NaN\n6                   NaN      NaN    NaN     NaN      NaN              NaT       NaN         NaN          6  2023-10-20 00:00:00      1624.6         NaN         NaN         NaN\n7                   NaN      NaN    NaN     NaN      NaN              NaT       NaN         NaN          7  2023-11-20 00:00:00      1624.6         NaN         NaN         NaN\n8                   NaN      NaN    NaN     NaN      NaN              NaT       NaN         NaN          8  2023-12-20 00:00:00      1624.6         NaN         NaN         NaN\n9                   NaN      NaN    NaN     NaN      NaN              NaT       NaN         NaN          9  2024-01-20 00:00:00      1624.6         NaN         NaN         NaN\n\nLast 5 rows:\n    Lender  Amount  Term  Rate  Payment Origination Date Truck  Unnamed: 7 Unnamed: 8           Unnamed: 9 Unnamed: 10 Unnamed: 11 Unnamed: 12 Unnamed: 13\n116    NaN     NaN   NaN   NaN      NaN              NaT   NaN         NaN        116  2032-12-20 00:00:00      1624.6         NaN         NaN         NaN\n117    NaN     NaN   NaN   NaN      NaN              NaT   NaN         NaN        117  2033-01-20 00:00:00      1624.6         NaN         NaN         NaN\n118    NaN     NaN   NaN   NaN      NaN              NaT   NaN         NaN        118  2033-02-20 00:00:00      1624.6         NaN         NaN         NaN\n119    NaN     NaN   NaN   NaN      NaN              NaT   NaN         NaN        119  2033-03-20 00:00:00      1624.6         NaN         NaN         NaN\n120    NaN     NaN   NaN   NaN      NaN              NaT   NaN         NaN        120  2033-04-20 00:00:00      1624.6         NaN         NaN         NaN\n"
     ]
    }
   ],
   "source": [
    "\n",
    "import pandas as pd\n",
    "from pathlib import Path\n",
    "\n",
    "excel_path = Path(r\"/Users/cheickberthe/PycharmProjects/spreadsheet-analyzer/test_assets/collection/business-accounting/Business Accounting.xlsx\")\n",
    "df = pd.read_excel(excel_path, sheet_name=2)\n",
    "print(f\"Loaded sheet with shape: {df.shape}\")\n",
    "\n",
    "# Quick preview for LLM context\n",
    "print(\"\\nFirst 10 rows:\")\n",
    "print(df.head(10).to_string())\n",
    "print(\"\\nLast 5 rows:\")\n",
    "print(df.tail(5).to_string())\n",
    "\n",
    "# Get basic info\n",
    "sheet_name = \"None\"\n",
    "sheet_dimensions = f\"{df.shape[0]} rows x {df.shape[1]} columns\"\n"
   ]
  },
  {
   "cell_type": "code",
   "execution_count": 2,
   "id": "55c5e847",
   "metadata": {
    "cell_id": "e4b34ba2-de3f-45d4-a444-f82ee9957320"
   },
   "outputs": [
    {
     "data": {
      "text/plain": [
       "'None'"
      ]
     },
     "execution_count": 2,
     "metadata": {},
     "output_type": "execute_result"
    }
   ],
   "source": [
    "\n",
    "excel_file_name = excel_path.name\n",
    "sheet_dimensions = f\"{df.shape[0]} rows x {df.shape[1]} columns\"\n",
    "sheet_name\n"
   ]
  },
  {
   "cell_type": "code",
   "execution_count": 3,
   "id": "28050b74",
   "metadata": {
    "cell_id": "3b30ef17-4b0f-43d4-9721-d5b7283ec14b"
   },
   "outputs": [
    {
     "name": "stdout",
     "output_type": "stream",
     "text": [
      "=== DATA STRUCTURE ANALYSIS ===\nDataFrame shape: (121, 14)\nColumns: ['Lender', 'Amount', 'Term', 'Rate', 'Payment', 'Origination Date', 'Truck', 'Unnamed: 7', 'Unnamed: 8', 'Unnamed: 9', 'Unnamed: 10', 'Unnamed: 11', 'Unnamed: 12', 'Unnamed: 13']\n\n=== FIRST 10 ROWS ===\n                 Lender   Amount   Term    Rate  Payment Origination Date     Truck  Unnamed: 7 Unnamed: 8           Unnamed: 9 Unnamed: 10 Unnamed: 11 Unnamed: 12 Unnamed: 13\n0                   BHG  89395.0  120.0  0.1824  1624.60       2023-04-18  Actros 1         NaN  Payment #                 Date      Amount    Interest   Principal     Balance\n1  Fidelity 401(k) loan  36000.0   59.0  0.0925   350.63       2023-07-16  Actros 2         NaN          1  2023-05-20 00:00:00      1624.6         NaN         NaN         NaN\n2                   NaN      NaN    NaN     NaN      NaN              NaT       NaN         NaN          2  2023-06-20 00:00:00      1624.6         NaN         NaN         NaN\n3                   NaN      NaN    NaN     NaN      NaN              NaT       NaN         NaN          3  2023-07-20 00:00:00      1624.6         NaN         NaN         NaN\n4                   NaN      NaN    NaN     NaN      NaN              NaT       NaN         NaN          4  2023-08-20 00:00:00      1624.6         NaN         NaN         NaN\n5                   NaN      NaN    NaN     NaN      NaN              NaT       NaN         NaN          5  2023-09-20 00:00:00      1624.6         NaN         NaN         NaN\n6                   NaN      NaN    NaN     NaN      NaN              NaT       NaN         NaN          6  2023-10-20 00:00:00      1624.6         NaN         NaN         NaN\n7                   NaN      NaN    NaN     NaN      NaN              NaT       NaN         NaN          7  2023-11-20 00:00:00      1624.6         NaN         NaN         NaN\n8                   NaN      NaN    NaN     NaN      NaN              NaT       NaN         NaN          8  2023-12-20 00:00:00      1624.6         NaN         NaN         NaN\n9                   NaN      NaN    NaN     NaN      NaN              NaT       NaN         NaN          9  2024-01-20 00:00:00      1624.6         NaN         NaN         NaN\n\n=== LAST 5 ROWS ===\n    Lender  Amount  Term  Rate  Payment Origination Date Truck  Unnamed: 7 Unnamed: 8           Unnamed: 9 Unnamed: 10 Unnamed: 11 Unnamed: 12 Unnamed: 13\n116    NaN     NaN   NaN   NaN      NaN              NaT   NaN         NaN        116  2032-12-20 00:00:00      1624.6         NaN         NaN         NaN\n117    NaN     NaN   NaN   NaN      NaN              NaT   NaN         NaN        117  2033-01-20 00:00:00      1624.6         NaN         NaN         NaN\n118    NaN     NaN   NaN   NaN      NaN              NaT   NaN         NaN        118  2033-02-20 00:00:00      1624.6         NaN         NaN         NaN\n119    NaN     NaN   NaN   NaN      NaN              NaT   NaN         NaN        119  2033-03-20 00:00:00      1624.6         NaN         NaN         NaN\n120    NaN     NaN   NaN   NaN      NaN              NaT   NaN         NaN        120  2033-04-20 00:00:00      1624.6         NaN         NaN         NaN\n\n=== COLUMN ANALYSIS ===\nColumn 0 ('Lender'): 2/121 non-null values\nColumn 1 ('Amount'): 2/121 non-null values\nColumn 2 ('Term'): 2/121 non-null values\nColumn 3 ('Rate'): 2/121 non-null values\nColumn 4 ('Payment'): 2/121 non-null values\nColumn 5 ('Origination Date'): 2/121 non-null values\nColumn 6 ('Truck'): 2/121 non-null values\nColumn 7 ('Unnamed: 7'): 0/121 non-null values\nColumn 8 ('Unnamed: 8'): 121/121 non-null values\nColumn 9 ('Unnamed: 9'): 121/121 non-null values\nColumn 10 ('Unnamed: 10'): 121/121 non-null values\nColumn 11 ('Unnamed: 11'): 1/121 non-null values\nColumn 12 ('Unnamed: 12'): 1/121 non-null values\nColumn 13 ('Unnamed: 13'): 1/121 non-null values\n\n=== EMPTY ROW ANALYSIS ===\nNo completely empty rows found\n\n=== SIDE-BY-SIDE ANALYSIS ===\nLeft section shape: (121, 7)\nRight section shape: (121, 7)\nLeft section non-null density: 0.02\nRight section non-null density: 0.43\n"
     ]
    }
   ],
   "source": [
    "\n",
    "# Table Detection Analysis\n",
    "print(\"=== DATA STRUCTURE ANALYSIS ===\")\n",
    "print(f\"DataFrame shape: {df.shape}\")\n",
    "print(f\"Columns: {list(df.columns)}\")\n",
    "print(\"\\n=== FIRST 10 ROWS ===\")\n",
    "print(df.head(10).to_string())\n",
    "print(\"\\n=== LAST 5 ROWS ===\")\n",
    "print(df.tail(5).to_string())\n",
    "\n",
    "print(\"\\n=== COLUMN ANALYSIS ===\")\n",
    "# Check for empty columns that might separate tables\n",
    "for i, col in enumerate(df.columns):\n",
    "    non_null_count = df[col].notna().sum()\n",
    "    print(f\"Column {i} ('{col}'): {non_null_count}/{len(df)} non-null values\")\n",
    "\n",
    "print(\"\\n=== EMPTY ROW ANALYSIS ===\")\n",
    "# Check for empty rows that might separate tables\n",
    "empty_rows = df.isnull().all(axis=1)\n",
    "if empty_rows.any():\n",
    "    empty_row_indices = empty_rows[empty_rows].index.tolist()\n",
    "    print(f\"Empty rows found at indices: {empty_row_indices[:10]}\")\n",
    "else:\n",
    "    print(\"No completely empty rows found\")\n",
    "\n",
    "print(\"\\n=== SIDE-BY-SIDE ANALYSIS ===\")\n",
    "# Check for potential side-by-side tables by examining column groups\n",
    "left_cols = df.iloc[:, 0:7]  # First 7 columns\n",
    "right_cols = df.iloc[:, 7:]  # Remaining columns\n",
    "print(f\"Left section shape: {left_cols.shape}\")\n",
    "print(f\"Right section shape: {right_cols.shape}\")\n",
    "print(f\"Left section non-null density: {left_cols.notna().sum().sum() / (left_cols.shape[0] * left_cols.shape[1]):.2f}\")\n",
    "print(f\"Right section non-null density: {right_cols.notna().sum().sum() / (right_cols.shape[0] * right_cols.shape[1]):.2f}\")\n"
   ]
  },
  {
   "cell_type": "code",
   "execution_count": 4,
   "id": "75777baf",
   "metadata": {
    "cell_id": "a8483e2a-bc33-43cc-bcd8-f580bc4ffd5e"
   },
   "outputs": [],
   "source": [
    "detected_tables = []\n",
    "\n",
    "# Based on the analysis, there are two main sections side-by-side:\n",
    "# Left section (columns 0-6): Main loan data\n",
    "# Right section (columns 7-13): Payment schedule details\n",
    "\n",
    "# Detect the main loan data table\n",
    "# It starts at row 0, includes header, and continues until the last non-empty row of the main data\n",
    "# The header is likely at row 0, with data following\n",
    "# The data seems to extend to row 120, with some non-null entries in the first 7 columns\n",
    "\n",
    "# Main loan data table boundaries\n",
    "main_loan_table = {\n",
    "    \"table_id\": \"table_1\",\n",
    "    \"description\": \"Main loan data with lender and loan details\",\n",
    "    \"start_row\": 0,\n",
    "    \"end_row\": 120,\n",
    "    \"start_col\": 0,\n",
    "    \"end_col\": 6,\n",
    "    \"confidence\": 0.9,\n",
    "    \"table_type\": \"DETAIL\",\n",
    "    \"entity_type\": \"loan_details\"\n",
    "}\n",
    "\n",
    "# Payment schedule table boundaries\n",
    "# It appears to be in columns 7-13, starting from row 0, with data from row 1 to 120\n",
    "payment_schedule_table = {\n",
    "    \"table_id\": \"table_2\",\n",
    "    \"description\": \"Payment schedule details\",\n",
    "    \"start_row\": 0,\n",
    "    \"end_row\": 120,\n",
    "    \"start_col\": 7,\n",
    "    \"end_col\": 13,\n",
    "    \"confidence\": 0.9,\n",
    "    \"table_type\": \"DETAIL\",\n",
    "    \"entity_type\": \"payment_schedule\"\n",
    "}\n",
    "\n",
    "detected_tables = [main_loan_table, payment_schedule_table]\n"
   ]
  },
  {
   "cell_type": "code",
   "execution_count": 5,
   "id": "1c43506a",
   "metadata": {
    "cell_id": "bedb92b3-5873-454e-aa57-c711c1e6d012"
   },
   "outputs": [
    {
     "name": "stdout",
     "output_type": "stream",
     "text": [
      "[{'table_id': 'table_1', 'description': 'Main loan data with lender and loan details', 'start_row': 0, 'end_row': 120, 'start_col': 0, 'end_col': 6, 'confidence': 0.9, 'table_type': 'DETAIL', 'entity_type': 'loan_details'}, {'table_id': 'table_2', 'description': 'Payment schedule details', 'start_row': 0, 'end_row': 120, 'start_col': 7, 'end_col': 13, 'confidence': 0.9, 'table_type': 'DETAIL', 'entity_type': 'payment_schedule'}]\n"
     ]
    }
   ],
   "source": [
    "# No additional tables detected, only the side-by-side main data and payment schedule\n",
    "# Confirming the detection\n",
    "print(detected_tables)"
   ]
  },
  {
   "cell_type": "code",
   "execution_count": 6,
   "id": "622703b3",
   "metadata": {
    "cell_id": "09127ab4-69a8-43c8-a618-2fc280837f28"
   },
   "outputs": [
    {
     "name": "stdout",
     "output_type": "stream",
     "text": [
      "✅ Found 2 tables from LLM detection\n"
     ]
    },
    {
     "data": {
      "text/plain": [
       "[{'table_id': 'table_1',\n",
       "  'description': 'Main loan data with lender and loan details',\n",
       "  'start_row': 0,\n",
       "  'end_row': 120,\n",
       "  'start_col': 0,\n",
       "  'end_col': 6,\n",
       "  'confidence': 0.9,\n",
       "  'table_type': 'DETAIL',\n",
       "  'entity_type': 'loan_details'},\n",
       " {'table_id': 'table_2',\n",
       "  'description': 'Payment schedule details',\n",
       "  'start_row': 0,\n",
       "  'end_row': 120,\n",
       "  'start_col': 7,\n",
       "  'end_col': 13,\n",
       "  'confidence': 0.9,\n",
       "  'table_type': 'DETAIL',\n",
       "  'entity_type': 'payment_schedule'}]"
      ]
     },
     "execution_count": 6,
     "metadata": {},
     "output_type": "execute_result"
    }
   ],
   "source": [
    "\n",
    "# Extract detection results created by LLM\n",
    "# The detector should have created a 'detected_tables' variable with the results\n",
    "\n",
    "# CLAUDE-TEST-WORKAROUND: Validate that detected_tables exists and is properly formatted\n",
    "if 'detected_tables' in globals():\n",
    "    # Validate it's a list\n",
    "    if isinstance(detected_tables, list):\n",
    "        detection_results = detected_tables\n",
    "        print(f\"✅ Found {len(detection_results)} tables from LLM detection\")\n",
    "        # Validate first table has required fields (if any tables exist)\n",
    "        if detection_results:\n",
    "            required_fields = ['table_id', 'description', 'start_row', 'end_row', 'start_col', 'end_col']\n",
    "            first_table = detection_results[0]\n",
    "            missing_fields = [f for f in required_fields if f not in first_table]\n",
    "            if missing_fields:\n",
    "                print(f\"⚠️ Warning: First table missing fields: {missing_fields}\")\n",
    "    else:\n",
    "        print(f\"❌ Error: detected_tables is not a list, it's a {type(detected_tables)}\")\n",
    "        detection_results = []\n",
    "else:\n",
    "    # CLAUDE-GOTCHA: Gemini sometimes fails to create the variable even after multiple prompts\n",
    "    print(\"❌ No 'detected_tables' variable found - LLM failed to complete detection\")\n",
    "    detection_results = []\n",
    "\n",
    "detection_results\n"
   ]
  },
  {
   "cell_type": "markdown",
   "id": "50a0163a",
   "metadata": {},
   "source": [
    "\n",
    "# Table Detection Results\n",
    "\n",
    "Detected 2 tables:\n",
    "\n",
    "\n",
    "## Table 1: Main loan data with lender and loan details\n",
    "- Location: Rows 0-120, Columns 0-6\n",
    "- Type: detail\n",
    "- Entity: loan_details\n",
    "- Confidence: 0.90\n",
    "\n",
    "## Table 2: Payment schedule details\n",
    "- Location: Rows 0-120, Columns 7-13\n",
    "- Type: detail\n",
    "- Entity: payment_schedule\n",
    "- Confidence: 0.90\n"
   ]
  }
 ],
 "metadata": {
  "kernelspec": {
   "display_name": "Python 3",
   "name": "python3"
  }
 },
 "nbformat": 4,
 "nbformat_minor": 5
}
