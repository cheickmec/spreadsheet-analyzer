{
 "cells": [
  {
   "cell_type": "code",
   "execution_count": 1,
   "id": "b5752a55",
   "metadata": {
    "cell_id": "241b6d31-0103-464c-aee7-a0796189a68b"
   },
   "outputs": [
    {
     "name": "stdout",
     "output_type": "stream",
     "text": [
      "Loaded sheet with shape: (10, 9)\n\nFirst 10 rows:\n        Date                                   Description   USD Amount  Transaction type   Category   TOTAL REVENUES   0   TOTAL EXPENSES  -2031.63\n0 2025-01-03                  Mali Apartment work - Cement       -43.51               EXP        NaN              NaN NaN              NaN       NaN\n1 2025-01-15            Rebtel International Phone charges        -9.49               EXP        NaN              NaN NaN              NaN       NaN\n2 2025-01-21                  Mali Apartment work - Cement        -8.57               EXP        NaN              NaN NaN              NaN       NaN\n3 2025-01-22  Mali Apartment Work - Tile Install (Kitchen)       -48.78               EXP        NaN              NaN NaN              NaN       NaN\n4 2025-01-23              Aluminum fabricator - Issa Maiga      -424.34               EXP        NaN              NaN NaN              NaN       NaN\n5 2025-01-23  Mali Apartment work - Kitchen Wall Crepisage       -57.75               EXP        NaN              NaN NaN              NaN       NaN\n6 2025-01-23                  Mali Apartment work - Cement       -25.90               EXP        NaN              NaN NaN              NaN       NaN\n7 2025-01-26            Rebtel International Phone charges        -4.99               EXP        NaN              NaN NaN              NaN       NaN\n8 2025-01-14                      Toyota Prado - 4 x tires     -1095.34               EXP        NaN              NaN NaN              NaN       NaN\n9 2025-01-14        Toyota Prado - 4 x rims and spare tire      -312.96               EXP        NaN              NaN NaN              NaN       NaN\n\nLast 5 rows:\n        Date                                   Description   USD Amount  Transaction type   Category   TOTAL REVENUES   0   TOTAL EXPENSES  -2031.63\n5 2025-01-23  Mali Apartment work - Kitchen Wall Crepisage       -57.75               EXP        NaN              NaN NaN              NaN       NaN\n6 2025-01-23                  Mali Apartment work - Cement       -25.90               EXP        NaN              NaN NaN              NaN       NaN\n7 2025-01-26            Rebtel International Phone charges        -4.99               EXP        NaN              NaN NaN              NaN       NaN\n8 2025-01-14                      Toyota Prado - 4 x tires     -1095.34               EXP        NaN              NaN NaN              NaN       NaN\n9 2025-01-14        Toyota Prado - 4 x rims and spare tire      -312.96               EXP        NaN              NaN NaN              NaN       NaN\n"
     ]
    }
   ],
   "source": [
    "\n",
    "import pandas as pd\n",
    "from pathlib import Path\n",
    "\n",
    "excel_path = Path(r\"/Users/cheickberthe/PycharmProjects/spreadsheet-analyzer/test_assets/collection/business-accounting/Business Accounting.xlsx\")\n",
    "df = pd.read_excel(excel_path, sheet_name=0)\n",
    "print(f\"Loaded sheet with shape: {df.shape}\")\n",
    "\n",
    "# Quick preview for LLM context\n",
    "print(\"\\nFirst 10 rows:\")\n",
    "print(df.head(10).to_string())\n",
    "print(\"\\nLast 5 rows:\")\n",
    "print(df.tail(5).to_string())\n",
    "\n",
    "# Get basic info\n",
    "sheet_name = \"None\"\n",
    "sheet_dimensions = f\"{df.shape[0]} rows x {df.shape[1]} columns\"\n"
   ]
  },
  {
   "cell_type": "code",
   "execution_count": 2,
   "id": "cb7a53a8",
   "metadata": {
    "cell_id": "09db084e-f05b-43d2-af88-5e32a275a223"
   },
   "outputs": [
    {
     "data": {
      "text/plain": [
       "'None'"
      ]
     },
     "execution_count": 2,
     "metadata": {},
     "output_type": "execute_result"
    }
   ],
   "source": [
    "\n",
    "excel_file_name = excel_path.name\n",
    "sheet_dimensions = f\"{df.shape[0]} rows x {df.shape[1]} columns\"\n",
    "sheet_name\n"
   ]
  },
  {
   "cell_type": "code",
   "execution_count": 3,
   "id": "0df2e247",
   "metadata": {
    "cell_id": "60c9be2d-f0c3-4c8d-9b60-29ced07782bf"
   },
   "outputs": [
    {
     "name": "stdout",
     "output_type": "stream",
     "text": [
      "=== DATA STRUCTURE ANALYSIS ===\nDataFrame shape: (10, 9)\nColumns: ['Date', 'Description', 'USD Amount', 'Transaction type', 'Category', 'TOTAL REVENUES', 0, 'TOTAL EXPENSES', -2031.6299999999999]\n\n=== FIRST 10 ROWS ===\n        Date                                   Description   USD Amount  Transaction type   Category   TOTAL REVENUES   0   TOTAL EXPENSES  -2031.63\n0 2025-01-03                  Mali Apartment work - Cement       -43.51               EXP        NaN              NaN NaN              NaN       NaN\n1 2025-01-15            Rebtel International Phone charges        -9.49               EXP        NaN              NaN NaN              NaN       NaN\n2 2025-01-21                  Mali Apartment work - Cement        -8.57               EXP        NaN              NaN NaN              NaN       NaN\n3 2025-01-22  Mali Apartment Work - Tile Install (Kitchen)       -48.78               EXP        NaN              NaN NaN              NaN       NaN\n4 2025-01-23              Aluminum fabricator - Issa Maiga      -424.34               EXP        NaN              NaN NaN              NaN       NaN\n5 2025-01-23  Mali Apartment work - Kitchen Wall Crepisage       -57.75               EXP        NaN              NaN NaN              NaN       NaN\n6 2025-01-23                  Mali Apartment work - Cement       -25.90               EXP        NaN              NaN NaN              NaN       NaN\n7 2025-01-26            Rebtel International Phone charges        -4.99               EXP        NaN              NaN NaN              NaN       NaN\n8 2025-01-14                      Toyota Prado - 4 x tires     -1095.34               EXP        NaN              NaN NaN              NaN       NaN\n9 2025-01-14        Toyota Prado - 4 x rims and spare tire      -312.96               EXP        NaN              NaN NaN              NaN       NaN\n\n=== LAST 5 ROWS ===\n        Date                                   Description   USD Amount  Transaction type   Category   TOTAL REVENUES   0   TOTAL EXPENSES  -2031.63\n5 2025-01-23  Mali Apartment work - Kitchen Wall Crepisage       -57.75               EXP        NaN              NaN NaN              NaN       NaN\n6 2025-01-23                  Mali Apartment work - Cement       -25.90               EXP        NaN              NaN NaN              NaN       NaN\n7 2025-01-26            Rebtel International Phone charges        -4.99               EXP        NaN              NaN NaN              NaN       NaN\n8 2025-01-14                      Toyota Prado - 4 x tires     -1095.34               EXP        NaN              NaN NaN              NaN       NaN\n9 2025-01-14        Toyota Prado - 4 x rims and spare tire      -312.96               EXP        NaN              NaN NaN              NaN       NaN\n\n=== COLUMN ANALYSIS ===\nColumn 0 ('Date'): 10/10 non-null values\nColumn 1 ('Description'): 10/10 non-null values\nColumn 2 ('USD Amount'): 10/10 non-null values\nColumn 3 ('Transaction type'): 10/10 non-null values\nColumn 4 ('Category'): 0/10 non-null values\nColumn 5 ('TOTAL REVENUES'): 0/10 non-null values\nColumn 6 ('0'): 0/10 non-null values\nColumn 7 ('TOTAL EXPENSES'): 0/10 non-null values\nColumn 8 ('-2031.6299999999999'): 0/10 non-null values\n\n=== EMPTY ROW ANALYSIS ===\nNo completely empty rows found\n\n=== SIDE-BY-SIDE ANALYSIS ===\nLeft section shape: (10, 7)\nRight section shape: (10, 2)\nLeft section non-null density: 0.57\nRight section non-null density: 0.00\n"
     ]
    }
   ],
   "source": [
    "\n",
    "# Table Detection Analysis\n",
    "print(\"=== DATA STRUCTURE ANALYSIS ===\")\n",
    "print(f\"DataFrame shape: {df.shape}\")\n",
    "print(f\"Columns: {list(df.columns)}\")\n",
    "print(\"\\n=== FIRST 10 ROWS ===\")\n",
    "print(df.head(10).to_string())\n",
    "print(\"\\n=== LAST 5 ROWS ===\")\n",
    "print(df.tail(5).to_string())\n",
    "\n",
    "print(\"\\n=== COLUMN ANALYSIS ===\")\n",
    "# Check for empty columns that might separate tables\n",
    "for i, col in enumerate(df.columns):\n",
    "    non_null_count = df[col].notna().sum()\n",
    "    print(f\"Column {i} ('{col}'): {non_null_count}/{len(df)} non-null values\")\n",
    "\n",
    "print(\"\\n=== EMPTY ROW ANALYSIS ===\")\n",
    "# Check for empty rows that might separate tables\n",
    "empty_rows = df.isnull().all(axis=1)\n",
    "if empty_rows.any():\n",
    "    empty_row_indices = empty_rows[empty_rows].index.tolist()\n",
    "    print(f\"Empty rows found at indices: {empty_row_indices[:10]}\")\n",
    "else:\n",
    "    print(\"No completely empty rows found\")\n",
    "\n",
    "print(\"\\n=== SIDE-BY-SIDE ANALYSIS ===\")\n",
    "# Check for potential side-by-side tables by examining column groups\n",
    "left_cols = df.iloc[:, 0:7]  # First 7 columns\n",
    "right_cols = df.iloc[:, 7:]  # Remaining columns\n",
    "print(f\"Left section shape: {left_cols.shape}\")\n",
    "print(f\"Right section shape: {right_cols.shape}\")\n",
    "print(f\"Left section non-null density: {left_cols.notna().sum().sum() / (left_cols.shape[0] * left_cols.shape[1]):.2f}\")\n",
    "print(f\"Right section non-null density: {right_cols.notna().sum().sum() / (right_cols.shape[0] * right_cols.shape[1]):.2f}\")\n"
   ]
  },
  {
   "cell_type": "code",
   "execution_count": 4,
   "id": "89981cf1",
   "metadata": {
    "cell_id": "6f3537bb-2dc6-45c3-a8fd-b10c68f793b8"
   },
   "outputs": [
    {
     "name": "stdout",
     "output_type": "stream",
     "text": [
      "[{'table_id': 'table_1', 'description': 'Main financial transactions table', 'start_row': 0, 'end_row': 9, 'start_col': 0, 'end_col': 8, 'confidence': 0.95, 'table_type': 'DETAIL', 'entity_type': 'transactions'}]\n"
     ]
    }
   ],
   "source": [
    "detected_tables = []\n",
    "\n",
    "# Main table: Financial transactions\n",
    "# Based on the shape and data, the main table appears to be in the top part of the sheet, covering most of the data.\n",
    "# It spans from row 0 to 9 (all data rows) and columns 0 to 8 (all columns with data).\n",
    "detected_tables.append({\n",
    "    \"table_id\": \"table_1\",\n",
    "    \"description\": \"Main financial transactions table\",\n",
    "    \"start_row\": 0,\n",
    "    \"end_row\": 9,\n",
    "    \"start_col\": 0,\n",
    "    \"end_col\": 8,\n",
    "    \"confidence\": 0.95,\n",
    "    \"table_type\": \"DETAIL\",\n",
    "    \"entity_type\": \"transactions\"\n",
    "})\n",
    "\n",
    "# Second table: Summary or totals section at the bottom, if any\n",
    "# The last 5 rows seem to be a repeat of some data, but no clear separate table boundary is indicated.\n",
    "# Since no distinct empty rows or columns separate another table, and the data appears to be a subset,\n",
    "# we do not identify a new table here.\n",
    "\n",
    "# No other side-by-side or stacked tables are evident from the analysis.\n",
    "\n",
    "# Final list\n",
    "print(detected_tables)"
   ]
  },
  {
   "cell_type": "code",
   "execution_count": 5,
   "id": "6268bb76",
   "metadata": {
    "cell_id": "25834c14-72a4-4302-a4f8-e48675f783a5"
   },
   "outputs": [],
   "source": [
    "# No additional code needed for the second call, as the first call already creates the list."
   ]
  },
  {
   "cell_type": "code",
   "execution_count": 6,
   "id": "8ede9a7b",
   "metadata": {
    "cell_id": "0ef264b3-2e2a-4a1d-b279-886dc05808ed"
   },
   "outputs": [
    {
     "name": "stdout",
     "output_type": "stream",
     "text": [
      "✅ Found 1 tables from LLM detection\n"
     ]
    },
    {
     "data": {
      "text/plain": [
       "[{'table_id': 'table_1',\n",
       "  'description': 'Main financial transactions table',\n",
       "  'start_row': 0,\n",
       "  'end_row': 9,\n",
       "  'start_col': 0,\n",
       "  'end_col': 8,\n",
       "  'confidence': 0.95,\n",
       "  'table_type': 'DETAIL',\n",
       "  'entity_type': 'transactions'}]"
      ]
     },
     "execution_count": 6,
     "metadata": {},
     "output_type": "execute_result"
    }
   ],
   "source": [
    "\n",
    "# Extract detection results created by LLM\n",
    "# The detector should have created a 'detected_tables' variable with the results\n",
    "\n",
    "# CLAUDE-TEST-WORKAROUND: Validate that detected_tables exists and is properly formatted\n",
    "if 'detected_tables' in globals():\n",
    "    # Validate it's a list\n",
    "    if isinstance(detected_tables, list):\n",
    "        detection_results = detected_tables\n",
    "        print(f\"✅ Found {len(detection_results)} tables from LLM detection\")\n",
    "        # Validate first table has required fields (if any tables exist)\n",
    "        if detection_results:\n",
    "            required_fields = ['table_id', 'description', 'start_row', 'end_row', 'start_col', 'end_col']\n",
    "            first_table = detection_results[0]\n",
    "            missing_fields = [f for f in required_fields if f not in first_table]\n",
    "            if missing_fields:\n",
    "                print(f\"⚠️ Warning: First table missing fields: {missing_fields}\")\n",
    "    else:\n",
    "        print(f\"❌ Error: detected_tables is not a list, it's a {type(detected_tables)}\")\n",
    "        detection_results = []\n",
    "else:\n",
    "    # CLAUDE-GOTCHA: Gemini sometimes fails to create the variable even after multiple prompts\n",
    "    print(\"❌ No 'detected_tables' variable found - LLM failed to complete detection\")\n",
    "    detection_results = []\n",
    "\n",
    "detection_results\n"
   ]
  },
  {
   "cell_type": "markdown",
   "id": "bfaac131",
   "metadata": {},
   "source": [
    "\n",
    "# Table Detection Results\n",
    "\n",
    "Detected 1 tables:\n",
    "\n",
    "\n",
    "## Table 1: Main financial transactions table\n",
    "- Location: Rows 0-9, Columns 0-8\n",
    "- Type: detail\n",
    "- Entity: transactions\n",
    "- Confidence: 0.95\n"
   ]
  }
 ],
 "metadata": {
  "kernelspec": {
   "display_name": "Python 3",
   "name": "python3"
  }
 },
 "nbformat": 4,
 "nbformat_minor": 5
}
