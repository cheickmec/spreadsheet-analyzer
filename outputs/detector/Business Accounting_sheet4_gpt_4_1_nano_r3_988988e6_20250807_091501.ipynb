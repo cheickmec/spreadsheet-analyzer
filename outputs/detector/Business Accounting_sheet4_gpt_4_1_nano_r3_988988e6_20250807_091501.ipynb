{
 "cells": [
  {
   "cell_type": "code",
   "execution_count": 1,
   "id": "ec794c26",
   "metadata": {
    "cell_id": "e399d1a7-deb8-47d1-81d3-fad44cd4118f"
   },
   "outputs": [
    {
     "name": "stdout",
     "output_type": "stream",
     "text": [
      "Loaded sheet with shape: (1, 11)\n\nFirst 10 rows:\n   Date                           Description  Transaction type  USD Amount  XOF Amount  Column 1  Category  TOTAL REVENUES   0  TOTAL EXPENSES  0.1\n0   NaN  NC Secretary of State Annual Filings               NaN         NaN         NaN       NaN       NaN             NaN NaN             NaN  NaN\n\nLast 5 rows:\n   Date                           Description  Transaction type  USD Amount  XOF Amount  Column 1  Category  TOTAL REVENUES   0  TOTAL EXPENSES  0.1\n0   NaN  NC Secretary of State Annual Filings               NaN         NaN         NaN       NaN       NaN             NaN NaN             NaN  NaN\n"
     ]
    },
    {
     "name": "stderr",
     "output_type": "stream",
     "text": [
      "/Users/cheickberthe/PycharmProjects/spreadsheet-analyzer/.venv/lib/python3.12/site-packages/openpyxl/worksheet/_reader.py:329: UserWarning: Data Validation extension is not supported and will be removed\n  warn(msg)\n"
     ]
    }
   ],
   "source": [
    "\n",
    "import pandas as pd\n",
    "from pathlib import Path\n",
    "\n",
    "excel_path = Path(r\"/Users/cheickberthe/PycharmProjects/spreadsheet-analyzer/test_assets/collection/business-accounting/Business Accounting.xlsx\")\n",
    "df = pd.read_excel(excel_path, sheet_name=4)\n",
    "print(f\"Loaded sheet with shape: {df.shape}\")\n",
    "\n",
    "# Quick preview for LLM context\n",
    "print(\"\\nFirst 10 rows:\")\n",
    "print(df.head(10).to_string())\n",
    "print(\"\\nLast 5 rows:\")\n",
    "print(df.tail(5).to_string())\n",
    "\n",
    "# Get basic info\n",
    "sheet_name = \"None\"\n",
    "sheet_dimensions = f\"{df.shape[0]} rows x {df.shape[1]} columns\"\n"
   ]
  },
  {
   "cell_type": "code",
   "execution_count": 2,
   "id": "78adb148",
   "metadata": {
    "cell_id": "f303f58d-6db7-4a1c-bed8-7c8f6847b1c1"
   },
   "outputs": [
    {
     "data": {
      "text/plain": [
       "'None'"
      ]
     },
     "execution_count": 2,
     "metadata": {},
     "output_type": "execute_result"
    }
   ],
   "source": [
    "\n",
    "excel_file_name = excel_path.name\n",
    "sheet_dimensions = f\"{df.shape[0]} rows x {df.shape[1]} columns\"\n",
    "sheet_name\n"
   ]
  },
  {
   "cell_type": "code",
   "execution_count": 3,
   "id": "f7610041",
   "metadata": {
    "cell_id": "58b263e1-e199-4ac6-87b0-74caba04da57"
   },
   "outputs": [
    {
     "name": "stdout",
     "output_type": "stream",
     "text": [
      "=== DATA STRUCTURE ANALYSIS ===\nDataFrame shape: (1, 11)\nColumns: ['Date', 'Description', 'Transaction type', 'USD Amount', 'XOF Amount', 'Column 1', 'Category', 'TOTAL REVENUES', 0, 'TOTAL EXPENSES', '0.1']\n\n=== FIRST 10 ROWS ===\n   Date                           Description  Transaction type  USD Amount  XOF Amount  Column 1  Category  TOTAL REVENUES   0  TOTAL EXPENSES  0.1\n0   NaN  NC Secretary of State Annual Filings               NaN         NaN         NaN       NaN       NaN             NaN NaN             NaN  NaN\n\n=== LAST 5 ROWS ===\n   Date                           Description  Transaction type  USD Amount  XOF Amount  Column 1  Category  TOTAL REVENUES   0  TOTAL EXPENSES  0.1\n0   NaN  NC Secretary of State Annual Filings               NaN         NaN         NaN       NaN       NaN             NaN NaN             NaN  NaN\n\n=== COLUMN ANALYSIS ===\nColumn 0 ('Date'): 0/1 non-null values\nColumn 1 ('Description'): 1/1 non-null values\nColumn 2 ('Transaction type'): 0/1 non-null values\nColumn 3 ('USD Amount'): 0/1 non-null values\nColumn 4 ('XOF Amount'): 0/1 non-null values\nColumn 5 ('Column 1'): 0/1 non-null values\nColumn 6 ('Category'): 0/1 non-null values\nColumn 7 ('TOTAL REVENUES'): 0/1 non-null values\nColumn 8 ('0'): 0/1 non-null values\nColumn 9 ('TOTAL EXPENSES'): 0/1 non-null values\nColumn 10 ('0.1'): 0/1 non-null values\n\n=== EMPTY ROW ANALYSIS ===\nNo completely empty rows found\n\n=== SIDE-BY-SIDE ANALYSIS ===\nLeft section shape: (1, 7)\nRight section shape: (1, 4)\nLeft section non-null density: 0.14\nRight section non-null density: 0.00\n"
     ]
    }
   ],
   "source": [
    "\n",
    "# Table Detection Analysis\n",
    "print(\"=== DATA STRUCTURE ANALYSIS ===\")\n",
    "print(f\"DataFrame shape: {df.shape}\")\n",
    "print(f\"Columns: {list(df.columns)}\")\n",
    "print(\"\\n=== FIRST 10 ROWS ===\")\n",
    "print(df.head(10).to_string())\n",
    "print(\"\\n=== LAST 5 ROWS ===\")\n",
    "print(df.tail(5).to_string())\n",
    "\n",
    "print(\"\\n=== COLUMN ANALYSIS ===\")\n",
    "# Check for empty columns that might separate tables\n",
    "for i, col in enumerate(df.columns):\n",
    "    non_null_count = df[col].notna().sum()\n",
    "    print(f\"Column {i} ('{col}'): {non_null_count}/{len(df)} non-null values\")\n",
    "\n",
    "print(\"\\n=== EMPTY ROW ANALYSIS ===\")\n",
    "# Check for empty rows that might separate tables\n",
    "empty_rows = df.isnull().all(axis=1)\n",
    "if empty_rows.any():\n",
    "    empty_row_indices = empty_rows[empty_rows].index.tolist()\n",
    "    print(f\"Empty rows found at indices: {empty_row_indices[:10]}\")\n",
    "else:\n",
    "    print(\"No completely empty rows found\")\n",
    "\n",
    "print(\"\\n=== SIDE-BY-SIDE ANALYSIS ===\")\n",
    "# Check for potential side-by-side tables by examining column groups\n",
    "left_cols = df.iloc[:, 0:7]  # First 7 columns\n",
    "right_cols = df.iloc[:, 7:]  # Remaining columns\n",
    "print(f\"Left section shape: {left_cols.shape}\")\n",
    "print(f\"Right section shape: {right_cols.shape}\")\n",
    "print(f\"Left section non-null density: {left_cols.notna().sum().sum() / (left_cols.shape[0] * left_cols.shape[1]):.2f}\")\n",
    "print(f\"Right section non-null density: {right_cols.notna().sum().sum() / (right_cols.shape[0] * right_cols.shape[1]):.2f}\")\n"
   ]
  },
  {
   "cell_type": "code",
   "execution_count": 4,
   "id": "a904cd46",
   "metadata": {
    "cell_id": "ec3f7038-b2ee-49f9-9dd2-f2fae96b5efa"
   },
   "outputs": [],
   "source": [
    "detected_tables = []\n",
    "\n",
    "# Given the data structure and analysis, it appears there is a primary table occupying columns 0-6 (indices 0-6) with data likely related to transactions.\n",
    "# The right section (columns 7-10) seems to be a separate entity, possibly summary or additional details.\n",
    "# Since the shape is (1, 11), and no empty rows are found, the data is very limited.\n",
    "\n",
    "# Main table in columns 0-6, likely starting from row 0 to the last non-null row\n",
    "# The second section in columns 7-10 appears to be a separate table, but with only one row, it might be a header or a small table.\n",
    "\n",
    "# Define main table boundaries\n",
    "main_table = {\n",
    "    \"start_row\": 0,\n",
    "    \"end_row\": 0,  # Only one row of data, but considering header, include row 0\n",
    "    \"start_col\": 0,\n",
    "    \"end_col\": 6,\n",
    "    \"description\": \"Main transaction data with dates, descriptions, amounts, categories\",\n",
    "    \"entity_type\": \"transactions\",\n",
    "    \"confidence\": 0.8,\n",
    "    \"table_type\": \"DETAIL\"\n",
    "}\n",
    "\n",
    "# Define secondary table in columns 7-10, only one row, possibly a summary or related info\n",
    "secondary_table = {\n",
    "    \"start_row\": 0,\n",
    "    \"end_row\": 0,\n",
    "    \"start_col\": 7,\n",
    "    \"end_col\": 10,\n",
    "    \"description\": \"Summary or additional details\",\n",
    "    \"entity_type\": \"summary\",\n",
    "    \"confidence\": 0.6,\n",
    "    \"table_type\": \"SUMMARY\"\n",
    "}\n",
    "\n",
    "# Add to detected_tables list\n",
    "detected_tables = [main_table, secondary_table]\n",
    "\n"
   ]
  },
  {
   "cell_type": "code",
   "execution_count": 5,
   "id": "1c50f939",
   "metadata": {
    "cell_id": "7aabc6e9-0b48-4be1-a4f9-064fd9a0b6da"
   },
   "outputs": [
    {
     "name": "stdout",
     "output_type": "stream",
     "text": [
      "✅ Found 2 tables from LLM detection\n⚠️ Warning: First table missing fields: ['table_id']\n"
     ]
    },
    {
     "data": {
      "text/plain": [
       "[{'start_row': 0,\n",
       "  'end_row': 0,\n",
       "  'start_col': 0,\n",
       "  'end_col': 6,\n",
       "  'description': 'Main transaction data with dates, descriptions, amounts, categories',\n",
       "  'entity_type': 'transactions',\n",
       "  'confidence': 0.8,\n",
       "  'table_type': 'DETAIL'},\n",
       " {'start_row': 0,\n",
       "  'end_row': 0,\n",
       "  'start_col': 7,\n",
       "  'end_col': 10,\n",
       "  'description': 'Summary or additional details',\n",
       "  'entity_type': 'summary',\n",
       "  'confidence': 0.6,\n",
       "  'table_type': 'SUMMARY'}]"
      ]
     },
     "execution_count": 5,
     "metadata": {},
     "output_type": "execute_result"
    }
   ],
   "source": [
    "\n",
    "# Extract detection results created by LLM\n",
    "# The detector should have created a 'detected_tables' variable with the results\n",
    "\n",
    "# CLAUDE-TEST-WORKAROUND: Validate that detected_tables exists and is properly formatted\n",
    "if 'detected_tables' in globals():\n",
    "    # Validate it's a list\n",
    "    if isinstance(detected_tables, list):\n",
    "        detection_results = detected_tables\n",
    "        print(f\"✅ Found {len(detection_results)} tables from LLM detection\")\n",
    "        # Validate first table has required fields (if any tables exist)\n",
    "        if detection_results:\n",
    "            required_fields = ['table_id', 'description', 'start_row', 'end_row', 'start_col', 'end_col']\n",
    "            first_table = detection_results[0]\n",
    "            missing_fields = [f for f in required_fields if f not in first_table]\n",
    "            if missing_fields:\n",
    "                print(f\"⚠️ Warning: First table missing fields: {missing_fields}\")\n",
    "    else:\n",
    "        print(f\"❌ Error: detected_tables is not a list, it's a {type(detected_tables)}\")\n",
    "        detection_results = []\n",
    "else:\n",
    "    # CLAUDE-GOTCHA: Gemini sometimes fails to create the variable even after multiple prompts\n",
    "    print(\"❌ No 'detected_tables' variable found - LLM failed to complete detection\")\n",
    "    detection_results = []\n",
    "\n",
    "detection_results\n"
   ]
  },
  {
   "cell_type": "markdown",
   "id": "07a39a95",
   "metadata": {},
   "source": [
    "\n",
    "# Table Detection Results\n",
    "\n",
    "Detected 2 tables:\n",
    "\n",
    "\n",
    "## Table 1: Main transaction data with dates, descriptions, amounts, categories\n",
    "- Location: Rows 0-0, Columns 0-6\n",
    "- Type: detail\n",
    "- Entity: transactions\n",
    "- Confidence: 0.80\n",
    "\n",
    "## Table 2: Summary or additional details\n",
    "- Location: Rows 0-0, Columns 7-10\n",
    "- Type: summary\n",
    "- Entity: summary\n",
    "- Confidence: 0.60\n"
   ]
  }
 ],
 "metadata": {
  "kernelspec": {
   "display_name": "Python 3",
   "name": "python3"
  }
 },
 "nbformat": 4,
 "nbformat_minor": 5
}
