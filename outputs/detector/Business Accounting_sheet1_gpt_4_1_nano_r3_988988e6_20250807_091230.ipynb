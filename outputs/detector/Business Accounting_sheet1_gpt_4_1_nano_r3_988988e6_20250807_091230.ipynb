{
 "cells": [
  {
   "cell_type": "code",
   "execution_count": 1,
   "id": "147a1b23",
   "metadata": {
    "cell_id": "51a94ad2-83e6-4a71-b9ff-8fc5ddbc5b5f"
   },
   "outputs": [
    {
     "name": "stdout",
     "output_type": "stream",
     "text": [
      "Loaded sheet with shape: (769, 11)\n\nFirst 10 rows:\n        Date                           Description  Transaction type   USD Amount     XOF Amount   Unnamed: 5              Category   TOTAL REVENUES   84202.53   TOTAL EXPENSES  -385526.333434\n0 2023-01-03                        iCloud Storage               EXP        -9.99   -6214.329474   622.055002                   NaN              NaN        NaN              NaN             NaN\n1 2023-01-03                   Amazon web services               EXP      -284.83 -177179.926325   622.055002                   NaN              NaN        NaN              NaN             NaN\n2 2023-01-03                Diesel for return trip               EXP      -526.48    -327,500CFA          NaN                  Fuel              NaN        NaN              NaN             NaN\n3 2023-01-03                         Road expenses               EXP      -120.57     -75,000CFA          NaN             Toll Fees              NaN        NaN              NaN             NaN\n4 2023-01-03                  Technical Inspection               EXP       -80.38     -50,000CFA          NaN       Regulatory Fees              NaN        NaN              NaN             NaN\n5 2023-01-03                 2 x Shell oil bottles               EXP      -176.83    -110,000CFA          NaN  Maintenance Supplies              NaN        NaN              NaN             NaN\n6 2023-01-03                    3 x oil cartridges               EXP       -48.23     -30,000CFA          NaN  Maintenance Supplies              NaN        NaN              NaN             NaN\n7 2023-01-03  Discount on oil bottle and cartridge               REV        16.08      10,000CFA          NaN  Discount on Supplies              NaN        NaN              NaN             NaN\n8 2023-01-03                          Travel bonus               EXP       -24.11     -15,000CFA          NaN               Bonuses              NaN        NaN              NaN             NaN\n9 2023-01-03           Issiaka Diallo debt payment               EXP       -80.38     -50,000CFA          NaN       Debt Repayments              NaN        NaN              NaN             NaN\n\nLast 5 rows:\n          Date                        Description  Transaction type   USD Amount    XOF Amount   Unnamed: 5         Category   TOTAL REVENUES   84202.53   TOTAL EXPENSES  -385526.333434\n764 2023-12-31  NY Doordash dinner - Woke Noodles               EXP       -57.77 -34293.788136   593.626244              NaN              NaN        NaN              NaN             NaN\n765 2023-12-31               JFK Cart rental fees               EXP        -6.53  -3876.379376   593.626244              NaN              NaN        NaN              NaN             NaN\n766 2023-12-31      Purchase of Mercedes SK Truck               EXP     -7580.53           NaN          NaN   Truck Purchase              NaN        NaN              NaN             NaN\n767 2023-12-31               Yaya December salary               EXP      -168.46           NaN          NaN  Salary Payments              NaN        NaN              NaN             NaN\n768 2023-12-31               2 x 150Amp batteries               EXP      -286.38           NaN          NaN     Repair Parts              NaN        NaN              NaN             NaN\n"
     ]
    }
   ],
   "source": [
    "\n",
    "import pandas as pd\n",
    "from pathlib import Path\n",
    "\n",
    "excel_path = Path(r\"/Users/cheickberthe/PycharmProjects/spreadsheet-analyzer/test_assets/collection/business-accounting/Business Accounting.xlsx\")\n",
    "df = pd.read_excel(excel_path, sheet_name=1)\n",
    "print(f\"Loaded sheet with shape: {df.shape}\")\n",
    "\n",
    "# Quick preview for LLM context\n",
    "print(\"\\nFirst 10 rows:\")\n",
    "print(df.head(10).to_string())\n",
    "print(\"\\nLast 5 rows:\")\n",
    "print(df.tail(5).to_string())\n",
    "\n",
    "# Get basic info\n",
    "sheet_name = \"None\"\n",
    "sheet_dimensions = f\"{df.shape[0]} rows x {df.shape[1]} columns\"\n"
   ]
  },
  {
   "cell_type": "code",
   "execution_count": 2,
   "id": "6827c904",
   "metadata": {
    "cell_id": "f74f41f9-068b-4d50-ba73-6d2ee4291b5b"
   },
   "outputs": [
    {
     "data": {
      "text/plain": [
       "'None'"
      ]
     },
     "execution_count": 2,
     "metadata": {},
     "output_type": "execute_result"
    }
   ],
   "source": [
    "\n",
    "excel_file_name = excel_path.name\n",
    "sheet_dimensions = f\"{df.shape[0]} rows x {df.shape[1]} columns\"\n",
    "sheet_name\n"
   ]
  },
  {
   "cell_type": "code",
   "execution_count": 3,
   "id": "596f1224",
   "metadata": {
    "cell_id": "5a185682-7800-403e-be4c-f783c4439f61"
   },
   "outputs": [
    {
     "name": "stdout",
     "output_type": "stream",
     "text": [
      "=== DATA STRUCTURE ANALYSIS ===\nDataFrame shape: (769, 11)\nColumns: ['Date', 'Description', 'Transaction type', 'USD Amount', 'XOF Amount', 'Unnamed: 5', 'Category', 'TOTAL REVENUES', 84202.53000000001, 'TOTAL EXPENSES', -385526.33343393693]\n\n=== FIRST 10 ROWS ===\n        Date                           Description  Transaction type   USD Amount     XOF Amount   Unnamed: 5              Category   TOTAL REVENUES   84202.53   TOTAL EXPENSES  -385526.333434\n0 2023-01-03                        iCloud Storage               EXP        -9.99   -6214.329474   622.055002                   NaN              NaN        NaN              NaN             NaN\n1 2023-01-03                   Amazon web services               EXP      -284.83 -177179.926325   622.055002                   NaN              NaN        NaN              NaN             NaN\n2 2023-01-03                Diesel for return trip               EXP      -526.48    -327,500CFA          NaN                  Fuel              NaN        NaN              NaN             NaN\n3 2023-01-03                         Road expenses               EXP      -120.57     -75,000CFA          NaN             Toll Fees              NaN        NaN              NaN             NaN\n4 2023-01-03                  Technical Inspection               EXP       -80.38     -50,000CFA          NaN       Regulatory Fees              NaN        NaN              NaN             NaN\n5 2023-01-03                 2 x Shell oil bottles               EXP      -176.83    -110,000CFA          NaN  Maintenance Supplies              NaN        NaN              NaN             NaN\n6 2023-01-03                    3 x oil cartridges               EXP       -48.23     -30,000CFA          NaN  Maintenance Supplies              NaN        NaN              NaN             NaN\n7 2023-01-03  Discount on oil bottle and cartridge               REV        16.08      10,000CFA          NaN  Discount on Supplies              NaN        NaN              NaN             NaN\n8 2023-01-03                          Travel bonus               EXP       -24.11     -15,000CFA          NaN               Bonuses              NaN        NaN              NaN             NaN\n9 2023-01-03           Issiaka Diallo debt payment               EXP       -80.38     -50,000CFA          NaN       Debt Repayments              NaN        NaN              NaN             NaN\n\n=== LAST 5 ROWS ===\n          Date                        Description  Transaction type   USD Amount    XOF Amount   Unnamed: 5         Category   TOTAL REVENUES   84202.53   TOTAL EXPENSES  -385526.333434\n764 2023-12-31  NY Doordash dinner - Woke Noodles               EXP       -57.77 -34293.788136   593.626244              NaN              NaN        NaN              NaN             NaN\n765 2023-12-31               JFK Cart rental fees               EXP        -6.53  -3876.379376   593.626244              NaN              NaN        NaN              NaN             NaN\n766 2023-12-31      Purchase of Mercedes SK Truck               EXP     -7580.53           NaN          NaN   Truck Purchase              NaN        NaN              NaN             NaN\n767 2023-12-31               Yaya December salary               EXP      -168.46           NaN          NaN  Salary Payments              NaN        NaN              NaN             NaN\n768 2023-12-31               2 x 150Amp batteries               EXP      -286.38           NaN          NaN     Repair Parts              NaN        NaN              NaN             NaN\n\n=== COLUMN ANALYSIS ===\nColumn 0 ('Date'): 769/769 non-null values\nColumn 1 ('Description'): 769/769 non-null values\nColumn 2 ('Transaction type'): 769/769 non-null values\nColumn 3 ('USD Amount'): 769/769 non-null values\nColumn 4 ('XOF Amount'): 698/769 non-null values\nColumn 5 ('Unnamed: 5'): 264/769 non-null values\nColumn 6 ('Category'): 477/769 non-null values\nColumn 7 ('TOTAL REVENUES'): 0/769 non-null values\nColumn 8 ('84202.53000000001'): 0/769 non-null values\nColumn 9 ('TOTAL EXPENSES'): 0/769 non-null values\nColumn 10 ('-385526.33343393693'): 0/769 non-null values\n\n=== EMPTY ROW ANALYSIS ===\nNo completely empty rows found\n\n=== SIDE-BY-SIDE ANALYSIS ===\nLeft section shape: (769, 7)\nRight section shape: (769, 4)\nLeft section non-null density: 0.84\nRight section non-null density: 0.00\n"
     ]
    }
   ],
   "source": [
    "\n",
    "# Table Detection Analysis\n",
    "print(\"=== DATA STRUCTURE ANALYSIS ===\")\n",
    "print(f\"DataFrame shape: {df.shape}\")\n",
    "print(f\"Columns: {list(df.columns)}\")\n",
    "print(\"\\n=== FIRST 10 ROWS ===\")\n",
    "print(df.head(10).to_string())\n",
    "print(\"\\n=== LAST 5 ROWS ===\")\n",
    "print(df.tail(5).to_string())\n",
    "\n",
    "print(\"\\n=== COLUMN ANALYSIS ===\")\n",
    "# Check for empty columns that might separate tables\n",
    "for i, col in enumerate(df.columns):\n",
    "    non_null_count = df[col].notna().sum()\n",
    "    print(f\"Column {i} ('{col}'): {non_null_count}/{len(df)} non-null values\")\n",
    "\n",
    "print(\"\\n=== EMPTY ROW ANALYSIS ===\")\n",
    "# Check for empty rows that might separate tables\n",
    "empty_rows = df.isnull().all(axis=1)\n",
    "if empty_rows.any():\n",
    "    empty_row_indices = empty_rows[empty_rows].index.tolist()\n",
    "    print(f\"Empty rows found at indices: {empty_row_indices[:10]}\")\n",
    "else:\n",
    "    print(\"No completely empty rows found\")\n",
    "\n",
    "print(\"\\n=== SIDE-BY-SIDE ANALYSIS ===\")\n",
    "# Check for potential side-by-side tables by examining column groups\n",
    "left_cols = df.iloc[:, 0:7]  # First 7 columns\n",
    "right_cols = df.iloc[:, 7:]  # Remaining columns\n",
    "print(f\"Left section shape: {left_cols.shape}\")\n",
    "print(f\"Right section shape: {right_cols.shape}\")\n",
    "print(f\"Left section non-null density: {left_cols.notna().sum().sum() / (left_cols.shape[0] * left_cols.shape[1]):.2f}\")\n",
    "print(f\"Right section non-null density: {right_cols.notna().sum().sum() / (right_cols.shape[0] * right_cols.shape[1]):.2f}\")\n"
   ]
  },
  {
   "cell_type": "code",
   "execution_count": 4,
   "id": "87fb2ebb",
   "metadata": {
    "cell_id": "b941930a-c1f6-46c9-aaae-146247a73973"
   },
   "outputs": [],
   "source": [
    "detected_tables = []\n",
    "\n",
    "# Based on the analysis, the main data appears to be a single table spanning from row 0 to 768 and columns 0 to 10.\n",
    "# The side-by-side analysis indicates a clear separation between two sections: left (columns 0-6) and right (columns 7-10).\n",
    "# The left section contains detailed transaction data, while the right section appears to be summary or additional info, but with no non-null data.\n",
    "\n",
    "# Main transaction table\n",
    "detected_tables.append({\n",
    "    \"table_id\": \"table_1\",\n",
    "    \"description\": \"Main transaction data with detailed records\",\n",
    "    \"start_row\": 0,\n",
    "    \"end_row\": 768,\n",
    "    \"start_col\": 0,\n",
    "    \"end_col\": 10,\n",
    "    \"confidence\": 0.95,\n",
    "    \"table_type\": \"DETAIL\",\n",
    "    \"entity_type\": \"transactions\"\n",
    "})\n",
    "\n",
    "# No other distinct tables are clearly identified from the side-by-side analysis or headers.\n",
    "# The right section (columns 7-10) has no data, indicating it might be part of the main table or empty.\n",
    "\n",
    "# If there were headers or other tables, they would be identified here.\n",
    "\n",
    "# Final list\n",
    "detected_tables = detected_tables"
   ]
  },
  {
   "cell_type": "code",
   "execution_count": 5,
   "id": "5452f17e",
   "metadata": {
    "cell_id": "f13437eb-1eba-45db-adf6-11aaff65a3d2"
   },
   "outputs": [
    {
     "name": "stdout",
     "output_type": "stream",
     "text": [
      "✅ Found 1 tables from LLM detection\n"
     ]
    },
    {
     "data": {
      "text/plain": [
       "[{'table_id': 'table_1',\n",
       "  'description': 'Main transaction data with detailed records',\n",
       "  'start_row': 0,\n",
       "  'end_row': 768,\n",
       "  'start_col': 0,\n",
       "  'end_col': 10,\n",
       "  'confidence': 0.95,\n",
       "  'table_type': 'DETAIL',\n",
       "  'entity_type': 'transactions'}]"
      ]
     },
     "execution_count": 5,
     "metadata": {},
     "output_type": "execute_result"
    }
   ],
   "source": [
    "\n",
    "# Extract detection results created by LLM\n",
    "# The detector should have created a 'detected_tables' variable with the results\n",
    "\n",
    "# CLAUDE-TEST-WORKAROUND: Validate that detected_tables exists and is properly formatted\n",
    "if 'detected_tables' in globals():\n",
    "    # Validate it's a list\n",
    "    if isinstance(detected_tables, list):\n",
    "        detection_results = detected_tables\n",
    "        print(f\"✅ Found {len(detection_results)} tables from LLM detection\")\n",
    "        # Validate first table has required fields (if any tables exist)\n",
    "        if detection_results:\n",
    "            required_fields = ['table_id', 'description', 'start_row', 'end_row', 'start_col', 'end_col']\n",
    "            first_table = detection_results[0]\n",
    "            missing_fields = [f for f in required_fields if f not in first_table]\n",
    "            if missing_fields:\n",
    "                print(f\"⚠️ Warning: First table missing fields: {missing_fields}\")\n",
    "    else:\n",
    "        print(f\"❌ Error: detected_tables is not a list, it's a {type(detected_tables)}\")\n",
    "        detection_results = []\n",
    "else:\n",
    "    # CLAUDE-GOTCHA: Gemini sometimes fails to create the variable even after multiple prompts\n",
    "    print(\"❌ No 'detected_tables' variable found - LLM failed to complete detection\")\n",
    "    detection_results = []\n",
    "\n",
    "detection_results\n"
   ]
  },
  {
   "cell_type": "markdown",
   "id": "b71e5fd7",
   "metadata": {},
   "source": [
    "\n",
    "# Table Detection Results\n",
    "\n",
    "Detected 1 tables:\n",
    "\n",
    "\n",
    "## Table 1: Main transaction data with detailed records\n",
    "- Location: Rows 0-768, Columns 0-10\n",
    "- Type: detail\n",
    "- Entity: transactions\n",
    "- Confidence: 0.95\n"
   ]
  }
 ],
 "metadata": {
  "kernelspec": {
   "display_name": "Python 3",
   "name": "python3"
  }
 },
 "nbformat": 4,
 "nbformat_minor": 5
}
