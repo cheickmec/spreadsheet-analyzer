{
 "cells": [
  {
   "cell_type": "code",
   "execution_count": 1,
   "id": "ea637b60",
   "metadata": {
    "cell_id": "7ac3a317-d534-4db9-9009-d5105e137675"
   },
   "outputs": [
    {
     "name": "stdout",
     "output_type": "stream",
     "text": [
      "Loaded sheet with shape: (10, 9)\n\nFirst 10 rows:\n        Date                                   Description   USD Amount  Transaction type   Category   TOTAL REVENUES   0   TOTAL EXPENSES  -2031.63\n0 2025-01-03                  Mali Apartment work - Cement       -43.51               EXP        NaN              NaN NaN              NaN       NaN\n1 2025-01-15            Rebtel International Phone charges        -9.49               EXP        NaN              NaN NaN              NaN       NaN\n2 2025-01-21                  Mali Apartment work - Cement        -8.57               EXP        NaN              NaN NaN              NaN       NaN\n3 2025-01-22  Mali Apartment Work - Tile Install (Kitchen)       -48.78               EXP        NaN              NaN NaN              NaN       NaN\n4 2025-01-23              Aluminum fabricator - Issa Maiga      -424.34               EXP        NaN              NaN NaN              NaN       NaN\n5 2025-01-23  Mali Apartment work - Kitchen Wall Crepisage       -57.75               EXP        NaN              NaN NaN              NaN       NaN\n6 2025-01-23                  Mali Apartment work - Cement       -25.90               EXP        NaN              NaN NaN              NaN       NaN\n7 2025-01-26            Rebtel International Phone charges        -4.99               EXP        NaN              NaN NaN              NaN       NaN\n8 2025-01-14                      Toyota Prado - 4 x tires     -1095.34               EXP        NaN              NaN NaN              NaN       NaN\n9 2025-01-14        Toyota Prado - 4 x rims and spare tire      -312.96               EXP        NaN              NaN NaN              NaN       NaN\n\nLast 5 rows:\n        Date                                   Description   USD Amount  Transaction type   Category   TOTAL REVENUES   0   TOTAL EXPENSES  -2031.63\n5 2025-01-23  Mali Apartment work - Kitchen Wall Crepisage       -57.75               EXP        NaN              NaN NaN              NaN       NaN\n6 2025-01-23                  Mali Apartment work - Cement       -25.90               EXP        NaN              NaN NaN              NaN       NaN\n7 2025-01-26            Rebtel International Phone charges        -4.99               EXP        NaN              NaN NaN              NaN       NaN\n8 2025-01-14                      Toyota Prado - 4 x tires     -1095.34               EXP        NaN              NaN NaN              NaN       NaN\n9 2025-01-14        Toyota Prado - 4 x rims and spare tire      -312.96               EXP        NaN              NaN NaN              NaN       NaN\n"
     ]
    }
   ],
   "source": [
    "\n",
    "import pandas as pd\n",
    "from pathlib import Path\n",
    "\n",
    "excel_path = Path(r\"/Users/cheickberthe/PycharmProjects/spreadsheet-analyzer/test_assets/collection/business-accounting/Business Accounting.xlsx\")\n",
    "df = pd.read_excel(excel_path, sheet_name=0)\n",
    "print(f\"Loaded sheet with shape: {df.shape}\")\n",
    "\n",
    "# Quick preview for LLM context\n",
    "print(\"\\nFirst 10 rows:\")\n",
    "print(df.head(10).to_string())\n",
    "print(\"\\nLast 5 rows:\")\n",
    "print(df.tail(5).to_string())\n",
    "\n",
    "# Get basic info\n",
    "sheet_name = \"None\"\n",
    "sheet_dimensions = f\"{df.shape[0]} rows x {df.shape[1]} columns\"\n"
   ]
  },
  {
   "cell_type": "code",
   "execution_count": 2,
   "id": "5f0f0d11",
   "metadata": {
    "cell_id": "89992a3d-71a6-4be8-a2d6-71a883c41e7a"
   },
   "outputs": [
    {
     "data": {
      "text/plain": [
       "'None'"
      ]
     },
     "execution_count": 2,
     "metadata": {},
     "output_type": "execute_result"
    }
   ],
   "source": [
    "\n",
    "excel_file_name = excel_path.name\n",
    "sheet_dimensions = f\"{df.shape[0]} rows x {df.shape[1]} columns\"\n",
    "sheet_name\n"
   ]
  },
  {
   "cell_type": "code",
   "execution_count": 3,
   "id": "f7f9d366",
   "metadata": {
    "cell_id": "5bd653e0-514b-4b24-93d0-a3a64185378f"
   },
   "outputs": [
    {
     "name": "stdout",
     "output_type": "stream",
     "text": [
      "=== DATA STRUCTURE ANALYSIS ===\nDataFrame shape: (10, 9)\nColumns: ['Date', 'Description', 'USD Amount', 'Transaction type', 'Category', 'TOTAL REVENUES', 0, 'TOTAL EXPENSES', -2031.6299999999999]\n\n=== FIRST 10 ROWS ===\n        Date                                   Description   USD Amount  Transaction type   Category   TOTAL REVENUES   0   TOTAL EXPENSES  -2031.63\n0 2025-01-03                  Mali Apartment work - Cement       -43.51               EXP        NaN              NaN NaN              NaN       NaN\n1 2025-01-15            Rebtel International Phone charges        -9.49               EXP        NaN              NaN NaN              NaN       NaN\n2 2025-01-21                  Mali Apartment work - Cement        -8.57               EXP        NaN              NaN NaN              NaN       NaN\n3 2025-01-22  Mali Apartment Work - Tile Install (Kitchen)       -48.78               EXP        NaN              NaN NaN              NaN       NaN\n4 2025-01-23              Aluminum fabricator - Issa Maiga      -424.34               EXP        NaN              NaN NaN              NaN       NaN\n5 2025-01-23  Mali Apartment work - Kitchen Wall Crepisage       -57.75               EXP        NaN              NaN NaN              NaN       NaN\n6 2025-01-23                  Mali Apartment work - Cement       -25.90               EXP        NaN              NaN NaN              NaN       NaN\n7 2025-01-26            Rebtel International Phone charges        -4.99               EXP        NaN              NaN NaN              NaN       NaN\n8 2025-01-14                      Toyota Prado - 4 x tires     -1095.34               EXP        NaN              NaN NaN              NaN       NaN\n9 2025-01-14        Toyota Prado - 4 x rims and spare tire      -312.96               EXP        NaN              NaN NaN              NaN       NaN\n\n=== LAST 5 ROWS ===\n        Date                                   Description   USD Amount  Transaction type   Category   TOTAL REVENUES   0   TOTAL EXPENSES  -2031.63\n5 2025-01-23  Mali Apartment work - Kitchen Wall Crepisage       -57.75               EXP        NaN              NaN NaN              NaN       NaN\n6 2025-01-23                  Mali Apartment work - Cement       -25.90               EXP        NaN              NaN NaN              NaN       NaN\n7 2025-01-26            Rebtel International Phone charges        -4.99               EXP        NaN              NaN NaN              NaN       NaN\n8 2025-01-14                      Toyota Prado - 4 x tires     -1095.34               EXP        NaN              NaN NaN              NaN       NaN\n9 2025-01-14        Toyota Prado - 4 x rims and spare tire      -312.96               EXP        NaN              NaN NaN              NaN       NaN\n\n=== COLUMN ANALYSIS ===\nColumn 0 ('Date'): 10/10 non-null values\nColumn 1 ('Description'): 10/10 non-null values\nColumn 2 ('USD Amount'): 10/10 non-null values\nColumn 3 ('Transaction type'): 10/10 non-null values\nColumn 4 ('Category'): 0/10 non-null values\nColumn 5 ('TOTAL REVENUES'): 0/10 non-null values\nColumn 6 ('0'): 0/10 non-null values\nColumn 7 ('TOTAL EXPENSES'): 0/10 non-null values\nColumn 8 ('-2031.6299999999999'): 0/10 non-null values\n\n=== EMPTY ROW ANALYSIS ===\nNo completely empty rows found\n\n=== SIDE-BY-SIDE ANALYSIS ===\nLeft section shape: (10, 7)\nRight section shape: (10, 2)\nLeft section non-null density: 0.57\nRight section non-null density: 0.00\n"
     ]
    }
   ],
   "source": [
    "\n",
    "# Table Detection Analysis\n",
    "print(\"=== DATA STRUCTURE ANALYSIS ===\")\n",
    "print(f\"DataFrame shape: {df.shape}\")\n",
    "print(f\"Columns: {list(df.columns)}\")\n",
    "print(\"\\n=== FIRST 10 ROWS ===\")\n",
    "print(df.head(10).to_string())\n",
    "print(\"\\n=== LAST 5 ROWS ===\")\n",
    "print(df.tail(5).to_string())\n",
    "\n",
    "print(\"\\n=== COLUMN ANALYSIS ===\")\n",
    "# Check for empty columns that might separate tables\n",
    "for i, col in enumerate(df.columns):\n",
    "    non_null_count = df[col].notna().sum()\n",
    "    print(f\"Column {i} ('{col}'): {non_null_count}/{len(df)} non-null values\")\n",
    "\n",
    "print(\"\\n=== EMPTY ROW ANALYSIS ===\")\n",
    "# Check for empty rows that might separate tables\n",
    "empty_rows = df.isnull().all(axis=1)\n",
    "if empty_rows.any():\n",
    "    empty_row_indices = empty_rows[empty_rows].index.tolist()\n",
    "    print(f\"Empty rows found at indices: {empty_row_indices[:10]}\")\n",
    "else:\n",
    "    print(\"No completely empty rows found\")\n",
    "\n",
    "print(\"\\n=== SIDE-BY-SIDE ANALYSIS ===\")\n",
    "# Check for potential side-by-side tables by examining column groups\n",
    "left_cols = df.iloc[:, 0:7]  # First 7 columns\n",
    "right_cols = df.iloc[:, 7:]  # Remaining columns\n",
    "print(f\"Left section shape: {left_cols.shape}\")\n",
    "print(f\"Right section shape: {right_cols.shape}\")\n",
    "print(f\"Left section non-null density: {left_cols.notna().sum().sum() / (left_cols.shape[0] * left_cols.shape[1]):.2f}\")\n",
    "print(f\"Right section non-null density: {right_cols.notna().sum().sum() / (right_cols.shape[0] * right_cols.shape[1]):.2f}\")\n"
   ]
  },
  {
   "cell_type": "code",
   "execution_count": 4,
   "id": "42cbeb9c",
   "metadata": {
    "cell_id": "68a1b816-9d1d-4367-870b-16da161efeed"
   },
   "outputs": [
    {
     "data": {
      "text/html": [
       "<div>\n",
       "<style scoped>\n",
       "    .dataframe tbody tr th:only-of-type {\n",
       "        vertical-align: middle;\n",
       "    }\n",
       "\n",
       "    .dataframe tbody tr th {\n",
       "        vertical-align: top;\n",
       "    }\n",
       "\n",
       "    .dataframe thead th {\n",
       "        text-align: right;\n",
       "    }\n",
       "</style>\n",
       "<table border=\"1\" class=\"dataframe\">\n",
       "  <thead>\n",
       "    <tr style=\"text-align: right;\">\n",
       "      <th></th>\n",
       "      <th>Date</th>\n",
       "      <th>Description</th>\n",
       "      <th>USD Amount</th>\n",
       "      <th>Transaction type</th>\n",
       "      <th>Category</th>\n",
       "      <th>TOTAL REVENUES</th>\n",
       "      <th>0</th>\n",
       "      <th>TOTAL EXPENSES</th>\n",
       "      <th>-2031.63</th>\n",
       "    </tr>\n",
       "  </thead>\n",
       "  <tbody>\n",
       "    <tr>\n",
       "      <th>0</th>\n",
       "      <td>2025-01-03</td>\n",
       "      <td>Mali Apartment work - Cement</td>\n",
       "      <td>-43.51</td>\n",
       "      <td>EXP</td>\n",
       "      <td>NaN</td>\n",
       "      <td>NaN</td>\n",
       "      <td>NaN</td>\n",
       "      <td>NaN</td>\n",
       "      <td>NaN</td>\n",
       "    </tr>\n",
       "    <tr>\n",
       "      <th>1</th>\n",
       "      <td>2025-01-15</td>\n",
       "      <td>Rebtel International Phone charges</td>\n",
       "      <td>-9.49</td>\n",
       "      <td>EXP</td>\n",
       "      <td>NaN</td>\n",
       "      <td>NaN</td>\n",
       "      <td>NaN</td>\n",
       "      <td>NaN</td>\n",
       "      <td>NaN</td>\n",
       "    </tr>\n",
       "    <tr>\n",
       "      <th>2</th>\n",
       "      <td>2025-01-21</td>\n",
       "      <td>Mali Apartment work - Cement</td>\n",
       "      <td>-8.57</td>\n",
       "      <td>EXP</td>\n",
       "      <td>NaN</td>\n",
       "      <td>NaN</td>\n",
       "      <td>NaN</td>\n",
       "      <td>NaN</td>\n",
       "      <td>NaN</td>\n",
       "    </tr>\n",
       "    <tr>\n",
       "      <th>3</th>\n",
       "      <td>2025-01-22</td>\n",
       "      <td>Mali Apartment Work - Tile Install (Kitchen)</td>\n",
       "      <td>-48.78</td>\n",
       "      <td>EXP</td>\n",
       "      <td>NaN</td>\n",
       "      <td>NaN</td>\n",
       "      <td>NaN</td>\n",
       "      <td>NaN</td>\n",
       "      <td>NaN</td>\n",
       "    </tr>\n",
       "    <tr>\n",
       "      <th>4</th>\n",
       "      <td>2025-01-23</td>\n",
       "      <td>Aluminum fabricator - Issa Maiga</td>\n",
       "      <td>-424.34</td>\n",
       "      <td>EXP</td>\n",
       "      <td>NaN</td>\n",
       "      <td>NaN</td>\n",
       "      <td>NaN</td>\n",
       "      <td>NaN</td>\n",
       "      <td>NaN</td>\n",
       "    </tr>\n",
       "  </tbody>\n",
       "</table>\n",
       "</div>"
      ],
      "text/plain": [
       "        Date                                   Description   USD Amount  \\\n",
       "0 2025-01-03                  Mali Apartment work - Cement       -43.51   \n",
       "1 2025-01-15            Rebtel International Phone charges        -9.49   \n",
       "2 2025-01-21                  Mali Apartment work - Cement        -8.57   \n",
       "3 2025-01-22  Mali Apartment Work - Tile Install (Kitchen)       -48.78   \n",
       "4 2025-01-23              Aluminum fabricator - Issa Maiga      -424.34   \n",
       "\n",
       "   Transaction type   Category   TOTAL REVENUES   0   TOTAL EXPENSES  -2031.63  \n",
       "0               EXP        NaN              NaN NaN              NaN       NaN  \n",
       "1               EXP        NaN              NaN NaN              NaN       NaN  \n",
       "2               EXP        NaN              NaN NaN              NaN       NaN  \n",
       "3               EXP        NaN              NaN NaN              NaN       NaN  \n",
       "4               EXP        NaN              NaN NaN              NaN       NaN  "
      ]
     },
     "execution_count": 4,
     "metadata": {},
     "output_type": "execute_result"
    }
   ],
   "source": [
    "df.head()"
   ]
  },
  {
   "cell_type": "code",
   "execution_count": 5,
   "id": "db275530",
   "metadata": {
    "cell_id": "e0f62877-3521-411c-906e-4715e8f40ce7"
   },
   "outputs": [
    {
     "data": {
      "text/html": [
       "<div>\n",
       "<style scoped>\n",
       "    .dataframe tbody tr th:only-of-type {\n",
       "        vertical-align: middle;\n",
       "    }\n",
       "\n",
       "    .dataframe tbody tr th {\n",
       "        vertical-align: top;\n",
       "    }\n",
       "\n",
       "    .dataframe thead th {\n",
       "        text-align: right;\n",
       "    }\n",
       "</style>\n",
       "<table border=\"1\" class=\"dataframe\">\n",
       "  <thead>\n",
       "    <tr style=\"text-align: right;\">\n",
       "      <th></th>\n",
       "      <th>Date</th>\n",
       "      <th>Description</th>\n",
       "      <th>USD Amount</th>\n",
       "      <th>Transaction type</th>\n",
       "      <th>Category</th>\n",
       "      <th>TOTAL REVENUES</th>\n",
       "      <th>0</th>\n",
       "      <th>TOTAL EXPENSES</th>\n",
       "      <th>-2031.63</th>\n",
       "    </tr>\n",
       "  </thead>\n",
       "  <tbody>\n",
       "    <tr>\n",
       "      <th>5</th>\n",
       "      <td>2025-01-23</td>\n",
       "      <td>Mali Apartment work - Kitchen Wall Crepisage</td>\n",
       "      <td>-57.75</td>\n",
       "      <td>EXP</td>\n",
       "      <td>NaN</td>\n",
       "      <td>NaN</td>\n",
       "      <td>NaN</td>\n",
       "      <td>NaN</td>\n",
       "      <td>NaN</td>\n",
       "    </tr>\n",
       "    <tr>\n",
       "      <th>6</th>\n",
       "      <td>2025-01-23</td>\n",
       "      <td>Mali Apartment work - Cement</td>\n",
       "      <td>-25.90</td>\n",
       "      <td>EXP</td>\n",
       "      <td>NaN</td>\n",
       "      <td>NaN</td>\n",
       "      <td>NaN</td>\n",
       "      <td>NaN</td>\n",
       "      <td>NaN</td>\n",
       "    </tr>\n",
       "    <tr>\n",
       "      <th>7</th>\n",
       "      <td>2025-01-26</td>\n",
       "      <td>Rebtel International Phone charges</td>\n",
       "      <td>-4.99</td>\n",
       "      <td>EXP</td>\n",
       "      <td>NaN</td>\n",
       "      <td>NaN</td>\n",
       "      <td>NaN</td>\n",
       "      <td>NaN</td>\n",
       "      <td>NaN</td>\n",
       "    </tr>\n",
       "    <tr>\n",
       "      <th>8</th>\n",
       "      <td>2025-01-14</td>\n",
       "      <td>Toyota Prado - 4 x tires</td>\n",
       "      <td>-1095.34</td>\n",
       "      <td>EXP</td>\n",
       "      <td>NaN</td>\n",
       "      <td>NaN</td>\n",
       "      <td>NaN</td>\n",
       "      <td>NaN</td>\n",
       "      <td>NaN</td>\n",
       "    </tr>\n",
       "    <tr>\n",
       "      <th>9</th>\n",
       "      <td>2025-01-14</td>\n",
       "      <td>Toyota Prado - 4 x rims and spare tire</td>\n",
       "      <td>-312.96</td>\n",
       "      <td>EXP</td>\n",
       "      <td>NaN</td>\n",
       "      <td>NaN</td>\n",
       "      <td>NaN</td>\n",
       "      <td>NaN</td>\n",
       "      <td>NaN</td>\n",
       "    </tr>\n",
       "  </tbody>\n",
       "</table>\n",
       "</div>"
      ],
      "text/plain": [
       "        Date                                   Description   USD Amount  \\\n",
       "5 2025-01-23  Mali Apartment work - Kitchen Wall Crepisage       -57.75   \n",
       "6 2025-01-23                  Mali Apartment work - Cement       -25.90   \n",
       "7 2025-01-26            Rebtel International Phone charges        -4.99   \n",
       "8 2025-01-14                      Toyota Prado - 4 x tires     -1095.34   \n",
       "9 2025-01-14        Toyota Prado - 4 x rims and spare tire      -312.96   \n",
       "\n",
       "   Transaction type   Category   TOTAL REVENUES   0   TOTAL EXPENSES  -2031.63  \n",
       "5               EXP        NaN              NaN NaN              NaN       NaN  \n",
       "6               EXP        NaN              NaN NaN              NaN       NaN  \n",
       "7               EXP        NaN              NaN NaN              NaN       NaN  \n",
       "8               EXP        NaN              NaN NaN              NaN       NaN  \n",
       "9               EXP        NaN              NaN NaN              NaN       NaN  "
      ]
     },
     "execution_count": 5,
     "metadata": {},
     "output_type": "execute_result"
    }
   ],
   "source": [
    "df.tail()"
   ]
  },
  {
   "cell_type": "code",
   "execution_count": 6,
   "id": "20ae47b9",
   "metadata": {
    "cell_id": "93789c58-50b1-408e-b1a8-2437419bc29d"
   },
   "outputs": [
    {
     "name": "stdout",
     "output_type": "stream",
     "text": [
      "<class 'pandas.core.frame.DataFrame'>\nRangeIndex: 10 entries, 0 to 9\nData columns (total 9 columns):\n #   Column               Non-Null Count  Dtype         \n---  ------               --------------  -----         \n 0   Date                 10 non-null     datetime64[ns]\n 1   Description          10 non-null     object        \n 2   USD Amount           10 non-null     float64       \n 3   Transaction type     10 non-null     object        \n 4   Category             0 non-null      float64       \n 5   TOTAL REVENUES       0 non-null      float64       \n 6   0                    0 non-null      float64       \n 7   TOTAL EXPENSES       0 non-null      float64       \n 8   -2031.6299999999999  0 non-null      float64       \ndtypes: datetime64[ns](1), float64(6), object(2)\nmemory usage: 852.0+ bytes\n"
     ]
    }
   ],
   "source": [
    "df.info()"
   ]
  },
  {
   "cell_type": "code",
   "execution_count": 7,
   "id": "95c844ef",
   "metadata": {
    "cell_id": "2489ce9c-70a3-497f-ae59-6dd1ccae756f"
   },
   "outputs": [
    {
     "data": {
      "text/plain": [
       "([], ['Category', 'TOTAL REVENUES', 0, 'TOTAL EXPENSES', -2031.6299999999999])"
      ]
     },
     "execution_count": 7,
     "metadata": {},
     "output_type": "execute_result"
    }
   ],
   "source": [
    "# Identify blocks separated by empty rows\n",
    "empty_rows = df.isnull().all(axis=1)\n",
    "empty_row_indices = empty_rows[empty_rows].index.tolist()\n",
    "\n",
    "# Look for consecutive empty rows (2+ indicate table boundary)\n",
    "# Empty columns can also indicate horizontal table separation\n",
    "empty_cols = df.isnull().all(axis=0)\n",
    "empty_col_indices = empty_cols[empty_cols].index.tolist()\n",
    "\n",
    "empty_row_indices, empty_col_indices"
   ]
  },
  {
   "cell_type": "code",
   "execution_count": 8,
   "id": "ca0c5cc2",
   "metadata": {
    "cell_id": "2db4c701-5ea2-49f7-aa92-535246a7e0af"
   },
   "outputs": [
    {
     "data": {
      "text/plain": [
       "(Date                datetime64[ns]\n",
       " Description                 object\n",
       " USD Amount                 float64\n",
       " Transaction type            object\n",
       " Category                   float64\n",
       " TOTAL REVENUES             float64\n",
       " 0                          float64\n",
       " dtype: object,\n",
       "  TOTAL EXPENSES    float64\n",
       " -2031.63           float64\n",
       " dtype: object)"
      ]
     },
     "execution_count": 8,
     "metadata": {},
     "output_type": "execute_result"
    }
   ],
   "source": [
    "# Analyze column patterns and entity types\n",
    "left_cols = df.iloc[:, 0:7]  # First potential table\n",
    "right_cols = df.iloc[:, 7:]  # Second potential table\n",
    "\n",
    "# Check for different header patterns or data types\n",
    "left_cols_info = left_cols.dtypes\n",
    "right_cols_info = right_cols.dtypes\n",
    "\n",
    "left_cols_info, right_cols_info"
   ]
  },
  {
   "cell_type": "code",
   "execution_count": 9,
   "id": "3f4e4aae",
   "metadata": {
    "cell_id": "7b311bf0-46a8-469e-bf94-fe7873bd7b68"
   },
   "outputs": [
    {
     "name": "stdout",
     "output_type": "stream",
     "text": [
      "❌ No 'detected_tables' variable found - LLM failed to complete detection\n"
     ]
    },
    {
     "data": {
      "text/plain": [
       "[]"
      ]
     },
     "execution_count": 9,
     "metadata": {},
     "output_type": "execute_result"
    }
   ],
   "source": [
    "\n",
    "# Extract detection results created by LLM\n",
    "# The detector should have created a 'detected_tables' variable with the results\n",
    "\n",
    "# CLAUDE-TEST-WORKAROUND: Validate that detected_tables exists and is properly formatted\n",
    "if 'detected_tables' in globals():\n",
    "    # Validate it's a list\n",
    "    if isinstance(detected_tables, list):\n",
    "        detection_results = detected_tables\n",
    "        print(f\"✅ Found {len(detection_results)} tables from LLM detection\")\n",
    "        # Validate first table has required fields (if any tables exist)\n",
    "        if detection_results:\n",
    "            required_fields = ['table_id', 'description', 'start_row', 'end_row', 'start_col', 'end_col']\n",
    "            first_table = detection_results[0]\n",
    "            missing_fields = [f for f in required_fields if f not in first_table]\n",
    "            if missing_fields:\n",
    "                print(f\"⚠️ Warning: First table missing fields: {missing_fields}\")\n",
    "    else:\n",
    "        print(f\"❌ Error: detected_tables is not a list, it's a {type(detected_tables)}\")\n",
    "        detection_results = []\n",
    "else:\n",
    "    # CLAUDE-GOTCHA: Gemini sometimes fails to create the variable even after multiple prompts\n",
    "    print(\"❌ No 'detected_tables' variable found - LLM failed to complete detection\")\n",
    "    detection_results = []\n",
    "\n",
    "detection_results\n"
   ]
  },
  {
   "cell_type": "code",
   "execution_count": 10,
   "id": "fd4a42c8",
   "metadata": {
    "cell_id": "f83bb232-986d-46b9-8de8-0381ce591bd4"
   },
   "outputs": [
    {
     "data": {
      "text/plain": [
       "(10, 9)"
      ]
     },
     "execution_count": 10,
     "metadata": {},
     "output_type": "execute_result"
    }
   ],
   "source": [
    "df_shape = df.shape; df_shape"
   ]
  },
  {
   "cell_type": "markdown",
   "id": "b4869945",
   "metadata": {},
   "source": [
    "\n",
    "# Table Detection Results\n",
    "\n",
    "Detected 1 tables:\n",
    "\n",
    "\n",
    "## Table 1: Full spreadsheet (fallback)\n",
    "- Location: Rows 0-9, Columns 0-8\n",
    "- Type: detail\n",
    "- Entity: data\n",
    "- Confidence: 0.50\n"
   ]
  }
 ],
 "metadata": {
  "kernelspec": {
   "display_name": "Python 3",
   "name": "python3"
  }
 },
 "nbformat": 4,
 "nbformat_minor": 5
}
