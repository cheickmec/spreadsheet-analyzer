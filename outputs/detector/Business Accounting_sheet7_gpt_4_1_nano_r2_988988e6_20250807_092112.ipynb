{
 "cells": [
  {
   "cell_type": "code",
   "execution_count": 1,
   "id": "b4c6ff06",
   "metadata": {
    "cell_id": "69ada8a2-f750-49bb-a465-e49beb0c42d8"
   },
   "outputs": [
    {
     "name": "stdout",
     "output_type": "stream",
     "text": [
      "Loaded sheet with shape: (38, 9)\n\nFirst 10 rows:\n                 Unnamed: 0                 Carosserie Line Unnamed: 2            2 x 20ft Line Unnamed: 4         40-45ft Line Unnamed: 6 Estimated monthly revenue Estimated monthly profit\n0                       NaN                     BKO-Sikasso    1100000  containers dakar-bamako    2300000               gazoil    -906000                  13880000                  -300000\n1                       NaN  sikasso-bamako-dakar carburant    -858000                Condition     -50000  container dakar-bko    1500000                       NaN                      NaN\n2                       NaN                  frais de route    -125000                   Gazoil   -1076000                Prime     -15000          Monthly salaries                      NaN\n3                       NaN                riz dakar-bamako    2040000           Frais de route    -150000       Frais de route    -150000                   -300000                      NaN\n4                       NaN             gazoil dakar bamako    -830500                    Prime     -20000            Condition     -50000            Annual Revenue            Annual Profit\n5                       NaN                  frais de route     -75000               Prime Yaya     -10000           Prime Yaya     -10000                 166560000                 -3600000\n6                       NaN                           Prime     -20000                      NaN        NaN                  NaN        NaN                       NaN                      NaN\n7                       NaN                             NaN        NaN                      NaN        NaN                  NaN        NaN                       NaN                      NaN\n8                     Total                         1231500        NaN                   994000        NaN               369000        NaN                       NaN                      NaN\n9  Percent of Total Revenue                        0.474658        NaN                 0.383118        NaN             0.142224        NaN                       NaN                      NaN\n\nLast 5 rows:\n   Unnamed: 0    Carosserie Line    Unnamed: 2 2 x 20ft Line    Unnamed: 4    40-45ft Line Unnamed: 6 Estimated monthly revenue Estimated monthly profit\n33        NaN  Salaire chauffeur       -100000            30  -3333.333333         -100000        NaN                       NaN                      NaN\n34        NaN          Entretien       -100000            40         -2500          -75000        NaN                       NaN                      NaN\n35        NaN   Visite technique  -4166.666667            30   -138.888889    -4166.666667        NaN                       NaN                      NaN\n36        NaN     Assurance 1 an -16666.666667            30   -555.555556   -16666.666667        NaN                       NaN                      NaN\n37        NaN              Total           NaN           NaN  48972.222222  1469166.666667        NaN                       NaN                      NaN\n"
     ]
    }
   ],
   "source": [
    "\n",
    "import pandas as pd\n",
    "from pathlib import Path\n",
    "\n",
    "excel_path = Path(r\"/Users/cheickberthe/PycharmProjects/spreadsheet-analyzer/test_assets/collection/business-accounting/Business Accounting.xlsx\")\n",
    "df = pd.read_excel(excel_path, sheet_name=7)\n",
    "print(f\"Loaded sheet with shape: {df.shape}\")\n",
    "\n",
    "# Quick preview for LLM context\n",
    "print(\"\\nFirst 10 rows:\")\n",
    "print(df.head(10).to_string())\n",
    "print(\"\\nLast 5 rows:\")\n",
    "print(df.tail(5).to_string())\n",
    "\n",
    "# Get basic info\n",
    "sheet_name = \"None\"\n",
    "sheet_dimensions = f\"{df.shape[0]} rows x {df.shape[1]} columns\"\n"
   ]
  },
  {
   "cell_type": "code",
   "execution_count": 2,
   "id": "4b09ab1d",
   "metadata": {
    "cell_id": "860f1118-217d-4db2-9a0c-7f88c9321e80"
   },
   "outputs": [
    {
     "data": {
      "text/plain": [
       "'None'"
      ]
     },
     "execution_count": 2,
     "metadata": {},
     "output_type": "execute_result"
    }
   ],
   "source": [
    "\n",
    "excel_file_name = excel_path.name\n",
    "sheet_dimensions = f\"{df.shape[0]} rows x {df.shape[1]} columns\"\n",
    "sheet_name\n"
   ]
  },
  {
   "cell_type": "code",
   "execution_count": 3,
   "id": "ecdcca1d",
   "metadata": {
    "cell_id": "42b03d2b-b795-434e-84f1-3a9882969b70"
   },
   "outputs": [
    {
     "name": "stdout",
     "output_type": "stream",
     "text": [
      "=== DATA STRUCTURE ANALYSIS ===\nDataFrame shape: (38, 9)\nColumns: ['Unnamed: 0', 'Carosserie Line', 'Unnamed: 2', '2 x 20ft Line', 'Unnamed: 4', '40-45ft Line', 'Unnamed: 6', 'Estimated monthly revenue', 'Estimated monthly profit']\n\n=== FIRST 10 ROWS ===\n                 Unnamed: 0                 Carosserie Line Unnamed: 2            2 x 20ft Line Unnamed: 4         40-45ft Line Unnamed: 6 Estimated monthly revenue Estimated monthly profit\n0                       NaN                     BKO-Sikasso    1100000  containers dakar-bamako    2300000               gazoil    -906000                  13880000                  -300000\n1                       NaN  sikasso-bamako-dakar carburant    -858000                Condition     -50000  container dakar-bko    1500000                       NaN                      NaN\n2                       NaN                  frais de route    -125000                   Gazoil   -1076000                Prime     -15000          Monthly salaries                      NaN\n3                       NaN                riz dakar-bamako    2040000           Frais de route    -150000       Frais de route    -150000                   -300000                      NaN\n4                       NaN             gazoil dakar bamako    -830500                    Prime     -20000            Condition     -50000            Annual Revenue            Annual Profit\n5                       NaN                  frais de route     -75000               Prime Yaya     -10000           Prime Yaya     -10000                 166560000                 -3600000\n6                       NaN                           Prime     -20000                      NaN        NaN                  NaN        NaN                       NaN                      NaN\n7                       NaN                             NaN        NaN                      NaN        NaN                  NaN        NaN                       NaN                      NaN\n8                     Total                         1231500        NaN                   994000        NaN               369000        NaN                       NaN                      NaN\n9  Percent of Total Revenue                        0.474658        NaN                 0.383118        NaN             0.142224        NaN                       NaN                      NaN\n\n=== LAST 5 ROWS ===\n   Unnamed: 0    Carosserie Line    Unnamed: 2 2 x 20ft Line    Unnamed: 4    40-45ft Line Unnamed: 6 Estimated monthly revenue Estimated monthly profit\n33        NaN  Salaire chauffeur       -100000            30  -3333.333333         -100000        NaN                       NaN                      NaN\n34        NaN          Entretien       -100000            40         -2500          -75000        NaN                       NaN                      NaN\n35        NaN   Visite technique  -4166.666667            30   -138.888889    -4166.666667        NaN                       NaN                      NaN\n36        NaN     Assurance 1 an -16666.666667            30   -555.555556   -16666.666667        NaN                       NaN                      NaN\n37        NaN              Total           NaN           NaN  48972.222222  1469166.666667        NaN                       NaN                      NaN\n\n=== COLUMN ANALYSIS ===\nColumn 0 ('Unnamed: 0'): 3/38 non-null values\nColumn 1 ('Carosserie Line'): 33/38 non-null values\nColumn 2 ('Unnamed: 2'): 32/38 non-null values\nColumn 3 ('2 x 20ft Line'): 14/38 non-null values\nColumn 4 ('Unnamed: 4'): 15/38 non-null values\nColumn 5 ('40-45ft Line'): 15/38 non-null values\nColumn 6 ('Unnamed: 6'): 8/38 non-null values\nColumn 7 ('Estimated monthly revenue'): 5/38 non-null values\nColumn 8 ('Estimated monthly profit'): 3/38 non-null values\n\n=== EMPTY ROW ANALYSIS ===\nEmpty rows found at indices: [7, 12, 30]\n\n=== SIDE-BY-SIDE ANALYSIS ===\nLeft section shape: (38, 7)\nRight section shape: (38, 2)\nLeft section non-null density: 0.45\nRight section non-null density: 0.11\n"
     ]
    }
   ],
   "source": [
    "\n",
    "# Table Detection Analysis\n",
    "print(\"=== DATA STRUCTURE ANALYSIS ===\")\n",
    "print(f\"DataFrame shape: {df.shape}\")\n",
    "print(f\"Columns: {list(df.columns)}\")\n",
    "print(\"\\n=== FIRST 10 ROWS ===\")\n",
    "print(df.head(10).to_string())\n",
    "print(\"\\n=== LAST 5 ROWS ===\")\n",
    "print(df.tail(5).to_string())\n",
    "\n",
    "print(\"\\n=== COLUMN ANALYSIS ===\")\n",
    "# Check for empty columns that might separate tables\n",
    "for i, col in enumerate(df.columns):\n",
    "    non_null_count = df[col].notna().sum()\n",
    "    print(f\"Column {i} ('{col}'): {non_null_count}/{len(df)} non-null values\")\n",
    "\n",
    "print(\"\\n=== EMPTY ROW ANALYSIS ===\")\n",
    "# Check for empty rows that might separate tables\n",
    "empty_rows = df.isnull().all(axis=1)\n",
    "if empty_rows.any():\n",
    "    empty_row_indices = empty_rows[empty_rows].index.tolist()\n",
    "    print(f\"Empty rows found at indices: {empty_row_indices[:10]}\")\n",
    "else:\n",
    "    print(\"No completely empty rows found\")\n",
    "\n",
    "print(\"\\n=== SIDE-BY-SIDE ANALYSIS ===\")\n",
    "# Check for potential side-by-side tables by examining column groups\n",
    "left_cols = df.iloc[:, 0:7]  # First 7 columns\n",
    "right_cols = df.iloc[:, 7:]  # Remaining columns\n",
    "print(f\"Left section shape: {left_cols.shape}\")\n",
    "print(f\"Right section shape: {right_cols.shape}\")\n",
    "print(f\"Left section non-null density: {left_cols.notna().sum().sum() / (left_cols.shape[0] * left_cols.shape[1]):.2f}\")\n",
    "print(f\"Right section non-null density: {right_cols.notna().sum().sum() / (right_cols.shape[0] * right_cols.shape[1]):.2f}\")\n"
   ]
  },
  {
   "cell_type": "code",
   "execution_count": 4,
   "id": "2b44fccb",
   "metadata": {
    "cell_id": "c1bdf60f-2f53-4e3c-b6eb-5bcc690f9cf2"
   },
   "outputs": [],
   "source": [
    "detected_tables = []\n",
    "\n",
    "# Based on the analysis, the data appears to contain two main sections side-by-side.\n",
    "# Left section likely contains detailed data, while the right section contains summary or additional info.\n",
    "\n",
    "# Detecting the main left table (columns 0-6)\n",
    "# It spans from row 0 to 37, with some empty rows at 7, 12, 30, but these are within the table boundary.\n",
    "left_table = {\n",
    "    \"start_row\": 0,\n",
    "    \"end_row\": 37,\n",
    "    \"start_col\": 0,\n",
    "    \"end_col\": 6,\n",
    "    \"description\": \"Main detailed data with various costs and revenues\",\n",
    "    \"entity_type\": \"business costs and revenues\",\n",
    "    \"confidence\": 0.9,\n",
    "    \"table_type\": \"DETAIL\"\n",
    "}\n",
    "\n",
    "# Detecting the secondary table (columns 7-8)\n",
    "# It appears to be a summary or additional info, possibly at the bottom, but since it overlaps with main data, treat as a separate table at the bottom.\n",
    "# The last few rows (33-37) contain totals and summaries.\n",
    "secondary_table = {\n",
    "    \"start_row\": 33,\n",
    "    \"end_row\": 37,\n",
    "    \"start_col\": 7,\n",
    "    \"end_col\": 8,\n",
    "    \"description\": \"Summary totals and calculations\",\n",
    "    \"entity_type\": \"summary\",\n",
    "    \"confidence\": 0.85,\n",
    "    \"table_type\": \"SUMMARY\"\n",
    "}\n",
    "\n",
    "detected_tables = [left_table, secondary_table]\n"
   ]
  },
  {
   "cell_type": "code",
   "execution_count": 5,
   "id": "409dd5af",
   "metadata": {
    "cell_id": "fadac656-ec84-454b-8ba0-0540e03407dc"
   },
   "outputs": [
    {
     "name": "stdout",
     "output_type": "stream",
     "text": [
      "✅ Found 2 tables from LLM detection\n⚠️ Warning: First table missing fields: ['table_id']\n"
     ]
    },
    {
     "data": {
      "text/plain": [
       "[{'start_row': 0,\n",
       "  'end_row': 37,\n",
       "  'start_col': 0,\n",
       "  'end_col': 6,\n",
       "  'description': 'Main detailed data with various costs and revenues',\n",
       "  'entity_type': 'business costs and revenues',\n",
       "  'confidence': 0.9,\n",
       "  'table_type': 'DETAIL'},\n",
       " {'start_row': 33,\n",
       "  'end_row': 37,\n",
       "  'start_col': 7,\n",
       "  'end_col': 8,\n",
       "  'description': 'Summary totals and calculations',\n",
       "  'entity_type': 'summary',\n",
       "  'confidence': 0.85,\n",
       "  'table_type': 'SUMMARY'}]"
      ]
     },
     "execution_count": 5,
     "metadata": {},
     "output_type": "execute_result"
    }
   ],
   "source": [
    "\n",
    "# Extract detection results created by LLM\n",
    "# The detector should have created a 'detected_tables' variable with the results\n",
    "\n",
    "# CLAUDE-TEST-WORKAROUND: Validate that detected_tables exists and is properly formatted\n",
    "if 'detected_tables' in globals():\n",
    "    # Validate it's a list\n",
    "    if isinstance(detected_tables, list):\n",
    "        detection_results = detected_tables\n",
    "        print(f\"✅ Found {len(detection_results)} tables from LLM detection\")\n",
    "        # Validate first table has required fields (if any tables exist)\n",
    "        if detection_results:\n",
    "            required_fields = ['table_id', 'description', 'start_row', 'end_row', 'start_col', 'end_col']\n",
    "            first_table = detection_results[0]\n",
    "            missing_fields = [f for f in required_fields if f not in first_table]\n",
    "            if missing_fields:\n",
    "                print(f\"⚠️ Warning: First table missing fields: {missing_fields}\")\n",
    "    else:\n",
    "        print(f\"❌ Error: detected_tables is not a list, it's a {type(detected_tables)}\")\n",
    "        detection_results = []\n",
    "else:\n",
    "    # CLAUDE-GOTCHA: Gemini sometimes fails to create the variable even after multiple prompts\n",
    "    print(\"❌ No 'detected_tables' variable found - LLM failed to complete detection\")\n",
    "    detection_results = []\n",
    "\n",
    "detection_results\n"
   ]
  },
  {
   "cell_type": "markdown",
   "id": "397733b6",
   "metadata": {},
   "source": [
    "\n",
    "# Table Detection Results\n",
    "\n",
    "Detected 2 tables:\n",
    "\n",
    "\n",
    "## Table 1: Main detailed data with various costs and revenues\n",
    "- Location: Rows 0-37, Columns 0-6\n",
    "- Type: detail\n",
    "- Entity: business costs and revenues\n",
    "- Confidence: 0.90\n",
    "\n",
    "## Table 2: Summary totals and calculations\n",
    "- Location: Rows 33-37, Columns 7-8\n",
    "- Type: summary\n",
    "- Entity: summary\n",
    "- Confidence: 0.85\n"
   ]
  }
 ],
 "metadata": {
  "kernelspec": {
   "display_name": "Python 3",
   "name": "python3"
  }
 },
 "nbformat": 4,
 "nbformat_minor": 5
}
