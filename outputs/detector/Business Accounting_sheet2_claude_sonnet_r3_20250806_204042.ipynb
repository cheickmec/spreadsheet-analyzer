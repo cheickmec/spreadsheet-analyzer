{
 "cells": [
  {
   "cell_type": "code",
   "execution_count": 1,
   "id": "9b4c54cb",
   "metadata": {
    "cell_id": "77934272-f429-467f-86d3-dac78a3d6732"
   },
   "outputs": [
    {
     "name": "stdout",
     "output_type": "stream",
     "text": [
      "Loaded sheet with shape: (121, 14)\n\nFirst 10 rows:\n                 Lender   Amount   Term    Rate  Payment Origination Date     Truck  Unnamed: 7 Unnamed: 8           Unnamed: 9 Unnamed: 10 Unnamed: 11 Unnamed: 12 Unnamed: 13\n0                   BHG  89395.0  120.0  0.1824  1624.60       2023-04-18  Actros 1         NaN  Payment #                 Date      Amount    Interest   Principal     Balance\n1  Fidelity 401(k) loan  36000.0   59.0  0.0925   350.63       2023-07-16  Actros 2         NaN          1  2023-05-20 00:00:00      1624.6         NaN         NaN         NaN\n2                   NaN      NaN    NaN     NaN      NaN              NaT       NaN         NaN          2  2023-06-20 00:00:00      1624.6         NaN         NaN         NaN\n3                   NaN      NaN    NaN     NaN      NaN              NaT       NaN         NaN          3  2023-07-20 00:00:00      1624.6         NaN         NaN         NaN\n4                   NaN      NaN    NaN     NaN      NaN              NaT       NaN         NaN          4  2023-08-20 00:00:00      1624.6         NaN         NaN         NaN\n5                   NaN      NaN    NaN     NaN      NaN              NaT       NaN         NaN          5  2023-09-20 00:00:00      1624.6         NaN         NaN         NaN\n6                   NaN      NaN    NaN     NaN      NaN              NaT       NaN         NaN          6  2023-10-20 00:00:00      1624.6         NaN         NaN         NaN\n7                   NaN      NaN    NaN     NaN      NaN              NaT       NaN         NaN          7  2023-11-20 00:00:00      1624.6         NaN         NaN         NaN\n8                   NaN      NaN    NaN     NaN      NaN              NaT       NaN         NaN          8  2023-12-20 00:00:00      1624.6         NaN         NaN         NaN\n9                   NaN      NaN    NaN     NaN      NaN              NaT       NaN         NaN          9  2024-01-20 00:00:00      1624.6         NaN         NaN         NaN\n\nLast 5 rows:\n    Lender  Amount  Term  Rate  Payment Origination Date Truck  Unnamed: 7 Unnamed: 8           Unnamed: 9 Unnamed: 10 Unnamed: 11 Unnamed: 12 Unnamed: 13\n116    NaN     NaN   NaN   NaN      NaN              NaT   NaN         NaN        116  2032-12-20 00:00:00      1624.6         NaN         NaN         NaN\n117    NaN     NaN   NaN   NaN      NaN              NaT   NaN         NaN        117  2033-01-20 00:00:00      1624.6         NaN         NaN         NaN\n118    NaN     NaN   NaN   NaN      NaN              NaT   NaN         NaN        118  2033-02-20 00:00:00      1624.6         NaN         NaN         NaN\n119    NaN     NaN   NaN   NaN      NaN              NaT   NaN         NaN        119  2033-03-20 00:00:00      1624.6         NaN         NaN         NaN\n120    NaN     NaN   NaN   NaN      NaN              NaT   NaN         NaN        120  2033-04-20 00:00:00      1624.6         NaN         NaN         NaN\n"
     ]
    }
   ],
   "source": [
    "\n",
    "import pandas as pd\n",
    "from pathlib import Path\n",
    "\n",
    "excel_path = Path(r\"/Users/cheickberthe/PycharmProjects/spreadsheet-analyzer/test_assets/collection/business-accounting/Business Accounting.xlsx\")\n",
    "df = pd.read_excel(excel_path, sheet_name=2)\n",
    "print(f\"Loaded sheet with shape: {df.shape}\")\n",
    "\n",
    "# Quick preview for LLM context\n",
    "print(\"\\nFirst 10 rows:\")\n",
    "print(df.head(10).to_string())\n",
    "print(\"\\nLast 5 rows:\")\n",
    "print(df.tail(5).to_string())\n",
    "\n",
    "# Get basic info\n",
    "sheet_name = \"None\"\n",
    "sheet_dimensions = f\"{df.shape[0]} rows x {df.shape[1]} columns\"\n"
   ]
  },
  {
   "cell_type": "code",
   "execution_count": 2,
   "id": "7ee0d8e1",
   "metadata": {
    "cell_id": "06604aab-7edc-49c7-8c2b-9ac5c147c66c"
   },
   "outputs": [
    {
     "data": {
      "text/plain": [
       "'None'"
      ]
     },
     "execution_count": 2,
     "metadata": {},
     "output_type": "execute_result"
    }
   ],
   "source": [
    "\n",
    "excel_file_name = excel_path.name\n",
    "sheet_dimensions = f\"{df.shape[0]} rows x {df.shape[1]} columns\"\n",
    "sheet_name\n"
   ]
  },
  {
   "cell_type": "code",
   "execution_count": 3,
   "id": "77d0cdae",
   "metadata": {
    "cell_id": "abf99e5e-9ace-4be9-871d-4ef85e5a137f"
   },
   "outputs": [
    {
     "name": "stdout",
     "output_type": "stream",
     "text": [
      "=== DATA STRUCTURE ANALYSIS ===\nDataFrame shape: (121, 14)\nColumns: ['Lender', 'Amount', 'Term', 'Rate', 'Payment', 'Origination Date', 'Truck', 'Unnamed: 7', 'Unnamed: 8', 'Unnamed: 9', 'Unnamed: 10', 'Unnamed: 11', 'Unnamed: 12', 'Unnamed: 13']\n\n=== FIRST 10 ROWS ===\n                 Lender   Amount   Term    Rate  Payment Origination Date     Truck  Unnamed: 7 Unnamed: 8           Unnamed: 9 Unnamed: 10 Unnamed: 11 Unnamed: 12 Unnamed: 13\n0                   BHG  89395.0  120.0  0.1824  1624.60       2023-04-18  Actros 1         NaN  Payment #                 Date      Amount    Interest   Principal     Balance\n1  Fidelity 401(k) loan  36000.0   59.0  0.0925   350.63       2023-07-16  Actros 2         NaN          1  2023-05-20 00:00:00      1624.6         NaN         NaN         NaN\n2                   NaN      NaN    NaN     NaN      NaN              NaT       NaN         NaN          2  2023-06-20 00:00:00      1624.6         NaN         NaN         NaN\n3                   NaN      NaN    NaN     NaN      NaN              NaT       NaN         NaN          3  2023-07-20 00:00:00      1624.6         NaN         NaN         NaN\n4                   NaN      NaN    NaN     NaN      NaN              NaT       NaN         NaN          4  2023-08-20 00:00:00      1624.6         NaN         NaN         NaN\n5                   NaN      NaN    NaN     NaN      NaN              NaT       NaN         NaN          5  2023-09-20 00:00:00      1624.6         NaN         NaN         NaN\n6                   NaN      NaN    NaN     NaN      NaN              NaT       NaN         NaN          6  2023-10-20 00:00:00      1624.6         NaN         NaN         NaN\n7                   NaN      NaN    NaN     NaN      NaN              NaT       NaN         NaN          7  2023-11-20 00:00:00      1624.6         NaN         NaN         NaN\n8                   NaN      NaN    NaN     NaN      NaN              NaT       NaN         NaN          8  2023-12-20 00:00:00      1624.6         NaN         NaN         NaN\n9                   NaN      NaN    NaN     NaN      NaN              NaT       NaN         NaN          9  2024-01-20 00:00:00      1624.6         NaN         NaN         NaN\n\n=== LAST 5 ROWS ===\n    Lender  Amount  Term  Rate  Payment Origination Date Truck  Unnamed: 7 Unnamed: 8           Unnamed: 9 Unnamed: 10 Unnamed: 11 Unnamed: 12 Unnamed: 13\n116    NaN     NaN   NaN   NaN      NaN              NaT   NaN         NaN        116  2032-12-20 00:00:00      1624.6         NaN         NaN         NaN\n117    NaN     NaN   NaN   NaN      NaN              NaT   NaN         NaN        117  2033-01-20 00:00:00      1624.6         NaN         NaN         NaN\n118    NaN     NaN   NaN   NaN      NaN              NaT   NaN         NaN        118  2033-02-20 00:00:00      1624.6         NaN         NaN         NaN\n119    NaN     NaN   NaN   NaN      NaN              NaT   NaN         NaN        119  2033-03-20 00:00:00      1624.6         NaN         NaN         NaN\n120    NaN     NaN   NaN   NaN      NaN              NaT   NaN         NaN        120  2033-04-20 00:00:00      1624.6         NaN         NaN         NaN\n\n=== COLUMN ANALYSIS ===\nColumn 0 ('Lender'): 2/121 non-null values\nColumn 1 ('Amount'): 2/121 non-null values\nColumn 2 ('Term'): 2/121 non-null values\nColumn 3 ('Rate'): 2/121 non-null values\nColumn 4 ('Payment'): 2/121 non-null values\nColumn 5 ('Origination Date'): 2/121 non-null values\nColumn 6 ('Truck'): 2/121 non-null values\nColumn 7 ('Unnamed: 7'): 0/121 non-null values\nColumn 8 ('Unnamed: 8'): 121/121 non-null values\nColumn 9 ('Unnamed: 9'): 121/121 non-null values\nColumn 10 ('Unnamed: 10'): 121/121 non-null values\nColumn 11 ('Unnamed: 11'): 1/121 non-null values\nColumn 12 ('Unnamed: 12'): 1/121 non-null values\nColumn 13 ('Unnamed: 13'): 1/121 non-null values\n\n=== EMPTY ROW ANALYSIS ===\nNo completely empty rows found\n\n=== SIDE-BY-SIDE ANALYSIS ===\nLeft section shape: (121, 7)\nRight section shape: (121, 7)\nLeft section non-null density: 0.02\nRight section non-null density: 0.43\n"
     ]
    }
   ],
   "source": [
    "\n",
    "# Table Detection Analysis\n",
    "print(\"=== DATA STRUCTURE ANALYSIS ===\")\n",
    "print(f\"DataFrame shape: {df.shape}\")\n",
    "print(f\"Columns: {list(df.columns)}\")\n",
    "print(\"\\n=== FIRST 10 ROWS ===\")\n",
    "print(df.head(10).to_string())\n",
    "print(\"\\n=== LAST 5 ROWS ===\")\n",
    "print(df.tail(5).to_string())\n",
    "\n",
    "print(\"\\n=== COLUMN ANALYSIS ===\")\n",
    "# Check for empty columns that might separate tables\n",
    "for i, col in enumerate(df.columns):\n",
    "    non_null_count = df[col].notna().sum()\n",
    "    print(f\"Column {i} ('{col}'): {non_null_count}/{len(df)} non-null values\")\n",
    "\n",
    "print(\"\\n=== EMPTY ROW ANALYSIS ===\")\n",
    "# Check for empty rows that might separate tables\n",
    "empty_rows = df.isnull().all(axis=1)\n",
    "if empty_rows.any():\n",
    "    empty_row_indices = empty_rows[empty_rows].index.tolist()\n",
    "    print(f\"Empty rows found at indices: {empty_row_indices[:10]}\")\n",
    "else:\n",
    "    print(\"No completely empty rows found\")\n",
    "\n",
    "print(\"\\n=== SIDE-BY-SIDE ANALYSIS ===\")\n",
    "# Check for potential side-by-side tables by examining column groups\n",
    "left_cols = df.iloc[:, 0:7]  # First 7 columns\n",
    "right_cols = df.iloc[:, 7:]  # Remaining columns\n",
    "print(f\"Left section shape: {left_cols.shape}\")\n",
    "print(f\"Right section shape: {right_cols.shape}\")\n",
    "print(f\"Left section non-null density: {left_cols.notna().sum().sum() / (left_cols.shape[0] * left_cols.shape[1]):.2f}\")\n",
    "print(f\"Right section non-null density: {right_cols.notna().sum().sum() / (right_cols.shape[0] * right_cols.shape[1]):.2f}\")\n"
   ]
  },
  {
   "cell_type": "code",
   "execution_count": 4,
   "id": "6be94ad6",
   "metadata": {
    "cell_id": "d1a2c2f3-d17f-485a-8ff2-083b81566e72"
   },
   "outputs": [
    {
     "name": "stdout",
     "output_type": "stream",
     "text": [
      "Detected 2 tables\n\nTable 1:\nDescription: Loan details showing 2 loans with terms and conditions\nLocation: rows 0-1, cols 0-6\nType: DETAIL\nConfidence: 0.95\n\nTable 2:\nDescription: Payment schedule showing 120 monthly payments\nLocation: rows 0-120, cols 8-13\nType: DETAIL\nConfidence: 0.98\n"
     ]
    }
   ],
   "source": [
    "# Create the detected_tables list with the findings\n",
    "detected_tables = [\n",
    "    {\n",
    "        \"table_id\": \"table_1\",\n",
    "        \"description\": \"Loan details showing 2 loans with terms and conditions\",\n",
    "        \"start_row\": 0,\n",
    "        \"end_row\": 1,\n",
    "        \"start_col\": 0,\n",
    "        \"end_col\": 6,\n",
    "        \"confidence\": 0.95,\n",
    "        \"table_type\": \"DETAIL\",\n",
    "        \"entity_type\": \"loans\"\n",
    "    },\n",
    "    {\n",
    "        \"table_id\": \"table_2\",\n",
    "        \"description\": \"Payment schedule showing 120 monthly payments\",\n",
    "        \"start_row\": 0,\n",
    "        \"end_row\": 120,\n",
    "        \"start_col\": 8,\n",
    "        \"end_col\": 13,\n",
    "        \"confidence\": 0.98,\n",
    "        \"table_type\": \"DETAIL\",\n",
    "        \"entity_type\": \"payment_schedule\"\n",
    "    }\n",
    "]\n",
    "\n",
    "print(f\"Detected {len(detected_tables)} tables\")\n",
    "for i, table in enumerate(detected_tables, 1):\n",
    "    print(f\"\\nTable {i}:\")\n",
    "    print(f\"Description: {table['description']}\")\n",
    "    print(f\"Location: rows {table['start_row']}-{table['end_row']}, cols {table['start_col']}-{table['end_col']}\")\n",
    "    print(f\"Type: {table['table_type']}\")\n",
    "    print(f\"Confidence: {table['confidence']}\")"
   ]
  },
  {
   "cell_type": "code",
   "execution_count": 5,
   "id": "29c1f1db",
   "metadata": {
    "cell_id": "9bdece54-f608-4d15-843d-0841313b34dd"
   },
   "outputs": [
    {
     "name": "stdout",
     "output_type": "stream",
     "text": [
      "Found 2 tables from LLM detection\n"
     ]
    },
    {
     "data": {
      "text/plain": [
       "[{'table_id': 'table_1',\n",
       "  'description': 'Loan details showing 2 loans with terms and conditions',\n",
       "  'start_row': 0,\n",
       "  'end_row': 1,\n",
       "  'start_col': 0,\n",
       "  'end_col': 6,\n",
       "  'confidence': 0.95,\n",
       "  'table_type': 'DETAIL',\n",
       "  'entity_type': 'loans'},\n",
       " {'table_id': 'table_2',\n",
       "  'description': 'Payment schedule showing 120 monthly payments',\n",
       "  'start_row': 0,\n",
       "  'end_row': 120,\n",
       "  'start_col': 8,\n",
       "  'end_col': 13,\n",
       "  'confidence': 0.98,\n",
       "  'table_type': 'DETAIL',\n",
       "  'entity_type': 'payment_schedule'}]"
      ]
     },
     "execution_count": 5,
     "metadata": {},
     "output_type": "execute_result"
    }
   ],
   "source": [
    "\n",
    "# Extract detection results created by LLM\n",
    "# The detector should have created a 'detected_tables' variable with the results\n",
    "\n",
    "# Check if the LLM created the expected variable\n",
    "if 'detected_tables' in globals():\n",
    "    # Return the detected tables\n",
    "    detection_results = detected_tables\n",
    "    print(f\"Found {len(detection_results)} tables from LLM detection\")\n",
    "else:\n",
    "    # If no detection was made, return empty list to trigger fallback\n",
    "    print(\"No 'detected_tables' variable found - LLM may not have completed detection\")\n",
    "    detection_results = []\n",
    "\n",
    "detection_results\n"
   ]
  },
  {
   "cell_type": "markdown",
   "id": "22a7a260",
   "metadata": {},
   "source": [
    "\n",
    "# Table Detection Results\n",
    "\n",
    "Detected 2 tables:\n",
    "\n",
    "\n",
    "## Table 1: Loan details showing 2 loans with terms and conditions\n",
    "- Location: Rows 0-1, Columns 0-6\n",
    "- Type: detail\n",
    "- Entity: loans\n",
    "- Confidence: 0.95\n",
    "\n",
    "## Table 2: Payment schedule showing 120 monthly payments\n",
    "- Location: Rows 0-120, Columns 8-13\n",
    "- Type: detail\n",
    "- Entity: payment_schedule\n",
    "- Confidence: 0.98\n"
   ]
  }
 ],
 "metadata": {
  "kernelspec": {
   "display_name": "Python 3",
   "name": "python3"
  }
 },
 "nbformat": 4,
 "nbformat_minor": 5
}
