{
 "cells": [
  {
   "cell_type": "code",
   "execution_count": 1,
   "id": "84eec51d",
   "metadata": {
    "cell_id": "3f9c9068-c976-40f5-830e-ec668918b83c"
   },
   "outputs": [
    {
     "name": "stdout",
     "output_type": "stream",
     "text": [
      "Loaded sheet with shape: (1, 11)\n\nFirst 10 rows:\n   Date                           Description  Transaction type  USD Amount  XOF Amount  Column 1  Category  TOTAL REVENUES   0  TOTAL EXPENSES  0.1\n0   NaN  NC Secretary of State Annual Filings               NaN         NaN         NaN       NaN       NaN             NaN NaN             NaN  NaN\n\nLast 5 rows:\n   Date                           Description  Transaction type  USD Amount  XOF Amount  Column 1  Category  TOTAL REVENUES   0  TOTAL EXPENSES  0.1\n0   NaN  NC Secretary of State Annual Filings               NaN         NaN         NaN       NaN       NaN             NaN NaN             NaN  NaN\n"
     ]
    },
    {
     "name": "stderr",
     "output_type": "stream",
     "text": [
      "/Users/cheickberthe/PycharmProjects/spreadsheet-analyzer/.venv/lib/python3.12/site-packages/openpyxl/worksheet/_reader.py:329: UserWarning: Data Validation extension is not supported and will be removed\n  warn(msg)\n"
     ]
    }
   ],
   "source": [
    "\n",
    "import pandas as pd\n",
    "from pathlib import Path\n",
    "\n",
    "excel_path = Path(r\"/Users/cheickberthe/PycharmProjects/spreadsheet-analyzer/test_assets/collection/business-accounting/Business Accounting.xlsx\")\n",
    "df = pd.read_excel(excel_path, sheet_name=4)\n",
    "print(f\"Loaded sheet with shape: {df.shape}\")\n",
    "\n",
    "# Quick preview for LLM context\n",
    "print(\"\\nFirst 10 rows:\")\n",
    "print(df.head(10).to_string())\n",
    "print(\"\\nLast 5 rows:\")\n",
    "print(df.tail(5).to_string())\n",
    "\n",
    "# Get basic info\n",
    "sheet_name = \"None\"\n",
    "sheet_dimensions = f\"{df.shape[0]} rows x {df.shape[1]} columns\"\n"
   ]
  },
  {
   "cell_type": "code",
   "execution_count": 2,
   "id": "1600da5d",
   "metadata": {
    "cell_id": "e2e111a0-ac70-46f3-9400-fee7dd0625af"
   },
   "outputs": [
    {
     "data": {
      "text/plain": [
       "'None'"
      ]
     },
     "execution_count": 2,
     "metadata": {},
     "output_type": "execute_result"
    }
   ],
   "source": [
    "\n",
    "excel_file_name = excel_path.name\n",
    "sheet_dimensions = f\"{df.shape[0]} rows x {df.shape[1]} columns\"\n",
    "sheet_name\n"
   ]
  },
  {
   "cell_type": "code",
   "execution_count": 3,
   "id": "63efbe8f",
   "metadata": {
    "cell_id": "fd7e96df-0e77-4821-ba8c-63c313978ad9"
   },
   "outputs": [
    {
     "name": "stdout",
     "output_type": "stream",
     "text": [
      "=== DATA STRUCTURE ANALYSIS ===\nDataFrame shape: (1, 11)\nColumns: ['Date', 'Description', 'Transaction type', 'USD Amount', 'XOF Amount', 'Column 1', 'Category', 'TOTAL REVENUES', 0, 'TOTAL EXPENSES', '0.1']\n\n=== FIRST 10 ROWS ===\n   Date                           Description  Transaction type  USD Amount  XOF Amount  Column 1  Category  TOTAL REVENUES   0  TOTAL EXPENSES  0.1\n0   NaN  NC Secretary of State Annual Filings               NaN         NaN         NaN       NaN       NaN             NaN NaN             NaN  NaN\n\n=== LAST 5 ROWS ===\n   Date                           Description  Transaction type  USD Amount  XOF Amount  Column 1  Category  TOTAL REVENUES   0  TOTAL EXPENSES  0.1\n0   NaN  NC Secretary of State Annual Filings               NaN         NaN         NaN       NaN       NaN             NaN NaN             NaN  NaN\n\n=== COLUMN ANALYSIS ===\nColumn 0 ('Date'): 0/1 non-null values\nColumn 1 ('Description'): 1/1 non-null values\nColumn 2 ('Transaction type'): 0/1 non-null values\nColumn 3 ('USD Amount'): 0/1 non-null values\nColumn 4 ('XOF Amount'): 0/1 non-null values\nColumn 5 ('Column 1'): 0/1 non-null values\nColumn 6 ('Category'): 0/1 non-null values\nColumn 7 ('TOTAL REVENUES'): 0/1 non-null values\nColumn 8 ('0'): 0/1 non-null values\nColumn 9 ('TOTAL EXPENSES'): 0/1 non-null values\nColumn 10 ('0.1'): 0/1 non-null values\n\n=== EMPTY ROW ANALYSIS ===\nNo completely empty rows found\n\n=== SIDE-BY-SIDE ANALYSIS ===\nLeft section shape: (1, 7)\nRight section shape: (1, 4)\nLeft section non-null density: 0.14\nRight section non-null density: 0.00\n"
     ]
    }
   ],
   "source": [
    "\n",
    "# Table Detection Analysis\n",
    "print(\"=== DATA STRUCTURE ANALYSIS ===\")\n",
    "print(f\"DataFrame shape: {df.shape}\")\n",
    "print(f\"Columns: {list(df.columns)}\")\n",
    "print(\"\\n=== FIRST 10 ROWS ===\")\n",
    "print(df.head(10).to_string())\n",
    "print(\"\\n=== LAST 5 ROWS ===\")\n",
    "print(df.tail(5).to_string())\n",
    "\n",
    "print(\"\\n=== COLUMN ANALYSIS ===\")\n",
    "# Check for empty columns that might separate tables\n",
    "for i, col in enumerate(df.columns):\n",
    "    non_null_count = df[col].notna().sum()\n",
    "    print(f\"Column {i} ('{col}'): {non_null_count}/{len(df)} non-null values\")\n",
    "\n",
    "print(\"\\n=== EMPTY ROW ANALYSIS ===\")\n",
    "# Check for empty rows that might separate tables\n",
    "empty_rows = df.isnull().all(axis=1)\n",
    "if empty_rows.any():\n",
    "    empty_row_indices = empty_rows[empty_rows].index.tolist()\n",
    "    print(f\"Empty rows found at indices: {empty_row_indices[:10]}\")\n",
    "else:\n",
    "    print(\"No completely empty rows found\")\n",
    "\n",
    "print(\"\\n=== SIDE-BY-SIDE ANALYSIS ===\")\n",
    "# Check for potential side-by-side tables by examining column groups\n",
    "left_cols = df.iloc[:, 0:7]  # First 7 columns\n",
    "right_cols = df.iloc[:, 7:]  # Remaining columns\n",
    "print(f\"Left section shape: {left_cols.shape}\")\n",
    "print(f\"Right section shape: {right_cols.shape}\")\n",
    "print(f\"Left section non-null density: {left_cols.notna().sum().sum() / (left_cols.shape[0] * left_cols.shape[1]):.2f}\")\n",
    "print(f\"Right section non-null density: {right_cols.notna().sum().sum() / (right_cols.shape[0] * right_cols.shape[1]):.2f}\")\n"
   ]
  },
  {
   "cell_type": "code",
   "execution_count": 4,
   "id": "ef714125",
   "metadata": {
    "cell_id": "e7902f04-9b7f-4bc6-a6b4-bc065a4b45ab"
   },
   "outputs": [
    {
     "data": {
      "text/plain": [
       "[{'table_id': 'table_1',\n",
       "  'description': 'Main financial data table with transaction details',\n",
       "  'start_row': 0,\n",
       "  'end_row': 0,\n",
       "  'start_col': 0,\n",
       "  'end_col': 6,\n",
       "  'confidence': 0.9,\n",
       "  'table_type': 'HEADER',\n",
       "  'entity_type': 'financial_transactions'}]"
      ]
     },
     "execution_count": 4,
     "metadata": {},
     "output_type": "execute_result"
    }
   ],
   "source": [
    "detected_tables = []\n",
    "\n",
    "# Given the data structure and analysis, it appears there is a primary table occupying columns 0-6 (indices 0-6) with data, and a secondary, possibly empty or summary section in columns 7-10.\n",
    "# The shape of the DataFrame is (1, 11), indicating only one row of data, which is likely a header or a placeholder.\n",
    "# Since no data rows are present beyond the header, and the only row is mostly empty, we consider the header as a potential table boundary.\n",
    "# The main table likely spans from row 0 to 0 (single header row), columns 0 to 6.\n",
    "# The secondary section in columns 7-10 appears to be empty or not containing data.\n",
    "\n",
    "# Define the main data table\n",
    "detected_tables.append({\n",
    "    \"table_id\": \"table_1\",\n",
    "    \"description\": \"Main financial data table with transaction details\",\n",
    "    \"start_row\": 0,\n",
    "    \"end_row\": 0,\n",
    "    \"start_col\": 0,\n",
    "    \"end_col\": 6,\n",
    "    \"confidence\": 0.9,\n",
    "    \"table_type\": \"HEADER\",\n",
    "    \"entity_type\": \"financial_transactions\"\n",
    "})\n",
    "\n",
    "# Since the right section is empty or non-informative, no additional tables are detected.\n",
    "\n",
    "# Final output\n",
    "detected_tables"
   ]
  },
  {
   "cell_type": "code",
   "execution_count": 5,
   "id": "e7a416d1",
   "metadata": {
    "cell_id": "1d540263-f8cd-416f-8dd2-74719b75e42e"
   },
   "outputs": [
    {
     "name": "stdout",
     "output_type": "stream",
     "text": [
      "✅ Found 1 tables from LLM detection\n"
     ]
    },
    {
     "data": {
      "text/plain": [
       "[{'table_id': 'table_1',\n",
       "  'description': 'Main financial data table with transaction details',\n",
       "  'start_row': 0,\n",
       "  'end_row': 0,\n",
       "  'start_col': 0,\n",
       "  'end_col': 6,\n",
       "  'confidence': 0.9,\n",
       "  'table_type': 'HEADER',\n",
       "  'entity_type': 'financial_transactions'}]"
      ]
     },
     "execution_count": 5,
     "metadata": {},
     "output_type": "execute_result"
    }
   ],
   "source": [
    "\n",
    "# Extract detection results created by LLM\n",
    "# The detector should have created a 'detected_tables' variable with the results\n",
    "\n",
    "# CLAUDE-TEST-WORKAROUND: Validate that detected_tables exists and is properly formatted\n",
    "if 'detected_tables' in globals():\n",
    "    # Validate it's a list\n",
    "    if isinstance(detected_tables, list):\n",
    "        detection_results = detected_tables\n",
    "        print(f\"✅ Found {len(detection_results)} tables from LLM detection\")\n",
    "        # Validate first table has required fields (if any tables exist)\n",
    "        if detection_results:\n",
    "            required_fields = ['table_id', 'description', 'start_row', 'end_row', 'start_col', 'end_col']\n",
    "            first_table = detection_results[0]\n",
    "            missing_fields = [f for f in required_fields if f not in first_table]\n",
    "            if missing_fields:\n",
    "                print(f\"⚠️ Warning: First table missing fields: {missing_fields}\")\n",
    "    else:\n",
    "        print(f\"❌ Error: detected_tables is not a list, it's a {type(detected_tables)}\")\n",
    "        detection_results = []\n",
    "else:\n",
    "    # CLAUDE-GOTCHA: Gemini sometimes fails to create the variable even after multiple prompts\n",
    "    print(\"❌ No 'detected_tables' variable found - LLM failed to complete detection\")\n",
    "    detection_results = []\n",
    "\n",
    "detection_results\n"
   ]
  },
  {
   "cell_type": "markdown",
   "id": "b5c66739",
   "metadata": {},
   "source": [
    "\n",
    "# Table Detection Results\n",
    "\n",
    "Detected 1 tables:\n",
    "\n",
    "\n",
    "## Table 1: Main financial data table with transaction details\n",
    "- Location: Rows 0-0, Columns 0-6\n",
    "- Type: header\n",
    "- Entity: financial_transactions\n",
    "- Confidence: 0.90\n"
   ]
  }
 ],
 "metadata": {
  "kernelspec": {
   "display_name": "Python 3",
   "name": "python3"
  }
 },
 "nbformat": 4,
 "nbformat_minor": 5
}
