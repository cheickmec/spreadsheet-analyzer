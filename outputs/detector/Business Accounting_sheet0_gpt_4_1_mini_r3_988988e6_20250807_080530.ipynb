{
 "cells": [
  {
   "cell_type": "code",
   "execution_count": 1,
   "id": "61f49f3e",
   "metadata": {
    "cell_id": "aae6b212-d5e8-4c4d-a970-8758f04cba84"
   },
   "outputs": [
    {
     "name": "stdout",
     "output_type": "stream",
     "text": [
      "Loaded sheet with shape: (10, 9)\n\nFirst 10 rows:\n        Date                                   Description   USD Amount  Transaction type   Category   TOTAL REVENUES   0   TOTAL EXPENSES  -2031.63\n0 2025-01-03                  Mali Apartment work - Cement       -43.51               EXP        NaN              NaN NaN              NaN       NaN\n1 2025-01-15            Rebtel International Phone charges        -9.49               EXP        NaN              NaN NaN              NaN       NaN\n2 2025-01-21                  Mali Apartment work - Cement        -8.57               EXP        NaN              NaN NaN              NaN       NaN\n3 2025-01-22  Mali Apartment Work - Tile Install (Kitchen)       -48.78               EXP        NaN              NaN NaN              NaN       NaN\n4 2025-01-23              Aluminum fabricator - Issa Maiga      -424.34               EXP        NaN              NaN NaN              NaN       NaN\n5 2025-01-23  Mali Apartment work - Kitchen Wall Crepisage       -57.75               EXP        NaN              NaN NaN              NaN       NaN\n6 2025-01-23                  Mali Apartment work - Cement       -25.90               EXP        NaN              NaN NaN              NaN       NaN\n7 2025-01-26            Rebtel International Phone charges        -4.99               EXP        NaN              NaN NaN              NaN       NaN\n8 2025-01-14                      Toyota Prado - 4 x tires     -1095.34               EXP        NaN              NaN NaN              NaN       NaN\n9 2025-01-14        Toyota Prado - 4 x rims and spare tire      -312.96               EXP        NaN              NaN NaN              NaN       NaN\n\nLast 5 rows:\n        Date                                   Description   USD Amount  Transaction type   Category   TOTAL REVENUES   0   TOTAL EXPENSES  -2031.63\n5 2025-01-23  Mali Apartment work - Kitchen Wall Crepisage       -57.75               EXP        NaN              NaN NaN              NaN       NaN\n6 2025-01-23                  Mali Apartment work - Cement       -25.90               EXP        NaN              NaN NaN              NaN       NaN\n7 2025-01-26            Rebtel International Phone charges        -4.99               EXP        NaN              NaN NaN              NaN       NaN\n8 2025-01-14                      Toyota Prado - 4 x tires     -1095.34               EXP        NaN              NaN NaN              NaN       NaN\n9 2025-01-14        Toyota Prado - 4 x rims and spare tire      -312.96               EXP        NaN              NaN NaN              NaN       NaN\n"
     ]
    }
   ],
   "source": [
    "\n",
    "import pandas as pd\n",
    "from pathlib import Path\n",
    "\n",
    "excel_path = Path(r\"/Users/cheickberthe/PycharmProjects/spreadsheet-analyzer/test_assets/collection/business-accounting/Business Accounting.xlsx\")\n",
    "df = pd.read_excel(excel_path, sheet_name=0)\n",
    "print(f\"Loaded sheet with shape: {df.shape}\")\n",
    "\n",
    "# Quick preview for LLM context\n",
    "print(\"\\nFirst 10 rows:\")\n",
    "print(df.head(10).to_string())\n",
    "print(\"\\nLast 5 rows:\")\n",
    "print(df.tail(5).to_string())\n",
    "\n",
    "# Get basic info\n",
    "sheet_name = \"None\"\n",
    "sheet_dimensions = f\"{df.shape[0]} rows x {df.shape[1]} columns\"\n"
   ]
  },
  {
   "cell_type": "code",
   "execution_count": 2,
   "id": "2c18955f",
   "metadata": {
    "cell_id": "f504a8fb-8f03-4868-b68e-70de8738dcde"
   },
   "outputs": [
    {
     "data": {
      "text/plain": [
       "'None'"
      ]
     },
     "execution_count": 2,
     "metadata": {},
     "output_type": "execute_result"
    }
   ],
   "source": [
    "\n",
    "excel_file_name = excel_path.name\n",
    "sheet_dimensions = f\"{df.shape[0]} rows x {df.shape[1]} columns\"\n",
    "sheet_name\n"
   ]
  },
  {
   "cell_type": "code",
   "execution_count": 3,
   "id": "694b55cc",
   "metadata": {
    "cell_id": "987853bf-2bb0-4c83-b59f-e9f5c6fead78"
   },
   "outputs": [
    {
     "name": "stdout",
     "output_type": "stream",
     "text": [
      "=== DATA STRUCTURE ANALYSIS ===\nDataFrame shape: (10, 9)\nColumns: ['Date', 'Description', 'USD Amount', 'Transaction type', 'Category', 'TOTAL REVENUES', 0, 'TOTAL EXPENSES', -2031.6299999999999]\n\n=== FIRST 10 ROWS ===\n        Date                                   Description   USD Amount  Transaction type   Category   TOTAL REVENUES   0   TOTAL EXPENSES  -2031.63\n0 2025-01-03                  Mali Apartment work - Cement       -43.51               EXP        NaN              NaN NaN              NaN       NaN\n1 2025-01-15            Rebtel International Phone charges        -9.49               EXP        NaN              NaN NaN              NaN       NaN\n2 2025-01-21                  Mali Apartment work - Cement        -8.57               EXP        NaN              NaN NaN              NaN       NaN\n3 2025-01-22  Mali Apartment Work - Tile Install (Kitchen)       -48.78               EXP        NaN              NaN NaN              NaN       NaN\n4 2025-01-23              Aluminum fabricator - Issa Maiga      -424.34               EXP        NaN              NaN NaN              NaN       NaN\n5 2025-01-23  Mali Apartment work - Kitchen Wall Crepisage       -57.75               EXP        NaN              NaN NaN              NaN       NaN\n6 2025-01-23                  Mali Apartment work - Cement       -25.90               EXP        NaN              NaN NaN              NaN       NaN\n7 2025-01-26            Rebtel International Phone charges        -4.99               EXP        NaN              NaN NaN              NaN       NaN\n8 2025-01-14                      Toyota Prado - 4 x tires     -1095.34               EXP        NaN              NaN NaN              NaN       NaN\n9 2025-01-14        Toyota Prado - 4 x rims and spare tire      -312.96               EXP        NaN              NaN NaN              NaN       NaN\n\n=== LAST 5 ROWS ===\n        Date                                   Description   USD Amount  Transaction type   Category   TOTAL REVENUES   0   TOTAL EXPENSES  -2031.63\n5 2025-01-23  Mali Apartment work - Kitchen Wall Crepisage       -57.75               EXP        NaN              NaN NaN              NaN       NaN\n6 2025-01-23                  Mali Apartment work - Cement       -25.90               EXP        NaN              NaN NaN              NaN       NaN\n7 2025-01-26            Rebtel International Phone charges        -4.99               EXP        NaN              NaN NaN              NaN       NaN\n8 2025-01-14                      Toyota Prado - 4 x tires     -1095.34               EXP        NaN              NaN NaN              NaN       NaN\n9 2025-01-14        Toyota Prado - 4 x rims and spare tire      -312.96               EXP        NaN              NaN NaN              NaN       NaN\n\n=== COLUMN ANALYSIS ===\nColumn 0 ('Date'): 10/10 non-null values\nColumn 1 ('Description'): 10/10 non-null values\nColumn 2 ('USD Amount'): 10/10 non-null values\nColumn 3 ('Transaction type'): 10/10 non-null values\nColumn 4 ('Category'): 0/10 non-null values\nColumn 5 ('TOTAL REVENUES'): 0/10 non-null values\nColumn 6 ('0'): 0/10 non-null values\nColumn 7 ('TOTAL EXPENSES'): 0/10 non-null values\nColumn 8 ('-2031.6299999999999'): 0/10 non-null values\n\n=== EMPTY ROW ANALYSIS ===\nNo completely empty rows found\n\n=== SIDE-BY-SIDE ANALYSIS ===\nLeft section shape: (10, 7)\nRight section shape: (10, 2)\nLeft section non-null density: 0.57\nRight section non-null density: 0.00\n"
     ]
    }
   ],
   "source": [
    "\n",
    "# Table Detection Analysis\n",
    "print(\"=== DATA STRUCTURE ANALYSIS ===\")\n",
    "print(f\"DataFrame shape: {df.shape}\")\n",
    "print(f\"Columns: {list(df.columns)}\")\n",
    "print(\"\\n=== FIRST 10 ROWS ===\")\n",
    "print(df.head(10).to_string())\n",
    "print(\"\\n=== LAST 5 ROWS ===\")\n",
    "print(df.tail(5).to_string())\n",
    "\n",
    "print(\"\\n=== COLUMN ANALYSIS ===\")\n",
    "# Check for empty columns that might separate tables\n",
    "for i, col in enumerate(df.columns):\n",
    "    non_null_count = df[col].notna().sum()\n",
    "    print(f\"Column {i} ('{col}'): {non_null_count}/{len(df)} non-null values\")\n",
    "\n",
    "print(\"\\n=== EMPTY ROW ANALYSIS ===\")\n",
    "# Check for empty rows that might separate tables\n",
    "empty_rows = df.isnull().all(axis=1)\n",
    "if empty_rows.any():\n",
    "    empty_row_indices = empty_rows[empty_rows].index.tolist()\n",
    "    print(f\"Empty rows found at indices: {empty_row_indices[:10]}\")\n",
    "else:\n",
    "    print(\"No completely empty rows found\")\n",
    "\n",
    "print(\"\\n=== SIDE-BY-SIDE ANALYSIS ===\")\n",
    "# Check for potential side-by-side tables by examining column groups\n",
    "left_cols = df.iloc[:, 0:7]  # First 7 columns\n",
    "right_cols = df.iloc[:, 7:]  # Remaining columns\n",
    "print(f\"Left section shape: {left_cols.shape}\")\n",
    "print(f\"Right section shape: {right_cols.shape}\")\n",
    "print(f\"Left section non-null density: {left_cols.notna().sum().sum() / (left_cols.shape[0] * left_cols.shape[1]):.2f}\")\n",
    "print(f\"Right section non-null density: {right_cols.notna().sum().sum() / (right_cols.shape[0] * right_cols.shape[1]):.2f}\")\n"
   ]
  },
  {
   "cell_type": "code",
   "execution_count": 4,
   "id": "5d3c801f",
   "metadata": {
    "cell_id": "6d07fab1-b682-4938-9162-fee53975e4d4"
   },
   "outputs": [
    {
     "name": "stdout",
     "output_type": "stream",
     "text": [
      "Detected 1 tables\nTable 1: Transaction details including date, description, amount, and type at rows 0-9, cols 0-6\n"
     ]
    },
    {
     "data": {
      "text/plain": [
       "[{'table_id': 'table_1',\n",
       "  'description': 'Transaction details including date, description, amount, and type',\n",
       "  'start_row': 0,\n",
       "  'end_row': 9,\n",
       "  'start_col': 0,\n",
       "  'end_col': 6,\n",
       "  'confidence': 0.95,\n",
       "  'table_type': 'DETAIL',\n",
       "  'entity_type': 'transactions'}]"
      ]
     },
     "execution_count": 8,
     "metadata": {},
     "output_type": "execute_result"
    }
   ],
   "source": [
    "# Remove trailing space before detected_tables to fix indentation\n",
    "\n",
    "# Based on the analysis, the data appears to have one main table on the left side (columns 0 to 6) with meaningful data and a right side (columns 7 to 8) with no non-null data.\n",
    "# No empty rows to separate tables vertically.\n",
    "# The left side columns have data related to transactions (Date, Description, USD Amount, Transaction type, Category).\n",
    "# The right side columns seem to be summary or total columns but are empty.\n",
    "\n",
    "# Define the detected_tables list accordingly\n",
    "\n",
    "detected_tables = [\n",
    "    {\n",
    "        \"table_id\": \"table_1\",\n",
    "        \"description\": \"Transaction details including date, description, amount, and type\",\n",
    "        \"start_row\": 0,\n",
    "        \"end_row\": 9,\n",
    "        \"start_col\": 0,\n",
    "        \"end_col\": 6,\n",
    "        \"confidence\": 0.95,\n",
    "        \"table_type\": \"DETAIL\",\n",
    "        \"entity_type\": \"transactions\"\n",
    "    }\n",
    "]\n",
    "\n",
    "print(f\"Detected {len(detected_tables)} tables\")\n",
    "for i, table in enumerate(detected_tables, 1):\n",
    "    print(f\"Table {i}: {table['description']} at rows {table['start_row']}-{table['end_row']}, cols {table['start_col']}-{table['end_col']}\")\n",
    "\n",
    "# Return the detected_tables variable\n",
    "detected_tables"
   ]
  },
  {
   "cell_type": "code",
   "execution_count": 5,
   "id": "23a67e6e",
   "metadata": {
    "cell_id": "d2d863a1-eca2-4e31-9bb4-2d7aa956f0be"
   },
   "outputs": [
    {
     "name": "stdout",
     "output_type": "stream",
     "text": [
      "Found 1 tables from LLM detection\n"
     ]
    },
    {
     "data": {
      "text/plain": [
       "[{'table_id': 'table_1',\n",
       "  'description': 'Transaction details including date, description, amount, and type',\n",
       "  'start_row': 0,\n",
       "  'end_row': 9,\n",
       "  'start_col': 0,\n",
       "  'end_col': 6,\n",
       "  'confidence': 0.95,\n",
       "  'table_type': 'DETAIL',\n",
       "  'entity_type': 'transactions'}]"
      ]
     },
     "execution_count": 9,
     "metadata": {},
     "output_type": "execute_result"
    }
   ],
   "source": [
    "\n",
    "# Extract detection results created by LLM\n",
    "# The detector should have created a 'detected_tables' variable with the results\n",
    "\n",
    "# Check if the LLM created the expected variable\n",
    "if 'detected_tables' in globals():\n",
    "    # Return the detected tables\n",
    "    detection_results = detected_tables\n",
    "    print(f\"Found {len(detection_results)} tables from LLM detection\")\n",
    "else:\n",
    "    # If no detection was made, return empty list to trigger fallback\n",
    "    print(\"No 'detected_tables' variable found - LLM may not have completed detection\")\n",
    "    detection_results = []\n",
    "\n",
    "detection_results\n"
   ]
  },
  {
   "cell_type": "markdown",
   "id": "419167ef",
   "metadata": {},
   "source": [
    "\n",
    "# Table Detection Results\n",
    "\n",
    "Detected 1 tables:\n",
    "\n",
    "\n",
    "## Table 1: Transaction details including date, description, amount, and type\n",
    "- Location: Rows 0-9, Columns 0-6\n",
    "- Type: detail\n",
    "- Entity: transactions\n",
    "- Confidence: 0.95\n"
   ]
  }
 ],
 "metadata": {
  "kernelspec": {
   "display_name": "Python 3",
   "name": "python3"
  }
 },
 "nbformat": 4,
 "nbformat_minor": 5
}
