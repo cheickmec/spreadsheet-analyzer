{
 "cells": [
  {
   "cell_type": "markdown",
   "id": "4f1256b4",
   "metadata": {},
   "source": [
    "# Direct Kernel Test"
   ]
  },
  {
   "cell_type": "code",
   "execution_count": null,
   "id": "abc07828",
   "metadata": {},
   "outputs": [],
   "source": [
    "print('Test 1: Simple print')"
   ]
  },
  {
   "cell_type": "code",
   "execution_count": null,
   "id": "d77bb3b7",
   "metadata": {},
   "outputs": [],
   "source": [
    "x = 5y = 10print(f'Test 2: {x} + {y} = {x + y}')"
   ]
  },
  {
   "cell_type": "code",
   "execution_count": null,
   "id": "95cd7b3b",
   "metadata": {},
   "outputs": [],
   "source": [
    "import sysprint(f'Test 3: Python version = {sys.version}')"
   ]
  },
  {
   "cell_type": "code",
   "execution_count": null,
   "id": "bc11ff89",
   "metadata": {},
   "outputs": [],
   "source": [
    "import pandas as pddf = pd.DataFrame({'A': [1, 2, 3], 'B': [4, 5, 6]})print('Test 4: DataFrame created')print(df)"
   ]
  }
 ],
 "metadata": {
  "kernelspec": {
   "display_name": "Python 3",
   "name": "python3"
  }
 },
 "nbformat": 4,
 "nbformat_minor": 5
}
