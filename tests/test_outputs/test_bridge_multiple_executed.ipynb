{
 "cells": [
  {
   "cell_type": "code",
   "execution_count": null,
   "id": "fcb917d5ce3a",
   "metadata": {},
   "outputs": [],
   "source": [
    "import pandas as pd\n",
    "\n",
    "print(\"Cell 1: Imports complete\")"
   ]
  },
  {
   "cell_type": "code",
   "execution_count": null,
   "id": "062eac72a201",
   "metadata": {},
   "outputs": [],
   "source": [
    "# Load Excel data\n",
    "file_path = r\"test_assets/collection/business-accounting/Business Accounting.xlsx\"\n",
    "sheet_name = \"Yiriden Transactions 2025\"\n",
    "df = pd.read_excel(file_path, sheet_name=sheet_name)\n",
    "print(f\"Cell 2: Loaded {len(df)} rows and {len(df.columns)} columns\")"
   ]
  },
  {
   "cell_type": "code",
   "execution_count": null,
   "id": "771ad121fc8d",
   "metadata": {},
   "outputs": [],
   "source": [
    "# Basic analysis\n",
    "print(f\"Cell 3: Data shape: {df.shape}\")\n",
    "print(f\"Cell 3: Columns: {list(df.columns)}\")"
   ]
  }
 ],
 "metadata": {
  "kernelspec": {
   "display_name": "Python 3",
   "language": "python",
   "name": "python3"
  },
  "language_info": {
   "name": "python"
  }
 },
 "nbformat": 4,
 "nbformat_minor": 5
}
