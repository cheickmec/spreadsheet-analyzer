{
 "cells": [
  {
   "cell_type": "markdown",
   "id": "02abc837",
   "metadata": {},
   "source": [
    "# Simple Test Results\n",
    "\n",
    "Generated from kernel session: 4eca6d1e-ac77-4d9a-822b-ff536531bade"
   ]
  },
  {
   "cell_type": "code",
   "execution_count": null,
   "id": "f7e8cdbe",
   "metadata": {},
   "outputs": [],
   "source": [
    "print(\"Hello from Jupyter kernel!\")"
   ]
  },
  {
   "cell_type": "code",
   "execution_count": null,
   "id": "4dc3b1af",
   "metadata": {},
   "outputs": [],
   "source": [
    "x = 2 + 2\n",
    "print(f\"2 + 2 = {x}\")"
   ]
  },
  {
   "cell_type": "code",
   "execution_count": null,
   "id": "7c38c065",
   "metadata": {},
   "outputs": [],
   "source": [
    "import pandas as pd\n",
    "\n",
    "print(f\"Pandas version: {pd.__version__}\")"
   ]
  },
  {
   "cell_type": "code",
   "execution_count": null,
   "id": "463ebbda",
   "metadata": {},
   "outputs": [],
   "source": [
    "import numpy as np\n",
    "\n",
    "data = np.array([1, 2, 3, 4, 5])\n",
    "print(f\"Data: {data}\")\n",
    "print(f\"Mean: {data.mean()}\")"
   ]
  }
 ],
 "metadata": {},
 "nbformat": 4,
 "nbformat_minor": 5
}
