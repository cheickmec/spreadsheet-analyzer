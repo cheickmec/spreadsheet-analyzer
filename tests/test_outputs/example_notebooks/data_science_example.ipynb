{
 "cells": [
  {
   "cell_type": "markdown",
   "id": "e3580cab0ac7",
   "metadata": {},
   "source": [
    "# Data Science Example"
   ]
  },
  {
   "cell_type": "code",
   "execution_count": null,
   "id": "110b1d450d33",
   "metadata": {},
   "outputs": [],
   "source": [
    "import matplotlib.pyplot as plt\n",
    "import numpy as np\n",
    "import pandas as pd"
   ]
  },
  {
   "cell_type": "code",
   "execution_count": null,
   "id": "53534208ac8e",
   "metadata": {},
   "outputs": [],
   "source": [
    "# Generate sample data\n",
    "np.random.seed(123)\n",
    "df = pd.DataFrame(\n",
    "    {\"x\": np.random.randn(100), \"y\": np.random.randn(100), \"category\": np.random.choice([\"A\", \"B\", \"C\"], 100)}\n",
    ")\n",
    "df.head()"
   ]
  },
  {
   "cell_type": "code",
   "execution_count": null,
   "id": "c44908564ade",
   "metadata": {},
   "outputs": [],
   "source": [
    "# Visualize data\n",
    "plt.figure(figsize=(10, 6))\n",
    "for cat in df[\"category\"].unique():\n",
    "    mask = df[\"category\"] == cat\n",
    "    plt.scatter(df.loc[mask, \"x\"], df.loc[mask, \"y\"], label=cat, alpha=0.6)\n",
    "plt.xlabel(\"X values\")\n",
    "plt.ylabel(\"Y values\")\n",
    "plt.title(\"Scatter Plot by Category\")\n",
    "plt.legend()\n",
    "plt.grid(True, alpha=0.3)\n",
    "plt.show()"
   ]
  }
 ],
 "metadata": {
  "kernelspec": {
   "display_name": "Python 3",
   "language": "python",
   "name": "python3"
  },
  "language_info": {
   "name": "python"
  }
 },
 "nbformat": 4,
 "nbformat_minor": 5
}
