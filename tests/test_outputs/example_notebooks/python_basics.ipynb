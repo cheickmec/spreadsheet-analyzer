{
 "cells": [
  {
   "cell_type": "markdown",
   "id": "d32773102ff3",
   "metadata": {},
   "source": [
    "# Python Basics Example"
   ]
  },
  {
   "cell_type": "code",
   "execution_count": null,
   "id": "42baf15d459c",
   "metadata": {},
   "outputs": [],
   "source": [
    "# Variables and data types\n",
    "name = \"Alice\"\n",
    "age = 30\n",
    "print(f\"{name} is {age} years old\")"
   ]
  },
  {
   "cell_type": "code",
   "execution_count": null,
   "id": "47daa9631c0d",
   "metadata": {},
   "outputs": [],
   "source": [
    "# Lists and loops\n",
    "numbers = [1, 2, 3, 4, 5]\n",
    "squares = [n**2 for n in numbers]\n",
    "print(f\"Squares: {squares}\")"
   ]
  }
 ],
 "metadata": {
  "kernelspec": {
   "display_name": "Python 3",
   "language": "python",
   "name": "python3"
  },
  "language_info": {
   "name": "python"
  }
 },
 "nbformat": 4,
 "nbformat_minor": 5
}
