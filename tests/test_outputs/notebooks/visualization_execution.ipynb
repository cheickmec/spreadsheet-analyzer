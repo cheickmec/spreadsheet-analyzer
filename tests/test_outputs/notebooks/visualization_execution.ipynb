{
 "cells": [
  {
   "cell_type": "markdown",
   "id": "9da5ef5ced41",
   "metadata": {},
   "source": [
    "# Visualization Test Notebook"
   ]
  },
  {
   "cell_type": "code",
   "execution_count": null,
   "id": "7eb32a16e643",
   "metadata": {},
   "outputs": [],
   "source": [
    "import matplotlib.pyplot as plt\n",
    "import numpy as np"
   ]
  },
  {
   "cell_type": "code",
   "execution_count": null,
   "id": "a90f43a0c379",
   "metadata": {},
   "outputs": [],
   "source": [
    "x = np.linspace(0, 10, 100)\n",
    "y = np.sin(x)\n",
    "plt.figure(figsize=(8, 6))\n",
    "plt.plot(x, y)\n",
    "plt.title(\"Sine Wave\")\n",
    "plt.xlabel(\"X\")\n",
    "plt.ylabel(\"Y\")\n",
    "plt.grid(True)\n",
    "plt.show()"
   ]
  }
 ],
 "metadata": {
  "kernelspec": {
   "display_name": "Python 3",
   "language": "python",
   "name": "python3"
  },
  "language_info": {
   "name": "python"
  }
 },
 "nbformat": 4,
 "nbformat_minor": 5
}
