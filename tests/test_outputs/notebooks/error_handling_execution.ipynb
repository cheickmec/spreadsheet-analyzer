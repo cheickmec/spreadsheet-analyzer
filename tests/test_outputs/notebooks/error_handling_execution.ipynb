{
 "cells": [
  {
   "cell_type": "markdown",
   "id": "3342e187aa07",
   "metadata": {},
   "source": [
    "# Error Handling Test Notebook"
   ]
  },
  {
   "cell_type": "code",
   "execution_count": null,
   "id": "e5afbc55c39d",
   "metadata": {},
   "outputs": [],
   "source": [
    "print(\"Before error\")"
   ]
  },
  {
   "cell_type": "code",
   "execution_count": null,
   "id": "87f9150d9b72",
   "metadata": {},
   "outputs": [],
   "source": [
    "1 / 0  # This will cause an error"
   ]
  },
  {
   "cell_type": "code",
   "execution_count": null,
   "id": "720bcca68026",
   "metadata": {},
   "outputs": [],
   "source": [
    "print(\"After error - this still runs\")"
   ]
  },
  {
   "cell_type": "code",
   "execution_count": null,
   "id": "ba52ac6b16bd",
   "metadata": {},
   "outputs": [],
   "source": [
    "# Multiple output types\n",
    "from IPython.display import HTML, Markdown\n",
    "\n",
    "display(HTML('<h3 style=\"color: red;\">Error Test</h3>'))\n",
    "display(Markdown(\"**This** is _markdown_\"))"
   ]
  }
 ],
 "metadata": {
  "kernelspec": {
   "display_name": "Python 3",
   "language": "python",
   "name": "python3"
  },
  "language_info": {
   "name": "python"
  }
 },
 "nbformat": 4,
 "nbformat_minor": 5
}
