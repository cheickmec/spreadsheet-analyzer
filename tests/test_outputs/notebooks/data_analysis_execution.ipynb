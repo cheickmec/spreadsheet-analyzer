{
 "cells": [
  {
   "cell_type": "markdown",
   "id": "e6891a343fc8",
   "metadata": {},
   "source": [
    "# Data Analysis Workflow"
   ]
  },
  {
   "cell_type": "code",
   "execution_count": null,
   "id": "546dab677189",
   "metadata": {},
   "outputs": [],
   "source": [
    "import numpy as np\n",
    "import pandas as pd\n",
    "\n",
    "np.random.seed(42)\n",
    "\n",
    "# Create sample data\n",
    "data = {\n",
    "    \"date\": pd.date_range(\"2024-01-01\", periods=30),\n",
    "    \"sales\": np.random.randint(100, 1000, 30),\n",
    "    \"profit\": np.random.randint(10, 200, 30),\n",
    "}\n",
    "df = pd.DataFrame(data)\n",
    "df.head()"
   ]
  },
  {
   "cell_type": "code",
   "execution_count": null,
   "id": "7ef525204d1f",
   "metadata": {},
   "outputs": [],
   "source": [
    "df.describe()"
   ]
  },
  {
   "cell_type": "code",
   "execution_count": null,
   "id": "d6d95a738351",
   "metadata": {},
   "outputs": [],
   "source": [
    "# Correlation analysis\n",
    "correlation = df[[\"sales\", \"profit\"]].corr()\n",
    "print(\"Correlation Matrix:\")\n",
    "correlation"
   ]
  },
  {
   "cell_type": "code",
   "execution_count": null,
   "id": "46ea68d26ce3",
   "metadata": {},
   "outputs": [],
   "source": [
    "# Visualize trends\n",
    "import matplotlib.pyplot as plt\n",
    "\n",
    "fig, (ax1, ax2) = plt.subplots(2, 1, figsize=(10, 8))\n",
    "\n",
    "ax1.plot(df[\"date\"], df[\"sales\"], marker=\"o\", color=\"blue\", label=\"Sales\")\n",
    "ax1.set_title(\"Daily Sales Trend\")\n",
    "ax1.set_ylabel(\"Sales ($)\")\n",
    "ax1.grid(True, alpha=0.3)\n",
    "ax1.legend()\n",
    "\n",
    "ax2.scatter(df[\"sales\"], df[\"profit\"], alpha=0.6)\n",
    "ax2.set_title(\"Sales vs Profit Correlation\")\n",
    "ax2.set_xlabel(\"Sales ($)\")\n",
    "ax2.set_ylabel(\"Profit ($)\")\n",
    "ax2.grid(True, alpha=0.3)\n",
    "\n",
    "plt.tight_layout()\n",
    "plt.show()"
   ]
  }
 ],
 "metadata": {
  "kernelspec": {
   "display_name": "Python 3",
   "language": "python",
   "name": "python3"
  },
  "language_info": {
   "name": "python"
  }
 },
 "nbformat": 4,
 "nbformat_minor": 5
}
