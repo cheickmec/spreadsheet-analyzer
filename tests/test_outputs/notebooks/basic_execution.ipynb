{
 "cells": [
  {
   "cell_type": "markdown",
   "id": "969b02964144",
   "metadata": {},
   "source": [
    "# Basic Test Notebook"
   ]
  },
  {
   "cell_type": "code",
   "execution_count": null,
   "id": "016f66647002",
   "metadata": {},
   "outputs": [],
   "source": [
    "print(\"Hello, World!\")"
   ]
  },
  {
   "cell_type": "code",
   "execution_count": null,
   "id": "059045ad8cca",
   "metadata": {},
   "outputs": [],
   "source": [
    "2 + 2"
   ]
  },
  {
   "cell_type": "code",
   "execution_count": null,
   "id": "833fd4c0dff4",
   "metadata": {},
   "outputs": [],
   "source": [
    "import pandas as pd\n",
    "\n",
    "df = pd.DataFrame({\"A\": [1, 2, 3], \"B\": [4, 5, 6]})\n",
    "df"
   ]
  }
 ],
 "metadata": {
  "kernelspec": {
   "display_name": "Python 3",
   "language": "python",
   "name": "python3"
  },
  "language_info": {
   "name": "python"
  }
 },
 "nbformat": 4,
 "nbformat_minor": 5
}
