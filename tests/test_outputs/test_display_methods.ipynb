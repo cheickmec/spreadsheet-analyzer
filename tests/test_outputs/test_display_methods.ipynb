{
 "cells": [
  {
   "cell_type": "markdown",
   "id": "3ba0115ba634",
   "metadata": {},
   "source": [
    "# Testing Display Methods"
   ]
  },
  {
   "cell_type": "code",
   "execution_count": null,
   "id": "a1683306c03f",
   "metadata": {},
   "outputs": [],
   "source": [
    "print(\"Test 1: Simple print works!\")"
   ]
  },
  {
   "cell_type": "code",
   "execution_count": null,
   "id": "9d79ccdbcf27",
   "metadata": {},
   "outputs": [],
   "source": [
    "from IPython.display import display\n",
    "\n",
    "display(\"Test 2: IPython display\")"
   ]
  },
  {
   "cell_type": "code",
   "execution_count": null,
   "id": "a77746219618",
   "metadata": {},
   "outputs": [],
   "source": [
    "import pandas as pd\n",
    "\n",
    "df = pd.DataFrame({\"A\": [1, 2, 3], \"B\": [4, 5, 6]})\n",
    "print(\"Test 3a: DataFrame with print:\")\n",
    "print(df)\n",
    "print(\"\\nTest 3b: DataFrame with display:\")\n",
    "display(df)"
   ]
  },
  {
   "cell_type": "code",
   "execution_count": null,
   "id": "7133ea9cdfbf",
   "metadata": {},
   "outputs": [],
   "source": [
    "import matplotlib.pyplot as plt\n",
    "\n",
    "plt.figure(figsize=(4, 3))\n",
    "plt.plot([1, 2, 3], [4, 5, 6])\n",
    "plt.title(\"Test 4: Matplotlib plot\")\n",
    "print(\"Before plt.show()\")\n",
    "plt.show()\n",
    "print(\"After plt.show()\")"
   ]
  },
  {
   "cell_type": "code",
   "execution_count": null,
   "id": "165540cb3692",
   "metadata": {},
   "outputs": [],
   "source": [
    "# Test 5: Just returning a value\n",
    "df = pd.DataFrame({\"X\": [7, 8, 9]})\n",
    "df  # This should display in Jupyter"
   ]
  }
 ],
 "metadata": {
  "kernelspec": {
   "display_name": "Python 3",
   "language": "python",
   "name": "python3"
  },
  "language_info": {
   "name": "python"
  }
 },
 "nbformat": 4,
 "nbformat_minor": 5
}
