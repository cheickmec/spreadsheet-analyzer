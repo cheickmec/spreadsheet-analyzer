{
 "cells": [
  {
   "cell_type": "code",
   "execution_count": null,
   "id": "12f1060a2b3c",
   "metadata": {},
   "outputs": [],
   "source": [
    "# Load Excel data\n",
    "file_path = r\"test_assets/collection/business-accounting/Business Accounting.xlsx\"\n",
    "sheet_name = \"Yiriden Transactions 2025\"\n",
    "\n",
    "try:\n",
    "    import pandas as pd\n",
    "\n",
    "    df = pd.read_excel(file_path, sheet_name=sheet_name)\n",
    "    print(f\"✅ Successfully loaded {len(df)} rows and {len(df.columns)} columns from Yiriden Transactions 2025\")\n",
    "    print(f\"📊 Data shape: {df.shape}\")\n",
    "except Exception as e:\n",
    "    print(f\"❌ Error loading data: {e}\")\n",
    "    df = pd.DataFrame()  # Empty fallback"
   ]
  }
 ],
 "metadata": {
  "kernelspec": {
   "display_name": "Python 3",
   "language": "python",
   "name": "python3"
  },
  "language_info": {
   "name": "python"
  }
 },
 "nbformat": 4,
 "nbformat_minor": 5
}
