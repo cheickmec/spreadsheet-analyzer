{
  "cells": [
    {
      "cell_type": "code",
      "execution_count": 1,
      "id": "386c61da",
      "metadata": {
        "cell_id": "8cbcc664-3bfb-4f32-8d29-7718f0738754"
      },
      "outputs": [
        {
          "data": {
            "text/html": [
              "<div>\n",
              "<style scoped>\n",
              "    .dataframe tbody tr th:only-of-type {\n",
              "        vertical-align: middle;\n",
              "    }\n",
              "\n",
              "    .dataframe tbody tr th {\n",
              "        vertical-align: top;\n",
              "    }\n",
              "\n",
              "    .dataframe thead th {\n",
              "        text-align: right;\n",
              "    }\n",
              "</style>\n",
              "<table border=\"1\" class=\"dataframe\">\n",
              "  <thead>\n",
              "    <tr style=\"text-align: right;\">\n",
              "      <th></th>\n",
              "      <th>Product</th>\n",
              "      <th>Quantity</th>\n",
              "      <th>Price</th>\n",
              "      <th>Total</th>\n",
              "    </tr>\n",
              "  </thead>\n",
              "  <tbody>\n",
              "    <tr>\n",
              "      <th>0</th>\n",
              "      <td>Widget A</td>\n",
              "      <td>10.0</td>\n",
              "      <td>15.99</td>\n",
              "      <td>NaN</td>\n",
              "    </tr>\n",
              "    <tr>\n",
              "      <th>1</th>\n",
              "      <td>Widget B</td>\n",
              "      <td>5.0</td>\n",
              "      <td>22.50</td>\n",
              "      <td>NaN</td>\n",
              "    </tr>\n",
              "    <tr>\n",
              "      <th>2</th>\n",
              "      <td>Widget C</td>\n",
              "      <td>7.0</td>\n",
              "      <td>18.75</td>\n",
              "      <td>NaN</td>\n",
              "    </tr>\n",
              "    <tr>\n",
              "      <th>3</th>\n",
              "      <td>Widget D</td>\n",
              "      <td>3.0</td>\n",
              "      <td>45.00</td>\n",
              "      <td>NaN</td>\n",
              "    </tr>\n",
              "    <tr>\n",
              "      <th>4</th>\n",
              "      <td>Total</td>\n",
              "      <td>NaN</td>\n",
              "      <td>NaN</td>\n",
              "      <td>NaN</td>\n",
              "    </tr>\n",
              "  </tbody>\n",
              "</table>\n",
              "</div>"
            ],
            "text/plain": [
              "    Product  Quantity  Price  Total\n",
              "0  Widget A      10.0  15.99    NaN\n",
              "1  Widget B       5.0  22.50    NaN\n",
              "2  Widget C       7.0  18.75    NaN\n",
              "3  Widget D       3.0  45.00    NaN\n",
              "4     Total       NaN    NaN    NaN"
            ]
          },
          "execution_count": 1,
          "metadata": {},
          "output_type": "execute_result"
        }
      ],
      "source": [
        "import pandas as pd",
        "",
        "# Load the Excel data into a pandas DataFrame",
        "data = pd.read_excel('/Users/cheickberthe/PycharmProjects/spreadsheet-analyzer/test_assets/generated/simple_test.xlsx')",
        "",
        "# Display the first five rows of the DataFrame",
        "data.head()"
      ]
    },
    {
      "cell_type": "code",
      "execution_count": 2,
      "id": "f4e6f771",
      "metadata": {
        "cell_id": "a9ec8855-6ed1-49a3-874a-b11ea8be37b0"
      },
      "outputs": [
        {
          "name": "stdout",
          "output_type": "stream",
          "text": [
            "<class 'pandas.core.frame.DataFrame'>\nRangeIndex: 5 entries, 0 to 4\nData columns (total 4 columns):\n #   Column    Non-Null Count  Dtype  \n---  ------    --------------  -----  \n 0   Product   5 non-null      object \n 1   Quantity  4 non-null      float64\n 2   Price     4 non-null      float64\n 3   Total     0 non-null      float64\ndtypes: float64(3), object(1)\nmemory usage: 292.0+ bytes\n"
          ]
        }
      ],
      "source": [
        "# Display basic information about the DataFrame",
        "data.info()"
      ]
    },
    {
      "cell_type": "code",
      "execution_count": 3,
      "id": "e42b019e",
      "metadata": {
        "cell_id": "8cbcc664-3bfb-4f32-8d29-7718f0738754"
      },
      "outputs": [
        {
          "data": {
            "text/html": [
              "<div>\n",
              "<style scoped>\n",
              "    .dataframe tbody tr th:only-of-type {\n",
              "        vertical-align: middle;\n",
              "    }\n",
              "\n",
              "    .dataframe tbody tr th {\n",
              "        vertical-align: top;\n",
              "    }\n",
              "\n",
              "    .dataframe thead th {\n",
              "        text-align: right;\n",
              "    }\n",
              "</style>\n",
              "<table border=\"1\" class=\"dataframe\">\n",
              "  <thead>\n",
              "    <tr style=\"text-align: right;\">\n",
              "      <th></th>\n",
              "      <th>Product</th>\n",
              "      <th>Quantity</th>\n",
              "      <th>Price</th>\n",
              "      <th>Total</th>\n",
              "    </tr>\n",
              "  </thead>\n",
              "  <tbody>\n",
              "    <tr>\n",
              "      <th>0</th>\n",
              "      <td>Widget A</td>\n",
              "      <td>10.0</td>\n",
              "      <td>15.99</td>\n",
              "      <td>159.90</td>\n",
              "    </tr>\n",
              "    <tr>\n",
              "      <th>1</th>\n",
              "      <td>Widget B</td>\n",
              "      <td>5.0</td>\n",
              "      <td>22.50</td>\n",
              "      <td>112.50</td>\n",
              "    </tr>\n",
              "    <tr>\n",
              "      <th>2</th>\n",
              "      <td>Widget C</td>\n",
              "      <td>7.0</td>\n",
              "      <td>18.75</td>\n",
              "      <td>131.25</td>\n",
              "    </tr>\n",
              "    <tr>\n",
              "      <th>3</th>\n",
              "      <td>Widget D</td>\n",
              "      <td>3.0</td>\n",
              "      <td>45.00</td>\n",
              "      <td>135.00</td>\n",
              "    </tr>\n",
              "    <tr>\n",
              "      <th>4</th>\n",
              "      <td>Total</td>\n",
              "      <td>25.0</td>\n",
              "      <td>102.24</td>\n",
              "      <td>538.65</td>\n",
              "    </tr>\n",
              "  </tbody>\n",
              "</table>\n",
              "</div>"
            ],
            "text/plain": [
              "    Product  Quantity   Price   Total\n",
              "0  Widget A      10.0   15.99  159.90\n",
              "1  Widget B       5.0   22.50  112.50\n",
              "2  Widget C       7.0   18.75  131.25\n",
              "3  Widget D       3.0   45.00  135.00\n",
              "4     Total      25.0  102.24  538.65"
            ]
          },
          "execution_count": 3,
          "metadata": {},
          "output_type": "execute_result"
        }
      ],
      "source": [
        "data['Total'] = data['Quantity'] * data['Price']",
        "data.loc[4, 'Quantity'] = data['Quantity'].sum()",
        "data.loc[4, 'Price'] = data['Price'].sum()",
        "data.loc[4, 'Total'] = data['Total'].sum()",
        "data"
      ]
    },
    {
      "cell_type": "code",
      "execution_count": 4,
      "id": "6d293807",
      "metadata": {
        "cell_id": "1eb19ab5-a28e-4493-b8c1-92220d6203af"
      },
      "outputs": [
        {
          "data": {
            "image/png": "[encoded data removed]",
            "text/plain": [
              "<Figure size 640x480 with 1 Axes>"
            ]
          },
          "metadata": {},
          "output_type": "display_data"
        }
      ],
      "source": [
        "import matplotlib.pyplot as plt",
        "",
        "# Define the data to plot",
        "products = data['Product'][:-1]",
        "revenue = data['Total'][:-1]",
        "",
        "# Create the bar plot",
        "plt.bar(products, revenue)",
        "plt.title('Revenue Generated from Each Product')",
        "plt.xlabel('Product')",
        "plt.ylabel('Total Revenue Generated')",
        "plt.show()"
      ]
    }
  ],
  "metadata": {
    "kernelspec": {
      "display_name": "Python 3",
      "name": "python3"
    }
  },
  "nbformat": 4,
  "nbformat_minor": 5
}
