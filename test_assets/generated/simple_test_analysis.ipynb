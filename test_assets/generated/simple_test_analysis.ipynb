{
  "cells": [
    {
      "cell_type": "markdown",
      "id": "76663c7a",
      "metadata": {
        "cell_id": "52e02300-5d4f-41e6-b3cc-584def1733ea"
      },
      "source": [
        "# 📊 Excel Analysis Report\n",
        "\n",
        "**File:** `simple_test.xlsx`  \n",
        "**Analysis Time:** `2025-07-29 00:48:33`  \n",
        "**Execution Time:** `0.01 seconds`  \n",
        "**Status:** ✅ Success\n",
        "\n",
        "---\n"
      ]
    },
    {
      "cell_type": "markdown",
      "id": "f9ec3d6b",
      "metadata": {
        "cell_id": "23fb4117-2dd1-47c9-913e-19392f32ed11"
      },
      "source": [
        "## 🔒 File Integrity Analysis\n",
        "\n",
        "**File Hash:** `0cc331c0a36af68d...`  \n",
        "**File Size:** 0.01 MB  \n",
        "**MIME Type:** application/vnd.openxmlformats-officedocument.spreadsheetml.sheet  \n",
        "**Excel Format:** ✅ Valid Excel  \n",
        "**Trust Level:** ⭐⭐⭐⭐ (4/5)  \n",
        "**Processing Class:** STANDARD\n"
      ]
    },
    {
      "cell_type": "markdown",
      "id": "80bc48d9",
      "metadata": {
        "cell_id": "eb1c7451-4537-4994-8385-a8f32c0898fe"
      },
      "source": [
        "## 🛡️ Security Analysis\n",
        "\n",
        "**Risk Level:** 🟢 LOW  \n",
        "**Safe to Process:** ✅ Yes  \n",
        "**Threats Found:** 0\n"
      ]
    },
    {
      "cell_type": "markdown",
      "id": "51d02c37",
      "metadata": {
        "cell_id": "c2e07e13-f2fb-4440-888a-6abf81bef109"
      },
      "source": [
        "## 📋 Structural Analysis\n",
        "\n",
        "**Total Sheets:** 2  \n",
        "**Total Cells with Data:** 31  \n",
        "**Total Formulas:** 9  \n",
        "**Named Ranges:** 0  \n",
        "**Complexity Score:** 39/100\n",
        "\n",
        "### Sheet Details:\n",
        "- **Summary**: 6 rows × 4 cols, 5 formulas\n",
        "- **Details**: 4 rows × 3 cols, 4 formulas\n"
      ]
    },
    {
      "cell_type": "markdown",
      "id": "34cc851d",
      "metadata": {
        "cell_id": "beb4b0b5-308c-4f8f-8827-12f6a7a41bd8"
      },
      "source": [
        "## 🔗 Formula Analysis\n",
        "\n",
        "**Total Formulas:** 9  \n",
        "**Max Dependency Depth:** 2 levels  \n",
        "**Formula Complexity Score:** 16.13/100  \n",
        "**Circular References:** ⚠️ Yes  \n",
        "**Volatile Formulas:** 0  \n",
        "**External References:** 0\n",
        "\n",
        "### ⚠️ Circular References Found:\n",
        "1. `Details!C4` → `Details!B4`\n"
      ]
    },
    {
      "cell_type": "markdown",
      "id": "dba9b178",
      "metadata": {
        "cell_id": "ae87489d-43fa-479a-b115-8b13b106f6b3"
      },
      "source": [
        "## 📊 Content Analysis\n",
        "\n",
        "**Data Quality Score:** 🔴 40/100  \n",
        "**Patterns Found:** 0  \n",
        "**Insights Generated:** 5\n",
        "\n",
        "### Summary:\n",
        "Analyzed 2 sheets found 0 data patterns generated 5 insights. Overall data quality is poor (40%).\n",
        "\n",
        "### 💡 Key Insights:\n",
        "\n",
        "**Incomplete data in Summary** 🔴\n",
        "Found 4 columns with less than 50% data completeness\n",
        "- **Recommendation:** Review and fill missing data or document why values are missing\n",
        "\n",
        "**Incomplete data in Details** 🔴\n",
        "Found 3 columns with less than 50% data completeness\n",
        "- **Recommendation:** Review and fill missing data or document why values are missing\n",
        "\n",
        "**Low overall data quality** 🔴\n",
        "Average data quality score is 40%\n",
        "- **Recommendation:** Review data entry processes and validation rules\n",
        "\n",
        "**Poor data quality in Summary** 🔴\n",
        "Data quality score is only 47%\n",
        "- **Recommendation:** Focus on improving data consistency and completeness\n",
        "\n",
        "**Poor data quality in Details** 🔴\n",
        "Data quality score is only 33%\n",
        "- **Recommendation:** Focus on improving data consistency and completeness\n"
      ]
    },
    {
      "cell_type": "markdown",
      "id": "62a9e2e2",
      "metadata": {
        "cell_id": "ddc88bd5-0eba-4ac8-b7c7-54759529a49d"
      },
      "source": [
        "## 📌 Analysis Summary\n",
        "\n",
        "### ✅ Completed Analysis Stages:\n",
        "- ✓ File Integrity Check\n",
        "- ✓ Security Scan\n",
        "- ✓ Structural Analysis\n",
        "- ✓ Formula Analysis\n",
        "- ✓ Content Intelligence\n",
        "\n",
        "---\n",
        "\n",
        "*This analysis was generated using the deterministic pipeline. Additional interactive analysis can be performed using the cells below.*"
      ]
    },
    {
      "cell_type": "code",
      "execution_count": 1,
      "id": "41bf0930",
      "metadata": {
        "cell_id": "44b44ab9-a686-43f7-999a-10564fdb07fd"
      },
      "outputs": [
        {
          "name": "stdout",
          "output_type": "stream",
          "text": [
            "Loading data from: /Users/cheickberthe/PycharmProjects/spreadsheet-analyzer/test_assets/generated/simple_test.xlsx\n\nLoaded data with shape: (5, 4)\nColumns: ['Product', 'Quantity', 'Price', 'Total']\n\nFirst 5 rows:\n"
          ]
        },
        {
          "data": {
            "text/html": [
              "<div>\n",
              "<style scoped>\n",
              "    .dataframe tbody tr th:only-of-type {\n",
              "        vertical-align: middle;\n",
              "    }\n",
              "\n",
              "    .dataframe tbody tr th {\n",
              "        vertical-align: top;\n",
              "    }\n",
              "\n",
              "    .dataframe thead th {\n",
              "        text-align: right;\n",
              "    }\n",
              "</style>\n",
              "<table border=\"1\" class=\"dataframe\">\n",
              "  <thead>\n",
              "    <tr style=\"text-align: right;\">\n",
              "      <th></th>\n",
              "      <th>Product</th>\n",
              "      <th>Quantity</th>\n",
              "      <th>Price</th>\n",
              "      <th>Total</th>\n",
              "    </tr>\n",
              "  </thead>\n",
              "  <tbody>\n",
              "    <tr>\n",
              "      <th>0</th>\n",
              "      <td>Widget A</td>\n",
              "      <td>10.0</td>\n",
              "      <td>15.99</td>\n",
              "      <td>NaN</td>\n",
              "    </tr>\n",
              "    <tr>\n",
              "      <th>1</th>\n",
              "      <td>Widget B</td>\n",
              "      <td>5.0</td>\n",
              "      <td>22.50</td>\n",
              "      <td>NaN</td>\n",
              "    </tr>\n",
              "    <tr>\n",
              "      <th>2</th>\n",
              "      <td>Widget C</td>\n",
              "      <td>7.0</td>\n",
              "      <td>18.75</td>\n",
              "      <td>NaN</td>\n",
              "    </tr>\n",
              "    <tr>\n",
              "      <th>3</th>\n",
              "      <td>Widget D</td>\n",
              "      <td>3.0</td>\n",
              "      <td>45.00</td>\n",
              "      <td>NaN</td>\n",
              "    </tr>\n",
              "    <tr>\n",
              "      <th>4</th>\n",
              "      <td>Total</td>\n",
              "      <td>NaN</td>\n",
              "      <td>NaN</td>\n",
              "      <td>NaN</td>\n",
              "    </tr>\n",
              "  </tbody>\n",
              "</table>\n",
              "</div>"
            ],
            "text/plain": [
              "    Product  Quantity  Price  Total\n",
              "0  Widget A      10.0  15.99    NaN\n",
              "1  Widget B       5.0  22.50    NaN\n",
              "2  Widget C       7.0  18.75    NaN\n",
              "3  Widget D       3.0  45.00    NaN\n",
              "4     Total       NaN    NaN    NaN"
            ]
          },
          "metadata": {},
          "output_type": "display_data"
        },
        {
          "name": "stdout",
          "output_type": "stream",
          "text": [
            "\nData types:\nProduct      object\nQuantity    float64\nPrice       float64\nTotal       float64\ndtype: object\n"
          ]
        }
      ],
      "source": [
        "import pandas as pd\n",
        "import numpy as np\n",
        "import matplotlib.pyplot as plt\n",
        "import seaborn as sns\n",
        "from pathlib import Path\n",
        "\n",
        "# Load the Excel file\n",
        "excel_path = Path(r\"/Users/cheickberthe/PycharmProjects/spreadsheet-analyzer/test_assets/generated/simple_test.xlsx\")\n",
        "print(f\"Loading data from: {excel_path}\")\n",
        "\n",
        "try:\n",
        "    # Try to read the first sheet\n",
        "    df = pd.read_excel(excel_path)\n",
        "    print(f\"\\nLoaded data with shape: {df.shape}\")\n",
        "    print(f\"Columns: {list(df.columns)}\")\n",
        "    \n",
        "    # Display first few rows\n",
        "    print(\"\\nFirst 5 rows:\")\n",
        "    display(df.head())\n",
        "    \n",
        "    # Basic info\n",
        "    print(\"\\nData types:\")\n",
        "    print(df.dtypes)\n",
        "    \n",
        "except Exception as e:\n",
        "    print(f\"Error loading Excel file: {e}\")\n",
        "    df = None\n"
      ]
    },
    {
      "cell_type": "markdown",
      "id": "2ba01a57",
      "metadata": {
        "cell_id": "a0d84f7d-7b83-411f-a5bc-da0a7174cd0d"
      },
      "source": [
        "## 🔍 Formula Dependency Query Interface\n",
        "\n",
        "The deterministic pipeline has created a formula dependency graph. You can explore it using the `query_interface` object:\n",
        "\n",
        "### Available Query Methods:\n",
        "\n",
        "1. **Get Cell Dependencies**\n",
        "   ```python\n",
        "   result = query_interface.get_cell_dependencies(\"Summary\", \"D2\")\n",
        "   ```\n",
        "\n",
        "2. **Find Cells Affecting a Range**\n",
        "   ```python\n",
        "   affecting = query_interface.find_cells_affecting_range(\"Summary\", \"A1\", \"D5\")\n",
        "   ```\n",
        "\n",
        "3. **Find Empty Cells in Formula Ranges**\n",
        "   ```python\n",
        "   empty_cells = query_interface.find_empty_cells_in_formula_ranges(\"Summary\")\n",
        "   ```\n",
        "\n",
        "4. **Get Formula Statistics**\n",
        "   ```python\n",
        "   stats = query_interface.get_formula_statistics_with_ranges()\n",
        "   ```\n",
        "\n",
        "### Example Usage:\n"
      ]
    },
    {
      "cell_type": "code",
      "execution_count": 2,
      "id": "e2c87e2f",
      "metadata": {
        "cell_id": "0a0bcbf0-0203-4d86-b85b-1830546184e7"
      },
      "outputs": [
        {
          "name": "stdout",
          "output_type": "stream",
          "text": [
            "✅ Graph query interface tools loaded!\n\nAvailable functions:\n  - analyze_cell_dependencies(sheet_name, cell_ref)\n  - find_range_gaps(sheet_name)\n\nNote: The actual query_interface will be populated when integrated with the LLM tools.\n"
          ]
        }
      ],
      "source": [
        "# Formula dependency graph query interface is available\n",
        "from spreadsheet_analyzer.graph_db.query_interface import create_enhanced_query_interface\n",
        "\n",
        "# The query interface was created from the pipeline analysis\n",
        "# Note: This is a placeholder - in production, we would pass the actual pipeline result\n",
        "query_interface = None  # Will be set by the notebook session\n",
        "\n",
        "# Example: Analyze dependencies for a specific cell\n",
        "def analyze_cell_dependencies(sheet_name, cell_ref):\n",
        "    \"\"\"Analyze all dependencies for a specific cell.\"\"\"\n",
        "    if not query_interface:\n",
        "        print(\"Query interface not available. Run the deterministic pipeline first.\")\n",
        "        return\n",
        "    \n",
        "    result = query_interface.get_cell_dependencies(sheet_name, cell_ref)\n",
        "    \n",
        "    print(f\"\\n📊 Analysis for {sheet_name}!{cell_ref}:\")\n",
        "    print(f\"Has formula: {result.has_formula}\")\n",
        "    if result.formula:\n",
        "        print(f\"Formula: {result.formula}\")\n",
        "    print(f\"\\nDirect dependencies: {len(result.direct_dependencies)}\")\n",
        "    for dep in result.direct_dependencies:\n",
        "        print(f\"  - {dep}\")\n",
        "    print(f\"\\nRange dependencies: {len(result.range_dependencies)}\")\n",
        "    for dep in result.range_dependencies:\n",
        "        print(f\"  - {dep}\")\n",
        "    print(f\"\\nCells that depend on this: {len(result.direct_dependents)}\")\n",
        "    for dep in result.direct_dependents:\n",
        "        print(f\"  - {dep}\")\n",
        "    \n",
        "    return result\n",
        "\n",
        "# Example: Find all empty cells that are part of formula ranges\n",
        "def find_range_gaps(sheet_name):\n",
        "    \"\"\"Find empty cells that are included in formula ranges.\"\"\"\n",
        "    if not query_interface:\n",
        "        print(\"Query interface not available. Run the deterministic pipeline first.\")\n",
        "        return\n",
        "    \n",
        "    empty_cells = query_interface.find_empty_cells_in_formula_ranges(sheet_name)\n",
        "    print(f\"\\n🔍 Empty cells in formula ranges for {sheet_name}:\")\n",
        "    print(f\"Found {len(empty_cells)} empty cells that are part of formula ranges:\")\n",
        "    for cell in empty_cells[:10]:  # Show first 10\n",
        "        print(f\"  - {cell}\")\n",
        "    if len(empty_cells) > 10:\n",
        "        print(f\"  ... and {len(empty_cells) - 10} more\")\n",
        "    \n",
        "    return empty_cells\n",
        "\n",
        "print(\"✅ Graph query interface tools loaded!\")\n",
        "print(\"\\nAvailable functions:\")\n",
        "print(\"  - analyze_cell_dependencies(sheet_name, cell_ref)\")\n",
        "print(\"  - find_range_gaps(sheet_name)\")\n",
        "print(\"\\nNote: The actual query_interface will be populated when integrated with the LLM tools.\")\n"
      ]
    }
  ],
  "metadata": {
    "kernelspec": {
      "display_name": "Python 3",
      "name": "python3"
    }
  },
  "nbformat": 4,
  "nbformat_minor": 5
}
