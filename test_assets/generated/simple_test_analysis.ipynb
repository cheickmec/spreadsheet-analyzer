{
  "cells": [
    {
      "cell_type": "markdown",
      "id": "da33bf89",
      "metadata": {
        "cell_id": "856b04d3-0414-4aa3-a696-08b1703f9803"
      },
      "source": [
        "# 📊 Excel Analysis Report\n",
        "\n",
        "**File:** `simple_test.xlsx`\n",
        "**Analysis Time:** `2025-07-29 02:58:23`\n",
        "**Execution Time:** `0.01 seconds`\n",
        "**Status:** ✅ Success\n",
        "\n",
        "---\n"
      ]
    },
    {
      "cell_type": "markdown",
      "id": "6ec66614",
      "metadata": {
        "cell_id": "006ecacd-f31d-452d-beeb-e6be45d18fe5"
      },
      "source": [
        "## 🔒 File Integrity Analysis\n",
        "\n",
        "**File Hash:** `0cc331c0a36af68d...`\n",
        "**File Size:** 0.01 MB\n",
        "**MIME Type:** application/vnd.openxmlformats-officedocument.spreadsheetml.sheet\n",
        "**Excel Format:** ✅ Valid Excel\n",
        "**Trust Level:** ⭐⭐⭐⭐ (4/5)\n",
        "**Processing Class:** STANDARD\n"
      ]
    },
    {
      "cell_type": "markdown",
      "id": "1966697a",
      "metadata": {
        "cell_id": "94522583-73f4-4f80-b1ce-6b243114f500"
      },
      "source": [
        "## 🛡️ Security Analysis\n",
        "\n",
        "**Risk Level:** 🟢 LOW\n",
        "**Safe to Process:** ✅ Yes\n",
        "**Threats Found:** 0\n"
      ]
    },
    {
      "cell_type": "markdown",
      "id": "a4a9420c",
      "metadata": {
        "cell_id": "85bc3a4a-c9bb-4428-ba05-f4622ccd6ef7"
      },
      "source": [
        "## 📋 Structural Analysis\n",
        "\n",
        "**Total Sheets:** 2\n",
        "**Total Cells with Data:** 31\n",
        "**Total Formulas:** 9\n",
        "**Named Ranges:** 0\n",
        "**Complexity Score:** 39/100\n",
        "\n",
        "### Sheet Details:\n",
        "- **Summary**: 6 rows × 4 cols, 5 formulas\n",
        "- **Details**: 4 rows × 3 cols, 4 formulas\n"
      ]
    },
    {
      "cell_type": "markdown",
      "id": "75a6318b",
      "metadata": {
        "cell_id": "6b5ef7ae-a204-467a-8e4a-2fd143419635"
      },
      "source": [
        "## 🔗 Formula Analysis\n",
        "\n",
        "**Total Formulas:** 9\n",
        "**Max Dependency Depth:** 2 levels\n",
        "**Formula Complexity Score:** 16.13/100\n",
        "**Circular References:** ⚠️ Yes\n",
        "**Volatile Formulas:** 0\n",
        "**External References:** 0\n",
        "\n",
        "### ⚠️ Circular References Found:\n",
        "1. `Details!C4` → `Details!B4`\n"
      ]
    },
    {
      "cell_type": "markdown",
      "id": "991253d6",
      "metadata": {
        "cell_id": "c622b4da-7557-4da5-9ea1-be9b5a3e95f7"
      },
      "source": [
        "## 📊 Content Analysis\n",
        "\n",
        "**Data Quality Score:** 🔴 40/100\n",
        "**Patterns Found:** 0\n",
        "**Insights Generated:** 5\n",
        "\n",
        "### Summary:\n",
        "Analyzed 2 sheets found 0 data patterns generated 5 insights. Overall data quality is poor (40%).\n",
        "\n",
        "### 💡 Key Insights:\n",
        "\n",
        "**Incomplete data in Summary** 🔴\n",
        "Found 4 columns with less than 50% data completeness\n",
        "- **Recommendation:** Review and fill missing data or document why values are missing\n",
        "\n",
        "**Incomplete data in Details** 🔴\n",
        "Found 3 columns with less than 50% data completeness\n",
        "- **Recommendation:** Review and fill missing data or document why values are missing\n",
        "\n",
        "**Low overall data quality** 🔴\n",
        "Average data quality score is 40%\n",
        "- **Recommendation:** Review data entry processes and validation rules\n",
        "\n",
        "**Poor data quality in Summary** 🔴\n",
        "Data quality score is only 47%\n",
        "- **Recommendation:** Focus on improving data consistency and completeness\n",
        "\n",
        "**Poor data quality in Details** 🔴\n",
        "Data quality score is only 33%\n",
        "- **Recommendation:** Focus on improving data consistency and completeness\n"
      ]
    },
    {
      "cell_type": "markdown",
      "id": "79665443",
      "metadata": {
        "cell_id": "12503084-0764-42fa-ac62-56d8f021d71f"
      },
      "source": [
        "## 📌 Analysis Summary\n",
        "\n",
        "### ✅ Completed Analysis Stages:\n",
        "- ✓ File Integrity Check\n",
        "- ✓ Security Scan\n",
        "- ✓ Structural Analysis\n",
        "- ✓ Formula Analysis\n",
        "- ✓ Content Intelligence\n",
        "\n",
        "---\n",
        "\n",
        "*This analysis was generated using the deterministic pipeline. Additional interactive analysis can be performed using the cells below.*"
      ]
    },
    {
      "cell_type": "code",
      "execution_count": 1,
      "id": "1799d4ff",
      "metadata": {
        "cell_id": "a808652a-51e9-451b-a07f-6fd347d89519"
      },
      "outputs": [
        {
          "name": "stdout",
          "output_type": "stream",
          "text": [
            "Loading data from: test_assets/generated/simple_test.xlsx\n\nLoaded data with shape: (5, 4)\nColumns: ['Product', 'Quantity', 'Price', 'Total']\n\nFirst 5 rows:\n"
          ]
        },
        {
          "data": {
            "text/html": [
              "<div>\n",
              "<style scoped>\n",
              "    .dataframe tbody tr th:only-of-type {\n",
              "        vertical-align: middle;\n",
              "    }\n",
              "\n",
              "    .dataframe tbody tr th {\n",
              "        vertical-align: top;\n",
              "    }\n",
              "\n",
              "    .dataframe thead th {\n",
              "        text-align: right;\n",
              "    }\n",
              "</style>\n",
              "<table border=\"1\" class=\"dataframe\">\n",
              "  <thead>\n",
              "    <tr style=\"text-align: right;\">\n",
              "      <th></th>\n",
              "      <th>Product</th>\n",
              "      <th>Quantity</th>\n",
              "      <th>Price</th>\n",
              "      <th>Total</th>\n",
              "    </tr>\n",
              "  </thead>\n",
              "  <tbody>\n",
              "    <tr>\n",
              "      <th>0</th>\n",
              "      <td>Widget A</td>\n",
              "      <td>10.0</td>\n",
              "      <td>15.99</td>\n",
              "      <td>NaN</td>\n",
              "    </tr>\n",
              "    <tr>\n",
              "      <th>1</th>\n",
              "      <td>Widget B</td>\n",
              "      <td>5.0</td>\n",
              "      <td>22.50</td>\n",
              "      <td>NaN</td>\n",
              "    </tr>\n",
              "    <tr>\n",
              "      <th>2</th>\n",
              "      <td>Widget C</td>\n",
              "      <td>7.0</td>\n",
              "      <td>18.75</td>\n",
              "      <td>NaN</td>\n",
              "    </tr>\n",
              "    <tr>\n",
              "      <th>3</th>\n",
              "      <td>Widget D</td>\n",
              "      <td>3.0</td>\n",
              "      <td>45.00</td>\n",
              "      <td>NaN</td>\n",
              "    </tr>\n",
              "    <tr>\n",
              "      <th>4</th>\n",
              "      <td>Total</td>\n",
              "      <td>NaN</td>\n",
              "      <td>NaN</td>\n",
              "      <td>NaN</td>\n",
              "    </tr>\n",
              "  </tbody>\n",
              "</table>\n",
              "</div>"
            ],
            "text/plain": [
              "    Product  Quantity  Price  Total\n",
              "0  Widget A      10.0  15.99    NaN\n",
              "1  Widget B       5.0  22.50    NaN\n",
              "2  Widget C       7.0  18.75    NaN\n",
              "3  Widget D       3.0  45.00    NaN\n",
              "4     Total       NaN    NaN    NaN"
            ]
          },
          "metadata": {},
          "output_type": "display_data"
        },
        {
          "name": "stdout",
          "output_type": "stream",
          "text": [
            "\nData types:\nProduct      object\nQuantity    float64\nPrice       float64\nTotal       float64\ndtype: object\n"
          ]
        }
      ],
      "source": [
        "import pandas as pd\n",
        "from pathlib import Path\n",
        "\n",
        "# Load the Excel file (path relative to repo root)\n",
        "excel_path = Path(\"test_assets/generated/simple_test.xlsx\")\n",
        "print(f\"Loading data from: {excel_path}\")\n",
        "\n",
        "try:\n",
        "    # Try to read the first sheet\n",
        "    df = pd.read_excel(excel_path)\n",
        "    print(f\"\\nLoaded data with shape: {df.shape}\")\n",
        "    print(f\"Columns: {list(df.columns)}\")\n",
        "\n",
        "    # Display first few rows\n",
        "    print(\"\\nFirst 5 rows:\")\n",
        "    display(df.head())\n",
        "\n",
        "    # Basic info\n",
        "    print(\"\\nData types:\")\n",
        "    print(df.dtypes)\n",
        "\n",
        "except Exception as e:\n",
        "    print(f\"Error loading Excel file: {e}\")\n",
        "    df = None\n"
      ]
    },
    {
      "cell_type": "markdown",
      "id": "ef549596",
      "metadata": {
        "cell_id": "094042c3-0436-4995-9de4-95838d7cd700"
      },
      "source": [
        "## 🔍 Formula Dependency Query Tools\n",
        "\n",
        "The deterministic pipeline has analyzed all formulas and created a dependency graph. You can query this graph using the following tools:\n",
        "\n",
        "### Available Tools:\n",
        "\n",
        "1. **get_cell_dependencies** - Analyze what a cell depends on and what depends on it\n",
        "   - Parameters: `sheet` (e.g., \"Summary\"), `cell_ref` (e.g., \"D2\")\n",
        "\n",
        "2. **find_cells_affecting_range** - Find all cells that affect a specific range\n",
        "   - Parameters: `sheet`, `start_cell`, `end_cell`\n",
        "\n",
        "3. **find_empty_cells_in_formula_ranges** - Find gaps in data that formulas reference\n",
        "   - Parameters: `sheet`\n",
        "\n",
        "4. **get_formula_statistics** - Get overall statistics about formulas\n",
        "   - No parameters needed\n",
        "\n",
        "5. **find_circular_references** - Find all circular reference chains\n",
        "   - No parameters needed\n",
        "\n",
        "### Usage:\n",
        "These tools are available through the tool-calling interface. Each query will be documented in a markdown cell showing both the query and its results.\n"
      ]
    }
  ],
  "metadata": {
    "kernelspec": {
      "display_name": "Python 3",
      "name": "python3"
    }
  },
  "nbformat": 4,
  "nbformat_minor": 5
}
