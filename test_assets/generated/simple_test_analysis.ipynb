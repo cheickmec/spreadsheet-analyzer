{
 "cells": [
  {
   "cell_type": "code",
   "execution_count": null,
   "id": "a87eaede",
   "metadata": {},
   "outputs": [],
   "source": [
    "import pandas as pd# Load the datafile_path = '/Users/cheickberthe/PycharmProjects/spreadsheet-analyzer/test_assets/generated/simple_test.xlsx'data = pd.read_excel(file_path)# Show the datadata.head()"
   ]
  },
  {
   "cell_type": "code",
   "execution_count": null,
   "id": "e8cb50bc",
   "metadata": {},
   "outputs": [],
   "source": [
    "data.info()"
   ]
  }
 ],
 "metadata": {
  "kernelspec": {
   "display_name": "Python 3",
   "name": "python3"
  }
 },
 "nbformat": 4,
 "nbformat_minor": 5
}
