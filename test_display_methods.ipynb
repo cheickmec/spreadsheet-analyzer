{
 "cells": [
  {
   "cell_type": "markdown",
   "id": "3ba0115ba634",
   "metadata": {},
   "source": [
    "# Testing Display Methods"
   ]
  },
  {
   "cell_type": "code",
   "execution_count": 1,
   "id": "a1683306c03f",
   "metadata": {},
   "outputs": [
    {
     "name": "stdout",
     "output_type": "stream",
     "text": [
      "Test 1: Simple print works!\n"
     ]
    }
   ],
   "source": [
    "print(\"Test 1: Simple print works!\")"
   ]
  },
  {
   "cell_type": "code",
   "execution_count": 2,
   "id": "9d79ccdbcf27",
   "metadata": {},
   "outputs": [
    {
     "data": {
      "text/plain": "'Test 2: IPython display'"
     },
     "metadata": {},
     "output_type": "display_data"
    }
   ],
   "source": [
    "from IPython.display import display\n",
    "\n",
    "display(\"Test 2: IPython display\")"
   ]
  },
  {
   "cell_type": "code",
   "execution_count": 3,
   "id": "a77746219618",
   "metadata": {},
   "outputs": [
    {
     "name": "stdout",
     "output_type": "stream",
     "text": [
      "Test 3a: DataFrame with print:\n   A  B\n0  1  4\n1  2  5\n2  3  6\n\nTest 3b: DataFrame with display:\n"
     ]
    },
    {
     "data": {
      "text/html": "<div>\n<style scoped>\n    .dataframe tbody tr th:only-of-type {\n        vertical-align: middle;\n    }\n\n    .dataframe tbody tr th {\n        vertical-align: top;\n    }\n\n    .dataframe thead th {\n        text-align: right;\n    }\n</style>\n<table border=\"1\" class=\"dataframe\">\n  <thead>\n    <tr style=\"text-align: right;\">\n      <th></th>\n      <th>A</th>\n      <th>B</th>\n    </tr>\n  </thead>\n  <tbody>\n    <tr>\n      <th>0</th>\n      <td>1</td>\n      <td>4</td>\n    </tr>\n    <tr>\n      <th>1</th>\n      <td>2</td>\n      <td>5</td>\n    </tr>\n    <tr>\n      <th>2</th>\n      <td>3</td>\n      <td>6</td>\n    </tr>\n  </tbody>\n</table>\n</div>",
      "text/plain": "   A  B\n0  1  4\n1  2  5\n2  3  6"
     },
     "metadata": {},
     "output_type": "display_data"
    }
   ],
   "source": [
    "import pandas as pd\n",
    "\n",
    "df = pd.DataFrame({\"A\": [1, 2, 3], \"B\": [4, 5, 6]})\n",
    "print(\"Test 3a: DataFrame with print:\")\n",
    "print(df)\n",
    "print(\"\\nTest 3b: DataFrame with display:\")\n",
    "display(df)"
   ]
  },
  {
   "cell_type": "code",
   "execution_count": 4,
   "id": "7133ea9cdfbf",
   "metadata": {},
   "outputs": [
    {
     "name": "stdout",
     "output_type": "stream",
     "text": [
      "Before plt.show()\n"
     ]
    },
    {
     "data": {
      "image/png": "[encoded data removed]",
      "text/plain": "<Figure size 400x300 with 1 Axes>"
     },
     "metadata": {},
     "output_type": "display_data"
    },
    {
     "name": "stdout",
     "output_type": "stream",
     "text": [
      "After plt.show()\n"
     ]
    }
   ],
   "source": [
    "import matplotlib.pyplot as plt\n",
    "\n",
    "plt.figure(figsize=(4, 3))\n",
    "plt.plot([1, 2, 3], [4, 5, 6])\n",
    "plt.title(\"Test 4: Matplotlib plot\")\n",
    "print(\"Before plt.show()\")\n",
    "plt.show()\n",
    "print(\"After plt.show()\")"
   ]
  },
  {
   "cell_type": "code",
   "execution_count": 5,
   "id": "165540cb3692",
   "metadata": {},
   "outputs": [
    {
     "data": {
      "text/html": "<div>\n<style scoped>\n    .dataframe tbody tr th:only-of-type {\n        vertical-align: middle;\n    }\n\n    .dataframe tbody tr th {\n        vertical-align: top;\n    }\n\n    .dataframe thead th {\n        text-align: right;\n    }\n</style>\n<table border=\"1\" class=\"dataframe\">\n  <thead>\n    <tr style=\"text-align: right;\">\n      <th></th>\n      <th>X</th>\n    </tr>\n  </thead>\n  <tbody>\n    <tr>\n      <th>0</th>\n      <td>7</td>\n    </tr>\n    <tr>\n      <th>1</th>\n      <td>8</td>\n    </tr>\n    <tr>\n      <th>2</th>\n      <td>9</td>\n    </tr>\n  </tbody>\n</table>\n</div>",
      "text/plain": "   X\n0  7\n1  8\n2  9"
     },
     "execution_count": 6,
     "metadata": {},
     "output_type": "execute_result"
    }
   ],
   "source": [
    "# Test 5: Just returning a value\n",
    "df = pd.DataFrame({\"X\": [7, 8, 9]})\n",
    "df  # This should display in Jupyter"
   ]
  }
 ],
 "metadata": {
  "kernelspec": {
   "display_name": "Python 3",
   "language": "python",
   "name": "python3"
  },
  "language_info": {
   "name": "python",
   "version": "3.12"
  }
 },
 "nbformat": 4,
 "nbformat_minor": 5
}
