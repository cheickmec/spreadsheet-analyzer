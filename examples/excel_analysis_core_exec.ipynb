{
 "cells": [
  {
   "cell_type": "code",
   "execution_count": null,
   "id": "993e5cd8",
   "metadata": {},
   "outputs": [],
   "source": [
    "import osfrom pathlib import Pathimport pandas as pdprint(f\"Current working directory: {Path.cwd()}\")df = pd.read_excel(\"test_assets/generated/employee_records.xlsx\", sheet_name=0)print(f\"✅ Successfully loaded the first sheet\")# print(df.head())"
   ]
  },
  {
   "cell_type": "code",
   "execution_count": null,
   "id": "5350b19e",
   "metadata": {},
   "outputs": [],
   "source": [
    "df.describe()"
   ]
  },
  {
   "cell_type": "code",
   "execution_count": null,
   "id": "cc595c31",
   "metadata": {},
   "outputs": [],
   "source": [
    "df.info()"
   ]
  }
 ],
 "metadata": {
  "kernelspec": {
   "display_name": "Python 3",
   "name": "python3"
  }
 },
 "nbformat": 4,
 "nbformat_minor": 5
}
